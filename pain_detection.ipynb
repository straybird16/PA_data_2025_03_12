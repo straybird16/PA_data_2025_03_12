{
 "cells": [
  {
   "cell_type": "code",
   "execution_count": 25,
   "id": "53344429",
   "metadata": {},
   "outputs": [
    {
     "name": "stdout",
     "output_type": "stream",
     "text": [
      "The autoreload extension is already loaded. To reload it, use:\n",
      "  %reload_ext autoreload\n"
     ]
    }
   ],
   "source": [
    "%load_ext autoreload\n",
    "%autoreload 2\n",
    "import json\n",
    "import csv\n",
    "import os\n",
    "import itertools\n",
    "\n",
    "import pandas as pd\n",
    "import matplotlib.pyplot as plt\n",
    "import numpy as np\n",
    "import shap\n",
    "\n",
    "import numpy as np\n",
    "import torch\n",
    "from torch.utils.data import DataLoader, WeightedRandomSampler, TensorDataset\n",
    "from sklearn.impute import SimpleImputer\n",
    "from sklearn.preprocessing import StandardScaler\n",
    "from sklearn.pipeline import Pipeline\n",
    "from sklearn.svm import SVC\n",
    "from sklearn.ensemble import RandomForestClassifier, GradientBoostingClassifier\n",
    "from sklearn.neighbors import KNeighborsClassifier\n",
    "from sklearn.linear_model import LogisticRegression\n",
    "from sklearn.neural_network import MLPClassifier\n",
    "from sklearn.naive_bayes import GaussianNB\n",
    "from sklearn.metrics import (\n",
    "    f1_score,\n",
    "    balanced_accuracy_score,\n",
    "    classification_report\n",
    ")\n",
    "\n",
    "\n",
    "from xgboost import XGBClassifier"
   ]
  },
  {
   "cell_type": "code",
   "execution_count": null,
   "id": "54dd4dda",
   "metadata": {},
   "outputs": [],
   "source": [
    "df = pd.read_csv('self_report/007.csv')\n",
    "#(df['Timestamp']).astype('datetime64[us]')-np.timedelta64(4, 'h')\n",
    "#pd.to_datetime(df['Timestamp'], unit='us')\n",
    "pd.to_datetime(df['timestamp'])"
   ]
  },
  {
   "cell_type": "code",
   "execution_count": 11,
   "id": "2c8eaa23",
   "metadata": {},
   "outputs": [
    {
     "data": {
      "text/plain": [
       "' This code extracts each biomedical signal from the .csv file as a pandas dataframe,\\nand samples 3-second time windows to apply band-pass filter, ICA, and FFT to extract features from the window\\n'"
      ]
     },
     "execution_count": 11,
     "metadata": {},
     "output_type": "execute_result"
    }
   ],
   "source": [
    "\"\"\" This code extracts each biomedical signal from the .csv file as a pandas dataframe,\n",
    "and samples 3-second time windows to apply band-pass filter, ICA, and FFT to extract features from the window\n",
    "\"\"\""
   ]
  },
  {
   "cell_type": "code",
   "execution_count": 12,
   "id": "acc51326",
   "metadata": {},
   "outputs": [
    {
     "data": {
      "text/plain": [
       "'This is the pytorch dataset object that extracts\\n'"
      ]
     },
     "execution_count": 12,
     "metadata": {},
     "output_type": "execute_result"
    }
   ],
   "source": [
    "\"\"\"This is the pytorch dataset object that extracts\n",
    "\"\"\""
   ]
  },
  {
   "cell_type": "code",
   "execution_count": 24,
   "id": "db23b982",
   "metadata": {},
   "outputs": [],
   "source": [
    "from src.dataset_c import BiomedicalPainDataset"
   ]
  },
  {
   "cell_type": "code",
   "execution_count": null,
   "id": "3968be35",
   "metadata": {},
   "outputs": [],
   "source": [
    "# Load data\n",
    "subject=p=2\n",
    "signals_df = pd.read_csv(f'processed_signals/00{p}.csv')#[-16200:]\n",
    "#signals_df.drop(columns=['accelerometer_x',\t'accelerometer_y', 'accelerometer_z', 'gyroscope_x', 'gyroscope_y',\t'gyroscope_z'], inplace=True)\n",
    "pain_df = pd.read_csv(f'self_report/00{p}.csv')\n",
    "# Hyper-parameters\n",
    "\n",
    "window_duration=1.0\n",
    "step_size=1.0"
   ]
  },
  {
   "cell_type": "code",
   "execution_count": null,
   "id": "694898a5",
   "metadata": {},
   "outputs": [],
   "source": [
    "\"\"\"\n",
    "All experiment cases:\n",
    "    - Single subject cross-validation\n",
    "        - Leave one mode out (LOMO) cross-validation\n",
    "        - Stratified cross-validation\n",
    "    - Leave one subject out (LOSO) cross-validation\n",
    "\n",
    "    - All subjects cross-validation\n",
    "\"\"\""
   ]
  },
  {
   "cell_type": "code",
   "execution_count": null,
   "id": "4c721a91",
   "metadata": {},
   "outputs": [],
   "source": [
    "\"\"\" all_data_df = pd.DataFrame()\n",
    "for p in range(1, 8):\n",
    "    # Load signals and self-report data\n",
    "    signals_df = pd.read_csv(f'processed_signals/00{p}.csv')\n",
    "    signals_df['subject'] = p\n",
    "    # Merge all self-report data\n",
    "    all_data_df = pd.concat([all_data_df, signals_df], axis=0, ignore_index=True)\n",
    "    \n",
    "all_data_df.to_csv(f'processed_signals/all.csv', index=False) \"\"\""
   ]
  },
  {
   "cell_type": "code",
   "execution_count": null,
   "id": "afd9abe3",
   "metadata": {},
   "outputs": [],
   "source": [
    "# with SHAP\n",
    "def window_filter(df):\n",
    "    # filter windows from one single subject and one mode\n",
    "    return df['subject'].nunique() == 1 and df['Mode'].nunique() == 1\n",
    "\n",
    "# Load data\n",
    "subject=p=2\n",
    "signals_df = pd.read_csv(f'processed_signals/00{p}.csv')#[-16200:]\n",
    "#signals_df.drop(columns=['accelerometer_x',\t'accelerometer_y', 'accelerometer_z', 'gyroscope_x', 'gyroscope_y',\t'gyroscope_z'], inplace=True)\n",
    "pain_df = pd.read_csv(f'self_report/00{p}.csv')\n",
    "# Hyper-parameters\n",
    "\n",
    "window_duration=1.0\n",
    "step_size=1.0\n",
    "tonic_cutoff_freq = 0.05  # 20 Hz\n",
    "\n",
    "# 1) Instantiate and split your sliding-window pain dataset by 'Mode' groups\n",
    "ds = BiomedicalPainDataset(\n",
    "    signals_df=signals_df,\n",
    "    pain_df=pain_df,\n",
    "    timestamp_col='timestamp',\n",
    "    window_duration=window_duration,\n",
    "    step_size=step_size,\n",
    "    signal_columns=['eda','bvp','temperature'],\n",
    "    window_filter=window_filter,  # filter windows by subject and mode\n",
    "    bandpass_freqs=(0.5,40),\n",
    "    freq_bands=[(0.5,4),(4,8),(8,12),(12,30),(30,60)],\n",
    "    resample_freq=100,\n",
    "    include_tonic_phasic=True,\n",
    "    tonic_cutoff=tonic_cutoff_freq,\n",
    ")\n",
    "\n",
    "train_ds, test_ds = ds.split(test_size=0.2, split_by=['Mode']) # type: ignore\n",
    "#train_ds, test_ds = ds.split(test_size=0.2, stratify_by=['Mode']) # type: ignore\n",
    "train_ds.apply_scaling('standard', fit=True)\n",
    "test_ds.apply_scaling('standard', fit=False, scaler=train_ds.scaler)  # uses train_ds.scaler\n",
    "\n",
    "train_ds.process_nan('interpolate', 'linear')\n",
    "\n",
    "# 2) Helper to convert any BaseSlidingWindowDataset into X, Y NumPy arrays\n",
    "def dataset_to_numpy(dataset: torch.utils.data.Dataset):\n",
    "    loader = DataLoader(dataset, batch_size=64, shuffle=False)\n",
    "    X_parts, Y_parts = [], []\n",
    "    for Xb, Yb in loader:\n",
    "        X_parts.append(Xb)\n",
    "        Y_parts.append(Yb)\n",
    "    X = torch.cat(X_parts, dim=0).numpy()\n",
    "    Y = torch.cat(Y_parts, dim=0).flatten().numpy()\n",
    "    return X, Y\n",
    "\n",
    "X_train, y_train = dataset_to_numpy(train_ds)\n",
    "X_test,  y_test  = dataset_to_numpy(test_ds)\n",
    "\n",
    "# 3) (Optional) Balance your training set with a WeightedRandomSampler\n",
    "class_counts = np.bincount(y_train.astype(int))\n",
    "class_weights = 1.0 / class_counts\n",
    "sample_weights = class_weights[y_train.astype(int)]\n",
    "sampler = WeightedRandomSampler(sample_weights, num_samples=len(y_train), replacement=False) # type: ignore\n",
    "\n",
    "# Wrap balanced train set into a single batch\n",
    "train_loader = DataLoader(\n",
    "    TensorDataset(torch.tensor(X_train), torch.tensor(y_train)),\n",
    "    sampler=sampler,\n",
    "    batch_size=len(y_train)\n",
    ")\n",
    "X_train_bal, y_train_bal = next(iter(train_loader))\n",
    "X_train_bal = X_train_bal.numpy();  y_train_bal = y_train_bal.numpy()\n",
    "\n",
    "# 4) Define your modeling pipelines\n",
    "def make_pipeline(estimator):\n",
    "    return Pipeline([\n",
    "        ('impute', SimpleImputer(strategy='mean')),\n",
    "        ('scale',  StandardScaler()),\n",
    "        ('clf',    estimator)\n",
    "    ])\n",
    "\n",
    "models = {\n",
    "    #'SVM':               make_pipeline(SVC(kernel='rbf', probability=True, random_state=42)),\n",
    "    'RandomForest':      make_pipeline(RandomForestClassifier(n_estimators=100, random_state=42)),\n",
    "    #'GradientBoosting':  make_pipeline(GradientBoostingClassifier(random_state=42)),\n",
    "    'KNeighbors':        make_pipeline(KNeighborsClassifier(n_neighbors=5)),\n",
    "    'LogisticRegression':make_pipeline(LogisticRegression(max_iter=1000, random_state=42)),\n",
    "    'XGBoost':           make_pipeline(XGBClassifier(use_label_encoder=False, eval_metric='mlogloss', random_state=42)),\n",
    "    #'MLP':         make_pipeline(MLPClassifier(hidden_layer_sizes=(256,256,256,256), learning_rate='adaptive', max_iter=500, random_state=42)),\n",
    "        # requires tensorflow\n",
    "    'NaiveBayes':        make_pipeline(GaussianNB()),\n",
    "}\n",
    "\n",
    "# --- 0) Optionally subsample for SHAP speed ---\n",
    "# we'll take 1000 train and 500 test samples at random\n",
    "rng = np.random.RandomState(42)\n",
    "idx_train = rng.choice(len(X_train_bal), size=min(200, len(X_train_bal)), replace=False)\n",
    "idx_test  = rng.choice(len(X_test),      size=min(100,  len(X_test)),      replace=False)\n",
    "X_train_sub, y_train_sub = X_train_bal[idx_train], y_train_bal[idx_train]\n",
    "X_test_sub,  y_test_sub  = X_test[idx_test],    y_test[idx_test]\n",
    "\n",
    "#feature_names = [f\"f{i}\" for i in range(X_train.shape[1])]  # replace with real names if available\n",
    "feature_names = ds._generate_feature_names()  # use dataset's feature names\n",
    "\n",
    "# 5) Train & evaluate\n",
    "for name, pipe in models.items():\n",
    "    pipe.fit(X_train_bal, y_train_bal)\n",
    "    y_pred = pipe.predict(X_test)\n",
    "    print(f\"\\n=== {name} ===\")\n",
    "    \n",
    "    print(\"F1 (macro):\",            f1_score( y_test, y_pred, average='macro' ))\n",
    "    print(\"Balanced Accuracy:\",     balanced_accuracy_score(y_test, y_pred))\n",
    "    print(\"Classification Report:\\n\", classification_report(y_test, y_pred, digits=3))\n",
    "    \n",
    "    # Choose appropriate explainer\n",
    "    clf = pipe.named_steps['clf']\n",
    "    transformer = Pipeline(pipe.steps[:-1])  # imputer+scaler\n",
    "    X_train_trans = transformer.transform(X_train_sub)\n",
    "    X_test_trans  = transformer.transform(X_test_sub)\n",
    "    \n",
    "    if name in ('RandomForest','GradientBoosting','XGBoost'):\n",
    "        explainer = shap.TreeExplainer(clf, data=X_train_trans)\n",
    "    elif name in ('MLP'):\n",
    "        explainer = shap.DeepExplainer(clf, X_train_trans[:100])  # MLP needs a small background set\n",
    "    else:\n",
    "        # Kernel explainer on small background\n",
    "        explainer = shap.KernelExplainer(clf.predict_proba, X_train_trans[:100])\n",
    "        \n",
    "    # Compute SHAP values for class 1 (or mean over classes)\n",
    "    shap_values = explainer.shap_values(X_test_trans)\n",
    "    # shap_values is list of arrays if multiclass\n",
    "    if isinstance(shap_values, list):\n",
    "        # take class 1 explanations\n",
    "        sv = shap_values[1]\n",
    "    else:\n",
    "        sv = shap_values\n",
    "        \n",
    "    # Mean absolute importance per feature\n",
    "    # If sv is 2D, mean over samples only\n",
    "    if sv.ndim == 2:\n",
    "        mean_abs = np.abs(sv).mean(axis=0)\n",
    "    elif sv.ndim == 3:\n",
    "        mean_abs = np.abs(sv).mean(axis=(0, 2))\n",
    "    ranked_ix = np.argsort(-mean_abs) # type: ignore\n",
    "    print(\"Top features by mean(|SHAP|):\")\n",
    "    for i in ranked_ix[:15]:\n",
    "        print(f\"  {feature_names[i]:<15} : {mean_abs[i]:.4f}\") # type: ignore\n",
    "\n",
    "    # Optional: summary plot\n",
    "    \"\"\" shap.summary_plot(sv, X_test_trans, feature_names=feature_names, show=False)\n",
    "    plt.title(f\"SHAP summary for {name}\")\n",
    "    plt.tight_layout()\n",
    "    plt.show() \"\"\"\n"
   ]
  },
  {
   "cell_type": "code",
   "execution_count": 37,
   "id": "4f83f579",
   "metadata": {},
   "outputs": [
    {
     "name": "stdout",
     "output_type": "stream",
     "text": [
      "\n",
      "Running for params: {'subject': 2, 'tonic_cutoff': 0.05, 'window_duration': 0.5, 'step_size': 0.5, 'split_method': 'split'}\n",
      "\n",
      "=== RandomForest ===\n",
      "F1 (macro): 0.2308968827689566\n",
      "Balanced Accuracy: 0.45598082584582106\n",
      "Top features by mean(|SHAP|):\n",
      "  temperature_tonic_var     : 0.0328\n",
      "  bvp_tonic_var             : 0.0291\n",
      "  temperature_tonic_mean    : 0.0259\n",
      "Finished RandomForest {'subject': 2, 'tonic_cutoff': 0.05, 'window_duration': 0.5, 'step_size': 0.5, 'split_method': 'split'} → F1=0.231, BalAcc=0.456\n",
      "\n",
      "=== KNeighbors ===\n",
      "F1 (macro): 0.19378196744243456\n",
      "Balanced Accuracy: 0.3594609033655964\n"
     ]
    },
    {
     "name": "stderr",
     "output_type": "stream",
     "text": [
      "100%|██████████| 100/100 [00:40<00:00,  2.48it/s]\n"
     ]
    },
    {
     "name": "stdout",
     "output_type": "stream",
     "text": [
      "Top features by mean(|SHAP|):\n",
      "  temperature_phasic_mean   : 0.0310\n",
      "  temperature_phasic_var    : 0.0251\n",
      "  bvp_kurt                  : 0.0176\n",
      "Finished KNeighbors {'subject': 2, 'tonic_cutoff': 0.05, 'window_duration': 0.5, 'step_size': 0.5, 'split_method': 'split'} → F1=0.194, BalAcc=0.359\n",
      "\n",
      "=== LogisticRegression ===\n",
      "F1 (macro): 0.1939767457134194\n",
      "Balanced Accuracy: 0.4013206041372226\n"
     ]
    },
    {
     "name": "stderr",
     "output_type": "stream",
     "text": [
      "100%|██████████| 100/100 [00:06<00:00, 16.04it/s]\n",
      "/Users/xxd/Documents/PhD/PainAssessment/EmbracePlus/data/.venv/lib/python3.13/site-packages/xgboost/training.py:183: UserWarning: [02:55:25] WARNING: /Users/runner/work/xgboost/xgboost/src/learner.cc:738: \n",
      "Parameters: { \"use_label_encoder\" } are not used.\n",
      "\n",
      "  bst.update(dtrain, iteration=i, fobj=obj)\n"
     ]
    },
    {
     "name": "stdout",
     "output_type": "stream",
     "text": [
      "Top features by mean(|SHAP|):\n",
      "  bvp_30-45Hz               : 0.0644\n",
      "  temperature_slope         : 0.0629\n",
      "  bvp_phasic_var            : 0.0340\n",
      "Finished LogisticRegression {'subject': 2, 'tonic_cutoff': 0.05, 'window_duration': 0.5, 'step_size': 0.5, 'split_method': 'split'} → F1=0.194, BalAcc=0.401\n",
      "\n",
      "=== XGBoost ===\n",
      "F1 (macro): 0.24110460173940673\n",
      "Balanced Accuracy: 0.47994783827313564\n",
      "Top features by mean(|SHAP|):\n",
      "  temperature_tonic_var     : 0.8792\n",
      "  temperature_tonic_mean    : 0.4384\n",
      "  eda_phasic_mean           : 0.4184\n",
      "Finished XGBoost {'subject': 2, 'tonic_cutoff': 0.05, 'window_duration': 0.5, 'step_size': 0.5, 'split_method': 'split'} → F1=0.241, BalAcc=0.480\n",
      "\n",
      "=== NaiveBayes ===\n",
      "F1 (macro): 0.20164710744195868\n",
      "Balanced Accuracy: 0.20311443946127328\n"
     ]
    },
    {
     "name": "stderr",
     "output_type": "stream",
     "text": [
      "100%|██████████| 100/100 [00:17<00:00,  5.80it/s]\n"
     ]
    },
    {
     "name": "stdout",
     "output_type": "stream",
     "text": [
      "Top features by mean(|SHAP|):\n",
      "  bvp_tonic_var             : 0.0463\n",
      "  temperature_mean          : 0.0461\n",
      "  eda_phasic_var            : 0.0413\n",
      "Finished NaiveBayes {'subject': 2, 'tonic_cutoff': 0.05, 'window_duration': 0.5, 'step_size': 0.5, 'split_method': 'split'} → F1=0.202, BalAcc=0.203\n",
      "\n",
      "Running for params: {'subject': 2, 'tonic_cutoff': 0.05, 'window_duration': 0.5, 'step_size': 0.5, 'split_method': 'stratify'}\n",
      "\n",
      "=== RandomForest ===\n",
      "F1 (macro): 0.6042302331377879\n",
      "Balanced Accuracy: 0.6108762377419094\n",
      "Top features by mean(|SHAP|):\n",
      "  eda_phasic_mean           : 0.0413\n",
      "  temperature_tonic_mean    : 0.0250\n",
      "  bvp_mean                  : 0.0248\n",
      "Finished RandomForest {'subject': 2, 'tonic_cutoff': 0.05, 'window_duration': 0.5, 'step_size': 0.5, 'split_method': 'stratify'} → F1=0.604, BalAcc=0.611\n",
      "\n",
      "=== KNeighbors ===\n",
      "F1 (macro): 0.5211499694088699\n",
      "Balanced Accuracy: 0.517433162955551\n"
     ]
    },
    {
     "name": "stderr",
     "output_type": "stream",
     "text": [
      "100%|██████████| 100/100 [01:06<00:00,  1.51it/s]\n"
     ]
    },
    {
     "name": "stdout",
     "output_type": "stream",
     "text": [
      "Top features by mean(|SHAP|):\n",
      "  temperature_phasic_mean   : 0.0429\n",
      "  temperature_phasic_var    : 0.0342\n",
      "  bvp_slope                 : 0.0301\n",
      "Finished KNeighbors {'subject': 2, 'tonic_cutoff': 0.05, 'window_duration': 0.5, 'step_size': 0.5, 'split_method': 'stratify'} → F1=0.521, BalAcc=0.517\n",
      "\n",
      "=== LogisticRegression ===\n",
      "F1 (macro): 0.46064301080754744\n",
      "Balanced Accuracy: 0.4784949710322845\n"
     ]
    },
    {
     "name": "stderr",
     "output_type": "stream",
     "text": [
      "100%|██████████| 100/100 [00:06<00:00, 16.42it/s]\n",
      "/Users/xxd/Documents/PhD/PainAssessment/EmbracePlus/data/.venv/lib/python3.13/site-packages/xgboost/training.py:183: UserWarning: [02:57:35] WARNING: /Users/runner/work/xgboost/xgboost/src/learner.cc:738: \n",
      "Parameters: { \"use_label_encoder\" } are not used.\n",
      "\n",
      "  bst.update(dtrain, iteration=i, fobj=obj)\n"
     ]
    },
    {
     "name": "stdout",
     "output_type": "stream",
     "text": [
      "Top features by mean(|SHAP|):\n",
      "  temperature_slope         : 0.1402\n",
      "  bvp_30-45Hz               : 0.1184\n",
      "  eda_8-12Hz                : 0.0762\n",
      "Finished LogisticRegression {'subject': 2, 'tonic_cutoff': 0.05, 'window_duration': 0.5, 'step_size': 0.5, 'split_method': 'stratify'} → F1=0.461, BalAcc=0.478\n",
      "\n",
      "=== XGBoost ===\n",
      "F1 (macro): 0.640203107281965\n",
      "Balanced Accuracy: 0.6336607978399024\n",
      "Top features by mean(|SHAP|):\n",
      "  temperature_tonic_var     : 0.5202\n",
      "  eda_phasic_mean           : 0.4845\n",
      "  bvp_mean                  : 0.2988\n",
      "Finished XGBoost {'subject': 2, 'tonic_cutoff': 0.05, 'window_duration': 0.5, 'step_size': 0.5, 'split_method': 'stratify'} → F1=0.640, BalAcc=0.634\n",
      "\n",
      "=== NaiveBayes ===\n",
      "F1 (macro): 0.16681786423559106\n",
      "Balanced Accuracy: 0.4035045415642431\n"
     ]
    },
    {
     "name": "stderr",
     "output_type": "stream",
     "text": [
      "100%|██████████| 100/100 [00:17<00:00,  5.86it/s]\n"
     ]
    },
    {
     "name": "stdout",
     "output_type": "stream",
     "text": [
      "Top features by mean(|SHAP|):\n",
      "  bvp_tonic_var             : 0.0256\n",
      "  eda_phasic_var            : 0.0250\n",
      "  eda_kurt                  : 0.0198\n",
      "Finished NaiveBayes {'subject': 2, 'tonic_cutoff': 0.05, 'window_duration': 0.5, 'step_size': 0.5, 'split_method': 'stratify'} → F1=0.167, BalAcc=0.404\n",
      "\n",
      "Running for params: {'subject': 2, 'tonic_cutoff': 0.05, 'window_duration': 0.5, 'step_size': 1.0, 'split_method': 'split'}\n",
      "\n",
      "=== RandomForest ===\n",
      "F1 (macro): 0.19740394746193865\n",
      "Balanced Accuracy: 0.3963251156690896\n",
      "Top features by mean(|SHAP|):\n",
      "  bvp_tonic_var             : 0.0295\n",
      "  temperature_tonic_mean    : 0.0277\n",
      "  temperature_tonic_var     : 0.0263\n",
      "Finished RandomForest {'subject': 2, 'tonic_cutoff': 0.05, 'window_duration': 0.5, 'step_size': 1.0, 'split_method': 'split'} → F1=0.197, BalAcc=0.396\n",
      "\n",
      "=== KNeighbors ===\n",
      "F1 (macro): 0.19462944983818772\n",
      "Balanced Accuracy: 0.36741289432540986\n"
     ]
    },
    {
     "name": "stderr",
     "output_type": "stream",
     "text": [
      "100%|██████████| 100/100 [00:24<00:00,  4.07it/s]\n"
     ]
    },
    {
     "name": "stdout",
     "output_type": "stream",
     "text": [
      "Top features by mean(|SHAP|):\n",
      "  temperature_phasic_var    : 0.0273\n",
      "  temperature_phasic_mean   : 0.0270\n",
      "  eda_tonic_mean            : 0.0246\n",
      "Finished KNeighbors {'subject': 2, 'tonic_cutoff': 0.05, 'window_duration': 0.5, 'step_size': 1.0, 'split_method': 'split'} → F1=0.195, BalAcc=0.367\n",
      "\n",
      "=== LogisticRegression ===\n",
      "F1 (macro): 0.21606670868025482\n",
      "Balanced Accuracy: 0.4153774849756744\n"
     ]
    },
    {
     "name": "stderr",
     "output_type": "stream",
     "text": [
      "100%|██████████| 100/100 [00:06<00:00, 16.32it/s]\n",
      "/Users/xxd/Documents/PhD/PainAssessment/EmbracePlus/data/.venv/lib/python3.13/site-packages/xgboost/training.py:183: UserWarning: [02:58:43] WARNING: /Users/runner/work/xgboost/xgboost/src/learner.cc:738: \n",
      "Parameters: { \"use_label_encoder\" } are not used.\n",
      "\n",
      "  bst.update(dtrain, iteration=i, fobj=obj)\n"
     ]
    },
    {
     "name": "stdout",
     "output_type": "stream",
     "text": [
      "Top features by mean(|SHAP|):\n",
      "  bvp_30-45Hz               : 0.0458\n",
      "  temperature_slope         : 0.0325\n",
      "  bvp_phasic_mean           : 0.0270\n",
      "Finished LogisticRegression {'subject': 2, 'tonic_cutoff': 0.05, 'window_duration': 0.5, 'step_size': 1.0, 'split_method': 'split'} → F1=0.216, BalAcc=0.415\n",
      "\n",
      "=== XGBoost ===\n",
      "F1 (macro): 0.22871661095453452\n",
      "Balanced Accuracy: 0.47857383491527744\n",
      "Top features by mean(|SHAP|):\n",
      "  temperature_tonic_mean    : 0.5953\n",
      "  eda_tonic_var             : 0.4844\n",
      "  eda_tonic_mean            : 0.3582\n",
      "Finished XGBoost {'subject': 2, 'tonic_cutoff': 0.05, 'window_duration': 0.5, 'step_size': 1.0, 'split_method': 'split'} → F1=0.229, BalAcc=0.479\n",
      "\n",
      "=== NaiveBayes ===\n",
      "F1 (macro): 0.19703153146416033\n",
      "Balanced Accuracy: 0.27687749870999534\n"
     ]
    },
    {
     "name": "stderr",
     "output_type": "stream",
     "text": [
      "100%|██████████| 100/100 [00:17<00:00,  5.84it/s]\n"
     ]
    },
    {
     "name": "stdout",
     "output_type": "stream",
     "text": [
      "Top features by mean(|SHAP|):\n",
      "  eda_tonic_var             : 0.0807\n",
      "  eda_tonic_mean            : 0.0551\n",
      "  temperature_mean          : 0.0350\n",
      "Finished NaiveBayes {'subject': 2, 'tonic_cutoff': 0.05, 'window_duration': 0.5, 'step_size': 1.0, 'split_method': 'split'} → F1=0.197, BalAcc=0.277\n",
      "\n",
      "Running for params: {'subject': 2, 'tonic_cutoff': 0.05, 'window_duration': 0.5, 'step_size': 1.0, 'split_method': 'stratify'}\n",
      "\n",
      "=== RandomForest ===\n",
      "F1 (macro): 0.6221897945475181\n",
      "Balanced Accuracy: 0.6196492058770562\n",
      "Top features by mean(|SHAP|):\n",
      "  eda_phasic_mean           : 0.0315\n",
      "  bvp_mean                  : 0.0236\n",
      "  temperature_tonic_mean    : 0.0222\n",
      "Finished RandomForest {'subject': 2, 'tonic_cutoff': 0.05, 'window_duration': 0.5, 'step_size': 1.0, 'split_method': 'stratify'} → F1=0.622, BalAcc=0.620\n",
      "\n",
      "=== KNeighbors ===\n",
      "F1 (macro): 0.5237534556250085\n",
      "Balanced Accuracy: 0.5222753053968794\n"
     ]
    },
    {
     "name": "stderr",
     "output_type": "stream",
     "text": [
      "100%|██████████| 100/100 [00:39<00:00,  2.53it/s]\n"
     ]
    },
    {
     "name": "stdout",
     "output_type": "stream",
     "text": [
      "Top features by mean(|SHAP|):\n",
      "  temperature_phasic_var    : 0.0345\n",
      "  temperature_phasic_mean   : 0.0281\n",
      "  bvp_slope                 : 0.0267\n",
      "Finished KNeighbors {'subject': 2, 'tonic_cutoff': 0.05, 'window_duration': 0.5, 'step_size': 1.0, 'split_method': 'stratify'} → F1=0.524, BalAcc=0.522\n",
      "\n",
      "=== LogisticRegression ===\n",
      "F1 (macro): 0.47181948303443627\n",
      "Balanced Accuracy: 0.4885409141772546\n"
     ]
    },
    {
     "name": "stderr",
     "output_type": "stream",
     "text": [
      "100%|██████████| 100/100 [00:06<00:00, 16.39it/s]\n",
      "/Users/xxd/Documents/PhD/PainAssessment/EmbracePlus/data/.venv/lib/python3.13/site-packages/xgboost/training.py:183: UserWarning: [03:00:08] WARNING: /Users/runner/work/xgboost/xgboost/src/learner.cc:738: \n",
      "Parameters: { \"use_label_encoder\" } are not used.\n",
      "\n",
      "  bst.update(dtrain, iteration=i, fobj=obj)\n"
     ]
    },
    {
     "name": "stdout",
     "output_type": "stream",
     "text": [
      "Top features by mean(|SHAP|):\n",
      "  temperature_slope         : 0.1450\n",
      "  bvp_30-45Hz               : 0.1129\n",
      "  eda_0.5-4Hz               : 0.0686\n",
      "Finished LogisticRegression {'subject': 2, 'tonic_cutoff': 0.05, 'window_duration': 0.5, 'step_size': 1.0, 'split_method': 'stratify'} → F1=0.472, BalAcc=0.489\n",
      "\n",
      "=== XGBoost ===\n",
      "F1 (macro): 0.6060380013525318\n",
      "Balanced Accuracy: 0.6099058465012658\n",
      "Top features by mean(|SHAP|):\n",
      "  eda_phasic_mean           : 0.5417\n",
      "  bvp_mean                  : 0.4338\n",
      "  temperature_tonic_var     : 0.3478\n",
      "Finished XGBoost {'subject': 2, 'tonic_cutoff': 0.05, 'window_duration': 0.5, 'step_size': 1.0, 'split_method': 'stratify'} → F1=0.606, BalAcc=0.610\n",
      "\n",
      "=== NaiveBayes ===\n",
      "F1 (macro): 0.24628046656177327\n",
      "Balanced Accuracy: 0.45260556098528304\n"
     ]
    },
    {
     "name": "stderr",
     "output_type": "stream",
     "text": [
      "100%|██████████| 100/100 [00:17<00:00,  5.79it/s]\n"
     ]
    },
    {
     "name": "stdout",
     "output_type": "stream",
     "text": [
      "Top features by mean(|SHAP|):\n",
      "  eda_tonic_var             : 0.0568\n",
      "  temperature_mean          : 0.0416\n",
      "  bvp_zero_cross            : 0.0305\n",
      "Finished NaiveBayes {'subject': 2, 'tonic_cutoff': 0.05, 'window_duration': 0.5, 'step_size': 1.0, 'split_method': 'stratify'} → F1=0.246, BalAcc=0.453\n",
      "\n",
      "Running for params: {'subject': 2, 'tonic_cutoff': 0.05, 'window_duration': 0.5, 'step_size': 5.0, 'split_method': 'split'}\n",
      "\n",
      "=== RandomForest ===\n",
      "F1 (macro): 0.22488888888888892\n",
      "Balanced Accuracy: 0.3891304347826087\n",
      "Top features by mean(|SHAP|):\n",
      "  temperature_tonic_var     : 0.0219\n",
      "  bvp_tonic_var             : 0.0213\n",
      "  temperature_tonic_mean    : 0.0199\n",
      "Finished RandomForest {'subject': 2, 'tonic_cutoff': 0.05, 'window_duration': 0.5, 'step_size': 5.0, 'split_method': 'split'} → F1=0.225, BalAcc=0.389\n",
      "\n",
      "=== KNeighbors ===\n",
      "F1 (macro): 0.15663801337153774\n",
      "Balanced Accuracy: 0.2971014492753623\n"
     ]
    },
    {
     "name": "stderr",
     "output_type": "stream",
     "text": [
      "100%|██████████| 100/100 [00:09<00:00, 10.13it/s]\n"
     ]
    },
    {
     "name": "stdout",
     "output_type": "stream",
     "text": [
      "Top features by mean(|SHAP|):\n",
      "  temperature_phasic_mean   : 0.0256\n",
      "  temperature_phasic_var    : 0.0244\n",
      "  eda_mean                  : 0.0210\n",
      "Finished KNeighbors {'subject': 2, 'tonic_cutoff': 0.05, 'window_duration': 0.5, 'step_size': 5.0, 'split_method': 'split'} → F1=0.157, BalAcc=0.297\n",
      "\n",
      "=== LogisticRegression ===\n",
      "F1 (macro): 0.16292134831460672\n",
      "Balanced Accuracy: 0.31521739130434784\n"
     ]
    },
    {
     "name": "stderr",
     "output_type": "stream",
     "text": [
      "100%|██████████| 100/100 [00:06<00:00, 16.56it/s]\n",
      "/Users/xxd/Documents/PhD/PainAssessment/EmbracePlus/data/.venv/lib/python3.13/site-packages/xgboost/training.py:183: UserWarning: [03:00:48] WARNING: /Users/runner/work/xgboost/xgboost/src/learner.cc:738: \n",
      "Parameters: { \"use_label_encoder\" } are not used.\n",
      "\n",
      "  bst.update(dtrain, iteration=i, fobj=obj)\n"
     ]
    },
    {
     "name": "stdout",
     "output_type": "stream",
     "text": [
      "Top features by mean(|SHAP|):\n",
      "  bvp_8-12Hz                : 0.0508\n",
      "  bvp_30-45Hz               : 0.0276\n",
      "  bvp_phasic_var            : 0.0250\n",
      "Finished LogisticRegression {'subject': 2, 'tonic_cutoff': 0.05, 'window_duration': 0.5, 'step_size': 5.0, 'split_method': 'split'} → F1=0.163, BalAcc=0.315\n",
      "\n",
      "=== XGBoost ===\n",
      "F1 (macro): 0.21078025916735596\n",
      "Balanced Accuracy: 0.3891304347826087\n",
      "Top features by mean(|SHAP|):\n",
      "  temperature_tonic_var     : 0.4203\n",
      "  temperature_tonic_mean    : 0.3424\n",
      "  bvp_min                   : 0.2946\n",
      "Finished XGBoost {'subject': 2, 'tonic_cutoff': 0.05, 'window_duration': 0.5, 'step_size': 5.0, 'split_method': 'split'} → F1=0.211, BalAcc=0.389\n",
      "\n",
      "=== NaiveBayes ===\n",
      "F1 (macro): 0.16944426256066336\n",
      "Balanced Accuracy: 0.31476591547158356\n"
     ]
    },
    {
     "name": "stderr",
     "output_type": "stream",
     "text": [
      "100%|██████████| 100/100 [00:16<00:00,  5.93it/s]\n"
     ]
    },
    {
     "name": "stdout",
     "output_type": "stream",
     "text": [
      "Top features by mean(|SHAP|):\n",
      "  eda_tonic_var             : 0.0723\n",
      "  eda_tonic_mean            : 0.0550\n",
      "  bvp_0.5-4Hz               : 0.0347\n",
      "Finished NaiveBayes {'subject': 2, 'tonic_cutoff': 0.05, 'window_duration': 0.5, 'step_size': 5.0, 'split_method': 'split'} → F1=0.169, BalAcc=0.315\n",
      "\n",
      "Running for params: {'subject': 2, 'tonic_cutoff': 0.05, 'window_duration': 0.5, 'step_size': 5.0, 'split_method': 'stratify'}\n",
      "\n",
      "=== RandomForest ===\n",
      "F1 (macro): 0.5197712418300654\n",
      "Balanced Accuracy: 0.5297196892941574\n",
      "Top features by mean(|SHAP|):\n",
      "  eda_phasic_mean           : 0.0319\n",
      "  bvp_mean                  : 0.0234\n",
      "  temperature_tonic_mean    : 0.0205\n",
      "Finished RandomForest {'subject': 2, 'tonic_cutoff': 0.05, 'window_duration': 0.5, 'step_size': 5.0, 'split_method': 'stratify'} → F1=0.520, BalAcc=0.530\n",
      "\n",
      "=== KNeighbors ===\n",
      "F1 (macro): 0.4619364375461936\n",
      "Balanced Accuracy: 0.46960486322188455\n"
     ]
    },
    {
     "name": "stderr",
     "output_type": "stream",
     "text": [
      "100%|██████████| 94/94 [00:13<00:00,  7.12it/s]\n"
     ]
    },
    {
     "name": "stdout",
     "output_type": "stream",
     "text": [
      "Top features by mean(|SHAP|):\n",
      "  temperature_phasic_var    : 0.0327\n",
      "  bvp_slope                 : 0.0240\n",
      "  temperature_phasic_mean   : 0.0231\n",
      "Finished KNeighbors {'subject': 2, 'tonic_cutoff': 0.05, 'window_duration': 0.5, 'step_size': 5.0, 'split_method': 'stratify'} → F1=0.462, BalAcc=0.470\n",
      "\n",
      "=== LogisticRegression ===\n",
      "F1 (macro): 0.3638286173497441\n",
      "Balanced Accuracy: 0.3760553866936846\n"
     ]
    },
    {
     "name": "stderr",
     "output_type": "stream",
     "text": [
      "100%|██████████| 94/94 [00:06<00:00, 15.28it/s]\n",
      "/Users/xxd/Documents/PhD/PainAssessment/EmbracePlus/data/.venv/lib/python3.13/site-packages/xgboost/training.py:183: UserWarning: [03:01:30] WARNING: /Users/runner/work/xgboost/xgboost/src/learner.cc:738: \n",
      "Parameters: { \"use_label_encoder\" } are not used.\n",
      "\n",
      "  bst.update(dtrain, iteration=i, fobj=obj)\n"
     ]
    },
    {
     "name": "stdout",
     "output_type": "stream",
     "text": [
      "Top features by mean(|SHAP|):\n",
      "  temperature_slope         : 0.1200\n",
      "  eda_phasic_mean           : 0.0679\n",
      "  bvp_slope                 : 0.0515\n",
      "Finished LogisticRegression {'subject': 2, 'tonic_cutoff': 0.05, 'window_duration': 0.5, 'step_size': 5.0, 'split_method': 'stratify'} → F1=0.364, BalAcc=0.376\n",
      "\n",
      "=== XGBoost ===\n",
      "F1 (macro): 0.6622636622636623\n",
      "Balanced Accuracy: 0.670145221209051\n",
      "Top features by mean(|SHAP|):\n",
      "  eda_phasic_mean           : 0.5569\n",
      "  bvp_mean                  : 0.3836\n",
      "  temperature_tonic_var     : 0.3642\n",
      "Finished XGBoost {'subject': 2, 'tonic_cutoff': 0.05, 'window_duration': 0.5, 'step_size': 5.0, 'split_method': 'stratify'} → F1=0.662, BalAcc=0.670\n",
      "\n",
      "=== NaiveBayes ===\n",
      "F1 (macro): 0.2116121426466254\n",
      "Balanced Accuracy: 0.4376899696048632\n"
     ]
    },
    {
     "name": "stderr",
     "output_type": "stream",
     "text": [
      "100%|██████████| 94/94 [00:16<00:00,  5.78it/s]\n"
     ]
    },
    {
     "name": "stdout",
     "output_type": "stream",
     "text": [
      "Top features by mean(|SHAP|):\n",
      "  eda_tonic_var             : 0.0500\n",
      "  temperature_mean          : 0.0457\n",
      "  bvp_zero_cross            : 0.0212\n",
      "Finished NaiveBayes {'subject': 2, 'tonic_cutoff': 0.05, 'window_duration': 0.5, 'step_size': 5.0, 'split_method': 'stratify'} → F1=0.212, BalAcc=0.438\n",
      "\n",
      "Running for params: {'subject': 2, 'tonic_cutoff': 0.05, 'window_duration': 1.0, 'step_size': 0.5, 'split_method': 'split'}\n",
      "\n",
      "=== RandomForest ===\n",
      "F1 (macro): 0.1978545838504102\n",
      "Balanced Accuracy: 0.3676174442011955\n",
      "Top features by mean(|SHAP|):\n",
      "  bvp_tonic_var             : 0.0284\n",
      "  temperature_tonic_var     : 0.0264\n",
      "  eda_phasic_mean           : 0.0171\n",
      "Finished RandomForest {'subject': 2, 'tonic_cutoff': 0.05, 'window_duration': 1.0, 'step_size': 0.5, 'split_method': 'split'} → F1=0.198, BalAcc=0.368\n",
      "\n",
      "=== KNeighbors ===\n",
      "F1 (macro): 0.1981101433590318\n",
      "Balanced Accuracy: 0.3922685161243366\n"
     ]
    },
    {
     "name": "stderr",
     "output_type": "stream",
     "text": [
      "100%|██████████| 100/100 [00:38<00:00,  2.60it/s]\n"
     ]
    },
    {
     "name": "stdout",
     "output_type": "stream",
     "text": [
      "Top features by mean(|SHAP|):\n",
      "  temperature_phasic_var    : 0.0341\n",
      "  eda_mean                  : 0.0278\n",
      "  temperature_phasic_mean   : 0.0186\n",
      "Finished KNeighbors {'subject': 2, 'tonic_cutoff': 0.05, 'window_duration': 1.0, 'step_size': 0.5, 'split_method': 'split'} → F1=0.198, BalAcc=0.392\n",
      "\n",
      "=== LogisticRegression ===\n",
      "F1 (macro): 0.19186053332394795\n",
      "Balanced Accuracy: 0.4091479457599676\n"
     ]
    },
    {
     "name": "stderr",
     "output_type": "stream",
     "text": [
      "100%|██████████| 100/100 [00:06<00:00, 15.88it/s]\n",
      "/Users/xxd/Documents/PhD/PainAssessment/EmbracePlus/data/.venv/lib/python3.13/site-packages/xgboost/training.py:183: UserWarning: [03:03:05] WARNING: /Users/runner/work/xgboost/xgboost/src/learner.cc:738: \n",
      "Parameters: { \"use_label_encoder\" } are not used.\n",
      "\n",
      "  bst.update(dtrain, iteration=i, fobj=obj)\n"
     ]
    },
    {
     "name": "stdout",
     "output_type": "stream",
     "text": [
      "Top features by mean(|SHAP|):\n",
      "  temperature_slope         : 0.0681\n",
      "  eda_0.5-4Hz               : 0.0366\n",
      "  eda_4-8Hz                 : 0.0355\n",
      "Finished LogisticRegression {'subject': 2, 'tonic_cutoff': 0.05, 'window_duration': 1.0, 'step_size': 0.5, 'split_method': 'split'} → F1=0.192, BalAcc=0.409\n",
      "\n",
      "=== XGBoost ===\n",
      "F1 (macro): 0.25365272253607785\n",
      "Balanced Accuracy: 0.43242916254069313\n",
      "Top features by mean(|SHAP|):\n",
      "  temperature_tonic_mean    : 0.4324\n",
      "  temperature_tonic_var     : 0.3701\n",
      "  eda_phasic_mean           : 0.3656\n",
      "Finished XGBoost {'subject': 2, 'tonic_cutoff': 0.05, 'window_duration': 1.0, 'step_size': 0.5, 'split_method': 'split'} → F1=0.254, BalAcc=0.432\n",
      "\n",
      "=== NaiveBayes ===\n",
      "F1 (macro): 0.20715914074297395\n",
      "Balanced Accuracy: 0.1818114955209644\n"
     ]
    },
    {
     "name": "stderr",
     "output_type": "stream",
     "text": [
      "100%|██████████| 100/100 [00:17<00:00,  5.85it/s]\n"
     ]
    },
    {
     "name": "stdout",
     "output_type": "stream",
     "text": [
      "Top features by mean(|SHAP|):\n",
      "  eda_phasic_var            : 0.0553\n",
      "  temperature_tonic_mean    : 0.0436\n",
      "  bvp_tonic_var             : 0.0427\n",
      "Finished NaiveBayes {'subject': 2, 'tonic_cutoff': 0.05, 'window_duration': 1.0, 'step_size': 0.5, 'split_method': 'split'} → F1=0.207, BalAcc=0.182\n",
      "\n",
      "Running for params: {'subject': 2, 'tonic_cutoff': 0.05, 'window_duration': 1.0, 'step_size': 0.5, 'split_method': 'stratify'}\n",
      "\n",
      "=== RandomForest ===\n",
      "F1 (macro): 0.6078143345201306\n",
      "Balanced Accuracy: 0.6208703255313425\n",
      "Top features by mean(|SHAP|):\n",
      "  eda_phasic_mean           : 0.0491\n",
      "  bvp_mean                  : 0.0217\n",
      "  bvp_skew                  : 0.0201\n",
      "Finished RandomForest {'subject': 2, 'tonic_cutoff': 0.05, 'window_duration': 1.0, 'step_size': 0.5, 'split_method': 'stratify'} → F1=0.608, BalAcc=0.621\n",
      "\n",
      "=== KNeighbors ===\n",
      "F1 (macro): 0.520718462823726\n",
      "Balanced Accuracy: 0.5217479475954052\n"
     ]
    },
    {
     "name": "stderr",
     "output_type": "stream",
     "text": [
      "100%|██████████| 100/100 [01:06<00:00,  1.50it/s]\n"
     ]
    },
    {
     "name": "stdout",
     "output_type": "stream",
     "text": [
      "Top features by mean(|SHAP|):\n",
      "  temperature_phasic_mean   : 0.0528\n",
      "  temperature_phasic_var    : 0.0517\n",
      "  temperature_30-45Hz       : 0.0343\n",
      "Finished KNeighbors {'subject': 2, 'tonic_cutoff': 0.05, 'window_duration': 1.0, 'step_size': 0.5, 'split_method': 'stratify'} → F1=0.521, BalAcc=0.522\n",
      "\n",
      "=== LogisticRegression ===\n",
      "F1 (macro): 0.5059604634458637\n",
      "Balanced Accuracy: 0.5246105118986475\n"
     ]
    },
    {
     "name": "stderr",
     "output_type": "stream",
     "text": [
      "100%|██████████| 100/100 [00:06<00:00, 16.23it/s]\n",
      "/Users/xxd/Documents/PhD/PainAssessment/EmbracePlus/data/.venv/lib/python3.13/site-packages/xgboost/training.py:183: UserWarning: [03:05:14] WARNING: /Users/runner/work/xgboost/xgboost/src/learner.cc:738: \n",
      "Parameters: { \"use_label_encoder\" } are not used.\n",
      "\n",
      "  bst.update(dtrain, iteration=i, fobj=obj)\n"
     ]
    },
    {
     "name": "stdout",
     "output_type": "stream",
     "text": [
      "Top features by mean(|SHAP|):\n",
      "  temperature_slope         : 0.2402\n",
      "  eda_0.5-4Hz               : 0.1280\n",
      "  eda_4-8Hz                 : 0.0966\n",
      "Finished LogisticRegression {'subject': 2, 'tonic_cutoff': 0.05, 'window_duration': 1.0, 'step_size': 0.5, 'split_method': 'stratify'} → F1=0.506, BalAcc=0.525\n",
      "\n",
      "=== XGBoost ===\n",
      "F1 (macro): 0.6566611181759595\n",
      "Balanced Accuracy: 0.6500843788979382\n",
      "Top features by mean(|SHAP|):\n",
      "  eda_phasic_mean           : 0.5856\n",
      "  temperature_tonic_var     : 0.4731\n",
      "  bvp_mean                  : 0.4302\n",
      "Finished XGBoost {'subject': 2, 'tonic_cutoff': 0.05, 'window_duration': 1.0, 'step_size': 0.5, 'split_method': 'stratify'} → F1=0.657, BalAcc=0.650\n",
      "\n",
      "=== NaiveBayes ===\n",
      "F1 (macro): 0.1880516874829914\n",
      "Balanced Accuracy: 0.4037895092979838\n"
     ]
    },
    {
     "name": "stderr",
     "output_type": "stream",
     "text": [
      "100%|██████████| 100/100 [00:16<00:00,  5.91it/s]\n"
     ]
    },
    {
     "name": "stdout",
     "output_type": "stream",
     "text": [
      "Top features by mean(|SHAP|):\n",
      "  eda_tonic_var             : 0.0342\n",
      "  bvp_tonic_var             : 0.0301\n",
      "  bvp_zero_cross            : 0.0215\n",
      "Finished NaiveBayes {'subject': 2, 'tonic_cutoff': 0.05, 'window_duration': 1.0, 'step_size': 0.5, 'split_method': 'stratify'} → F1=0.188, BalAcc=0.404\n",
      "\n",
      "Running for params: {'subject': 2, 'tonic_cutoff': 0.05, 'window_duration': 1.0, 'step_size': 1.0, 'split_method': 'split'}\n",
      "\n",
      "=== RandomForest ===\n",
      "F1 (macro): 0.19892169281236805\n",
      "Balanced Accuracy: 0.3681869642568332\n",
      "Top features by mean(|SHAP|):\n",
      "  eda_tonic_var             : 0.0288\n",
      "  bvp_tonic_var             : 0.0234\n",
      "  eda_tonic_mean            : 0.0180\n",
      "Finished RandomForest {'subject': 2, 'tonic_cutoff': 0.05, 'window_duration': 1.0, 'step_size': 1.0, 'split_method': 'split'} → F1=0.199, BalAcc=0.368\n",
      "\n",
      "=== KNeighbors ===\n",
      "F1 (macro): 0.18697728577565442\n",
      "Balanced Accuracy: 0.339427516818358\n"
     ]
    },
    {
     "name": "stderr",
     "output_type": "stream",
     "text": [
      "100%|██████████| 100/100 [00:26<00:00,  3.81it/s]\n"
     ]
    },
    {
     "name": "stdout",
     "output_type": "stream",
     "text": [
      "Top features by mean(|SHAP|):\n",
      "  temperature_phasic_var    : 0.0318\n",
      "  temperature_phasic_mean   : 0.0252\n",
      "  eda_mean                  : 0.0237\n",
      "Finished KNeighbors {'subject': 2, 'tonic_cutoff': 0.05, 'window_duration': 1.0, 'step_size': 1.0, 'split_method': 'split'} → F1=0.187, BalAcc=0.339\n",
      "\n",
      "=== LogisticRegression ===\n",
      "F1 (macro): 0.1822291636503437\n",
      "Balanced Accuracy: 0.3652220149104606\n"
     ]
    },
    {
     "name": "stderr",
     "output_type": "stream",
     "text": [
      "100%|██████████| 100/100 [00:06<00:00, 15.79it/s]\n",
      "/Users/xxd/Documents/PhD/PainAssessment/EmbracePlus/data/.venv/lib/python3.13/site-packages/xgboost/training.py:183: UserWarning: [03:06:24] WARNING: /Users/runner/work/xgboost/xgboost/src/learner.cc:738: \n",
      "Parameters: { \"use_label_encoder\" } are not used.\n",
      "\n",
      "  bst.update(dtrain, iteration=i, fobj=obj)\n"
     ]
    },
    {
     "name": "stdout",
     "output_type": "stream",
     "text": [
      "Top features by mean(|SHAP|):\n",
      "  temperature_slope         : 0.0433\n",
      "  temperature_kurt          : 0.0345\n",
      "  temperature_30-45Hz       : 0.0315\n",
      "Finished LogisticRegression {'subject': 2, 'tonic_cutoff': 0.05, 'window_duration': 1.0, 'step_size': 1.0, 'split_method': 'split'} → F1=0.182, BalAcc=0.365\n",
      "\n",
      "=== XGBoost ===\n",
      "F1 (macro): 0.23419826557869639\n",
      "Balanced Accuracy: 0.425149059537591\n",
      "Top features by mean(|SHAP|):\n",
      "  eda_tonic_var             : 0.7123\n",
      "  eda_phasic_mean           : 0.6026\n",
      "  eda_tonic_mean            : 0.3969\n",
      "Finished XGBoost {'subject': 2, 'tonic_cutoff': 0.05, 'window_duration': 1.0, 'step_size': 1.0, 'split_method': 'split'} → F1=0.234, BalAcc=0.425\n",
      "\n",
      "=== NaiveBayes ===\n",
      "F1 (macro): 0.19217214264641944\n",
      "Balanced Accuracy: 0.19340792815278418\n"
     ]
    },
    {
     "name": "stderr",
     "output_type": "stream",
     "text": [
      "100%|██████████| 100/100 [00:17<00:00,  5.75it/s]\n"
     ]
    },
    {
     "name": "stdout",
     "output_type": "stream",
     "text": [
      "Top features by mean(|SHAP|):\n",
      "  eda_tonic_var             : 0.0647\n",
      "  bvp_tonic_var             : 0.0378\n",
      "  bvp_zero_cross            : 0.0352\n",
      "Finished NaiveBayes {'subject': 2, 'tonic_cutoff': 0.05, 'window_duration': 1.0, 'step_size': 1.0, 'split_method': 'split'} → F1=0.192, BalAcc=0.193\n",
      "\n",
      "Running for params: {'subject': 2, 'tonic_cutoff': 0.05, 'window_duration': 1.0, 'step_size': 1.0, 'split_method': 'stratify'}\n",
      "\n",
      "=== RandomForest ===\n",
      "F1 (macro): 0.5994931305855675\n",
      "Balanced Accuracy: 0.6122648992963836\n",
      "Top features by mean(|SHAP|):\n",
      "  eda_phasic_mean           : 0.0413\n",
      "  temperature_var           : 0.0193\n",
      "  bvp_max                   : 0.0193\n",
      "Finished RandomForest {'subject': 2, 'tonic_cutoff': 0.05, 'window_duration': 1.0, 'step_size': 1.0, 'split_method': 'stratify'} → F1=0.599, BalAcc=0.612\n",
      "\n",
      "=== KNeighbors ===\n",
      "F1 (macro): 0.49612078896855144\n",
      "Balanced Accuracy: 0.5042617580098839\n"
     ]
    },
    {
     "name": "stderr",
     "output_type": "stream",
     "text": [
      "100%|██████████| 100/100 [00:40<00:00,  2.45it/s]\n"
     ]
    },
    {
     "name": "stdout",
     "output_type": "stream",
     "text": [
      "Top features by mean(|SHAP|):\n",
      "  temperature_phasic_var    : 0.0468\n",
      "  temperature_phasic_mean   : 0.0377\n",
      "  bvp_slope                 : 0.0326\n",
      "Finished KNeighbors {'subject': 2, 'tonic_cutoff': 0.05, 'window_duration': 1.0, 'step_size': 1.0, 'split_method': 'stratify'} → F1=0.496, BalAcc=0.504\n",
      "\n",
      "=== LogisticRegression ===\n",
      "F1 (macro): 0.4754829419473136\n",
      "Balanced Accuracy: 0.4938459341757693\n"
     ]
    },
    {
     "name": "stderr",
     "output_type": "stream",
     "text": [
      "100%|██████████| 100/100 [00:06<00:00, 16.17it/s]\n",
      "/Users/xxd/Documents/PhD/PainAssessment/EmbracePlus/data/.venv/lib/python3.13/site-packages/xgboost/training.py:183: UserWarning: [03:07:49] WARNING: /Users/runner/work/xgboost/xgboost/src/learner.cc:738: \n",
      "Parameters: { \"use_label_encoder\" } are not used.\n",
      "\n",
      "  bst.update(dtrain, iteration=i, fobj=obj)\n"
     ]
    },
    {
     "name": "stdout",
     "output_type": "stream",
     "text": [
      "Top features by mean(|SHAP|):\n",
      "  temperature_slope         : 0.2081\n",
      "  eda_0.5-4Hz               : 0.1070\n",
      "  bvp_12-30Hz               : 0.0874\n",
      "Finished LogisticRegression {'subject': 2, 'tonic_cutoff': 0.05, 'window_duration': 1.0, 'step_size': 1.0, 'split_method': 'stratify'} → F1=0.475, BalAcc=0.494\n",
      "\n",
      "=== XGBoost ===\n",
      "F1 (macro): 0.6721611048746471\n",
      "Balanced Accuracy: 0.6576755273157072\n",
      "Top features by mean(|SHAP|):\n",
      "  eda_phasic_mean           : 0.6564\n",
      "  bvp_range                 : 0.3454\n",
      "  temperature_range         : 0.3251\n",
      "Finished XGBoost {'subject': 2, 'tonic_cutoff': 0.05, 'window_duration': 1.0, 'step_size': 1.0, 'split_method': 'stratify'} → F1=0.672, BalAcc=0.658\n",
      "\n",
      "=== NaiveBayes ===\n",
      "F1 (macro): 0.21017975645899103\n",
      "Balanced Accuracy: 0.42106843403694977\n"
     ]
    },
    {
     "name": "stderr",
     "output_type": "stream",
     "text": [
      "100%|██████████| 100/100 [00:16<00:00,  6.00it/s]\n"
     ]
    },
    {
     "name": "stdout",
     "output_type": "stream",
     "text": [
      "Top features by mean(|SHAP|):\n",
      "  eda_tonic_var             : 0.0576\n",
      "  temperature_mean          : 0.0391\n",
      "  bvp_zero_cross            : 0.0229\n",
      "Finished NaiveBayes {'subject': 2, 'tonic_cutoff': 0.05, 'window_duration': 1.0, 'step_size': 1.0, 'split_method': 'stratify'} → F1=0.210, BalAcc=0.421\n",
      "\n",
      "Running for params: {'subject': 2, 'tonic_cutoff': 0.05, 'window_duration': 1.0, 'step_size': 5.0, 'split_method': 'split'}\n",
      "\n",
      "=== RandomForest ===\n",
      "F1 (macro): 0.23022222222222222\n",
      "Balanced Accuracy: 0.39999999999999997\n",
      "Top features by mean(|SHAP|):\n",
      "  bvp_range                 : 0.0212\n",
      "  bvp_tonic_var             : 0.0205\n",
      "  temperature_tonic_var     : 0.0191\n",
      "Finished RandomForest {'subject': 2, 'tonic_cutoff': 0.05, 'window_duration': 1.0, 'step_size': 5.0, 'split_method': 'split'} → F1=0.230, BalAcc=0.400\n",
      "\n",
      "=== KNeighbors ===\n",
      "F1 (macro): 0.19413003949086424\n",
      "Balanced Accuracy: 0.42667880719326207\n"
     ]
    },
    {
     "name": "stderr",
     "output_type": "stream",
     "text": [
      "100%|██████████| 100/100 [00:10<00:00,  9.82it/s]\n"
     ]
    },
    {
     "name": "stdout",
     "output_type": "stream",
     "text": [
      "Top features by mean(|SHAP|):\n",
      "  temperature_phasic_var    : 0.0300\n",
      "  temperature_phasic_mean   : 0.0180\n",
      "  temperature_30-45Hz       : 0.0131\n",
      "Finished KNeighbors {'subject': 2, 'tonic_cutoff': 0.05, 'window_duration': 1.0, 'step_size': 5.0, 'split_method': 'split'} → F1=0.194, BalAcc=0.427\n",
      "\n",
      "=== LogisticRegression ===\n",
      "F1 (macro): 0.2148600806689042\n",
      "Balanced Accuracy: 0.513339403596631\n"
     ]
    },
    {
     "name": "stderr",
     "output_type": "stream",
     "text": [
      "100%|██████████| 100/100 [00:06<00:00, 16.05it/s]\n",
      "/Users/xxd/Documents/PhD/PainAssessment/EmbracePlus/data/.venv/lib/python3.13/site-packages/xgboost/training.py:183: UserWarning: [03:08:29] WARNING: /Users/runner/work/xgboost/xgboost/src/learner.cc:738: \n",
      "Parameters: { \"use_label_encoder\" } are not used.\n",
      "\n",
      "  bst.update(dtrain, iteration=i, fobj=obj)\n"
     ]
    },
    {
     "name": "stdout",
     "output_type": "stream",
     "text": [
      "Top features by mean(|SHAP|):\n",
      "  eda_phasic_mean           : 0.0292\n",
      "  bvp_phasic_mean           : 0.0206\n",
      "  bvp_phasic_var            : 0.0202\n",
      "Finished LogisticRegression {'subject': 2, 'tonic_cutoff': 0.05, 'window_duration': 1.0, 'step_size': 5.0, 'split_method': 'split'} → F1=0.215, BalAcc=0.513\n",
      "\n",
      "=== XGBoost ===\n",
      "F1 (macro): 0.24232158988256547\n",
      "Balanced Accuracy: 0.4521739130434783\n",
      "Top features by mean(|SHAP|):\n",
      "  bvp_range                 : 0.4912\n",
      "  temperature_tonic_var     : 0.2468\n",
      "  temperature_phasic_var    : 0.1842\n",
      "Finished XGBoost {'subject': 2, 'tonic_cutoff': 0.05, 'window_duration': 1.0, 'step_size': 5.0, 'split_method': 'split'} → F1=0.242, BalAcc=0.452\n",
      "\n",
      "=== NaiveBayes ===\n",
      "F1 (macro): 0.17917267917267918\n",
      "Balanced Accuracy: 0.26044844070111545\n"
     ]
    },
    {
     "name": "stderr",
     "output_type": "stream",
     "text": [
      "100%|██████████| 100/100 [00:16<00:00,  5.96it/s]\n"
     ]
    },
    {
     "name": "stdout",
     "output_type": "stream",
     "text": [
      "Top features by mean(|SHAP|):\n",
      "  eda_tonic_var             : 0.0600\n",
      "  bvp_tonic_var             : 0.0339\n",
      "  bvp_zero_cross            : 0.0330\n",
      "Finished NaiveBayes {'subject': 2, 'tonic_cutoff': 0.05, 'window_duration': 1.0, 'step_size': 5.0, 'split_method': 'split'} → F1=0.179, BalAcc=0.260\n",
      "\n",
      "Running for params: {'subject': 2, 'tonic_cutoff': 0.05, 'window_duration': 1.0, 'step_size': 5.0, 'split_method': 'stratify'}\n",
      "\n",
      "=== RandomForest ===\n",
      "F1 (macro): 0.5303294332420546\n",
      "Balanced Accuracy: 0.5374115267947421\n",
      "Top features by mean(|SHAP|):\n",
      "  bvp_mean                  : 0.0341\n",
      "  eda_phasic_mean           : 0.0283\n",
      "  bvp_max                   : 0.0236\n",
      "Finished RandomForest {'subject': 2, 'tonic_cutoff': 0.05, 'window_duration': 1.0, 'step_size': 5.0, 'split_method': 'stratify'} → F1=0.530, BalAcc=0.537\n",
      "\n",
      "=== KNeighbors ===\n",
      "F1 (macro): 0.583646655804821\n",
      "Balanced Accuracy: 0.5735760026963262\n"
     ]
    },
    {
     "name": "stderr",
     "output_type": "stream",
     "text": [
      "100%|██████████| 94/94 [00:12<00:00,  7.42it/s]\n"
     ]
    },
    {
     "name": "stdout",
     "output_type": "stream",
     "text": [
      "Top features by mean(|SHAP|):\n",
      "  temperature_phasic_var    : 0.0423\n",
      "  temperature_30-45Hz       : 0.0340\n",
      "  temperature_phasic_mean   : 0.0337\n",
      "Finished KNeighbors {'subject': 2, 'tonic_cutoff': 0.05, 'window_duration': 1.0, 'step_size': 5.0, 'split_method': 'stratify'} → F1=0.584, BalAcc=0.574\n",
      "\n",
      "=== LogisticRegression ===\n",
      "F1 (macro): 0.4743589743589743\n",
      "Balanced Accuracy: 0.48466464442197504\n"
     ]
    },
    {
     "name": "stderr",
     "output_type": "stream",
     "text": [
      "100%|██████████| 94/94 [00:05<00:00, 16.35it/s]\n",
      "/Users/xxd/Documents/PhD/PainAssessment/EmbracePlus/data/.venv/lib/python3.13/site-packages/xgboost/training.py:183: UserWarning: [03:09:10] WARNING: /Users/runner/work/xgboost/xgboost/src/learner.cc:738: \n",
      "Parameters: { \"use_label_encoder\" } are not used.\n",
      "\n",
      "  bst.update(dtrain, iteration=i, fobj=obj)\n"
     ]
    },
    {
     "name": "stdout",
     "output_type": "stream",
     "text": [
      "Top features by mean(|SHAP|):\n",
      "  temperature_slope         : 0.1170\n",
      "  temperature_30-45Hz       : 0.0628\n",
      "  eda_4-8Hz                 : 0.0556\n",
      "Finished LogisticRegression {'subject': 2, 'tonic_cutoff': 0.05, 'window_duration': 1.0, 'step_size': 5.0, 'split_method': 'stratify'} → F1=0.474, BalAcc=0.485\n",
      "\n",
      "=== XGBoost ===\n",
      "F1 (macro): 0.5823931623931623\n",
      "Balanced Accuracy: 0.5885743174924166\n",
      "Top features by mean(|SHAP|):\n",
      "  eda_phasic_mean           : 0.5171\n",
      "  temperature_range         : 0.4160\n",
      "  temperature_var           : 0.4155\n",
      "Finished XGBoost {'subject': 2, 'tonic_cutoff': 0.05, 'window_duration': 1.0, 'step_size': 5.0, 'split_method': 'stratify'} → F1=0.582, BalAcc=0.589\n",
      "\n",
      "=== NaiveBayes ===\n",
      "F1 (macro): 0.12931154866638736\n",
      "Balanced Accuracy: 0.3953488372093023\n"
     ]
    },
    {
     "name": "stderr",
     "output_type": "stream",
     "text": [
      "100%|██████████| 94/94 [00:16<00:00,  5.66it/s]\n"
     ]
    },
    {
     "name": "stdout",
     "output_type": "stream",
     "text": [
      "Top features by mean(|SHAP|):\n",
      "  eda_tonic_var             : 0.0476\n",
      "  bvp_zero_cross            : 0.0331\n",
      "  bvp_tonic_var             : 0.0287\n",
      "Finished NaiveBayes {'subject': 2, 'tonic_cutoff': 0.05, 'window_duration': 1.0, 'step_size': 5.0, 'split_method': 'stratify'} → F1=0.129, BalAcc=0.395\n",
      "\n",
      "Running for params: {'subject': 2, 'tonic_cutoff': 0.05, 'window_duration': 5.0, 'step_size': 0.5, 'split_method': 'split'}\n",
      "\n",
      "=== RandomForest ===\n",
      "F1 (macro): 0.16802758839384813\n",
      "Balanced Accuracy: 0.3310501886202041\n",
      "Top features by mean(|SHAP|):\n",
      "  bvp_mean                  : 0.0260\n",
      "  bvp_range                 : 0.0215\n",
      "  eda_tonic_var             : 0.0183\n",
      "Finished RandomForest {'subject': 2, 'tonic_cutoff': 0.05, 'window_duration': 5.0, 'step_size': 0.5, 'split_method': 'split'} → F1=0.168, BalAcc=0.331\n",
      "\n",
      "=== KNeighbors ===\n",
      "F1 (macro): 0.20552651555780233\n",
      "Balanced Accuracy: 0.394260910772567\n"
     ]
    },
    {
     "name": "stderr",
     "output_type": "stream",
     "text": [
      "100%|██████████| 100/100 [00:42<00:00,  2.33it/s]\n"
     ]
    },
    {
     "name": "stdout",
     "output_type": "stream",
     "text": [
      "Top features by mean(|SHAP|):\n",
      "  temperature_phasic_var    : 0.0627\n",
      "  eda_rms                   : 0.0220\n",
      "  eda_mean                  : 0.0205\n",
      "Finished KNeighbors {'subject': 2, 'tonic_cutoff': 0.05, 'window_duration': 5.0, 'step_size': 0.5, 'split_method': 'split'} → F1=0.206, BalAcc=0.394\n",
      "\n",
      "=== LogisticRegression ===\n",
      "F1 (macro): 0.18849450291022152\n",
      "Balanced Accuracy: 0.35670236467946365\n"
     ]
    },
    {
     "name": "stderr",
     "output_type": "stream",
     "text": [
      "100%|██████████| 100/100 [00:07<00:00, 13.71it/s]\n",
      "/Users/xxd/Documents/PhD/PainAssessment/EmbracePlus/data/.venv/lib/python3.13/site-packages/xgboost/training.py:183: UserWarning: [03:10:55] WARNING: /Users/runner/work/xgboost/xgboost/src/learner.cc:738: \n",
      "Parameters: { \"use_label_encoder\" } are not used.\n",
      "\n",
      "  bst.update(dtrain, iteration=i, fobj=obj)\n"
     ]
    },
    {
     "name": "stdout",
     "output_type": "stream",
     "text": [
      "Top features by mean(|SHAP|):\n",
      "  temperature_skew          : 0.0943\n",
      "  temperature_slope         : 0.0859\n",
      "  temperature_phasic_var    : 0.0503\n",
      "Finished LogisticRegression {'subject': 2, 'tonic_cutoff': 0.05, 'window_duration': 5.0, 'step_size': 0.5, 'split_method': 'split'} → F1=0.188, BalAcc=0.357\n",
      "\n",
      "=== XGBoost ===\n",
      "F1 (macro): 0.18036448841009614\n",
      "Balanced Accuracy: 0.3321251209661063\n",
      "Top features by mean(|SHAP|):\n",
      "  eda_tonic_mean            : 0.5959\n",
      "  bvp_mean                  : 0.5182\n",
      "  eda_tonic_var             : 0.4244\n",
      "Finished XGBoost {'subject': 2, 'tonic_cutoff': 0.05, 'window_duration': 5.0, 'step_size': 0.5, 'split_method': 'split'} → F1=0.180, BalAcc=0.332\n",
      "\n",
      "=== NaiveBayes ===\n",
      "F1 (macro): 0.07041699968253383\n",
      "Balanced Accuracy: 0.3161715453378498\n"
     ]
    },
    {
     "name": "stderr",
     "output_type": "stream",
     "text": [
      "100%|██████████| 100/100 [00:17<00:00,  5.68it/s]\n"
     ]
    },
    {
     "name": "stdout",
     "output_type": "stream",
     "text": [
      "Top features by mean(|SHAP|):\n",
      "  temperature_mean          : 0.0961\n",
      "  bvp_zero_cross            : 0.0500\n",
      "  eda_tonic_var             : 0.0377\n",
      "Finished NaiveBayes {'subject': 2, 'tonic_cutoff': 0.05, 'window_duration': 5.0, 'step_size': 0.5, 'split_method': 'split'} → F1=0.070, BalAcc=0.316\n",
      "\n",
      "Running for params: {'subject': 2, 'tonic_cutoff': 0.05, 'window_duration': 5.0, 'step_size': 0.5, 'split_method': 'stratify'}\n",
      "\n",
      "=== RandomForest ===\n",
      "F1 (macro): 0.7125642382811258\n",
      "Balanced Accuracy: 0.6975147917020393\n",
      "Top features by mean(|SHAP|):\n",
      "  eda_4-8Hz                 : 0.0308\n",
      "  eda_0.5-4Hz               : 0.0248\n",
      "  temperature_var           : 0.0230\n",
      "Finished RandomForest {'subject': 2, 'tonic_cutoff': 0.05, 'window_duration': 5.0, 'step_size': 0.5, 'split_method': 'stratify'} → F1=0.713, BalAcc=0.698\n",
      "\n",
      "=== KNeighbors ===\n",
      "F1 (macro): 0.5787384795262399\n",
      "Balanced Accuracy: 0.5766570294929765\n"
     ]
    },
    {
     "name": "stderr",
     "output_type": "stream",
     "text": [
      "100%|██████████| 100/100 [01:12<00:00,  1.37it/s]\n"
     ]
    },
    {
     "name": "stdout",
     "output_type": "stream",
     "text": [
      "Top features by mean(|SHAP|):\n",
      "  temperature_phasic_var    : 0.0698\n",
      "  temperature_30-45Hz       : 0.0556\n",
      "  temperature_phasic_mean   : 0.0380\n",
      "Finished KNeighbors {'subject': 2, 'tonic_cutoff': 0.05, 'window_duration': 5.0, 'step_size': 0.5, 'split_method': 'stratify'} → F1=0.579, BalAcc=0.577\n",
      "\n",
      "=== LogisticRegression ===\n",
      "F1 (macro): 0.6104667751591174\n",
      "Balanced Accuracy: 0.6186916904355161\n"
     ]
    },
    {
     "name": "stderr",
     "output_type": "stream",
     "text": [
      "100%|██████████| 100/100 [00:06<00:00, 15.39it/s]\n",
      "/Users/xxd/Documents/PhD/PainAssessment/EmbracePlus/data/.venv/lib/python3.13/site-packages/xgboost/training.py:183: UserWarning: [03:13:13] WARNING: /Users/runner/work/xgboost/xgboost/src/learner.cc:738: \n",
      "Parameters: { \"use_label_encoder\" } are not used.\n",
      "\n",
      "  bst.update(dtrain, iteration=i, fobj=obj)\n"
     ]
    },
    {
     "name": "stdout",
     "output_type": "stream",
     "text": [
      "Top features by mean(|SHAP|):\n",
      "  temperature_slope         : 0.1822\n",
      "  temperature_skew          : 0.1292\n",
      "  temperature_zero_cross    : 0.0746\n",
      "Finished LogisticRegression {'subject': 2, 'tonic_cutoff': 0.05, 'window_duration': 5.0, 'step_size': 0.5, 'split_method': 'stratify'} → F1=0.610, BalAcc=0.619\n",
      "\n",
      "=== XGBoost ===\n",
      "F1 (macro): 0.8065878053268252\n",
      "Balanced Accuracy: 0.7826419736223474\n",
      "Top features by mean(|SHAP|):\n",
      "  bvp_mean                  : 0.5436\n",
      "  eda_tonic_mean            : 0.4841\n",
      "  temperature_range         : 0.4739\n",
      "Finished XGBoost {'subject': 2, 'tonic_cutoff': 0.05, 'window_duration': 5.0, 'step_size': 0.5, 'split_method': 'stratify'} → F1=0.807, BalAcc=0.783\n",
      "\n",
      "=== NaiveBayes ===\n",
      "F1 (macro): 0.2497351922593413\n",
      "Balanced Accuracy: 0.44657763347311663\n"
     ]
    },
    {
     "name": "stderr",
     "output_type": "stream",
     "text": [
      "100%|██████████| 100/100 [00:18<00:00,  5.37it/s]\n"
     ]
    },
    {
     "name": "stdout",
     "output_type": "stream",
     "text": [
      "Top features by mean(|SHAP|):\n",
      "  temperature_mean          : 0.0898\n",
      "  eda_tonic_var             : 0.0342\n",
      "  bvp_zero_cross            : 0.0288\n",
      "Finished NaiveBayes {'subject': 2, 'tonic_cutoff': 0.05, 'window_duration': 5.0, 'step_size': 0.5, 'split_method': 'stratify'} → F1=0.250, BalAcc=0.447\n",
      "\n",
      "Running for params: {'subject': 2, 'tonic_cutoff': 0.05, 'window_duration': 5.0, 'step_size': 1.0, 'split_method': 'split'}\n",
      "\n",
      "=== RandomForest ===\n",
      "F1 (macro): 0.1615837346174425\n",
      "Balanced Accuracy: 0.3296943231441048\n",
      "Top features by mean(|SHAP|):\n",
      "  eda_tonic_var             : 0.0234\n",
      "  bvp_mean                  : 0.0209\n",
      "  temperature_phasic_var    : 0.0195\n",
      "Finished RandomForest {'subject': 2, 'tonic_cutoff': 0.05, 'window_duration': 5.0, 'step_size': 1.0, 'split_method': 'split'} → F1=0.162, BalAcc=0.330\n",
      "\n",
      "=== KNeighbors ===\n",
      "F1 (macro): 0.21397262424755717\n",
      "Balanced Accuracy: 0.3701073028492874\n"
     ]
    },
    {
     "name": "stderr",
     "output_type": "stream",
     "text": [
      "100%|██████████| 100/100 [00:25<00:00,  3.89it/s]\n"
     ]
    },
    {
     "name": "stdout",
     "output_type": "stream",
     "text": [
      "Top features by mean(|SHAP|):\n",
      "  temperature_phasic_var    : 0.0754\n",
      "  eda_rms                   : 0.0198\n",
      "  eda_mean                  : 0.0187\n",
      "Finished KNeighbors {'subject': 2, 'tonic_cutoff': 0.05, 'window_duration': 5.0, 'step_size': 1.0, 'split_method': 'split'} → F1=0.214, BalAcc=0.370\n",
      "\n",
      "=== LogisticRegression ===\n",
      "F1 (macro): 0.1966407175320332\n",
      "Balanced Accuracy: 0.36907458488756983\n"
     ]
    },
    {
     "name": "stderr",
     "output_type": "stream",
     "text": [
      "100%|██████████| 100/100 [00:06<00:00, 16.17it/s]\n",
      "/Users/xxd/Documents/PhD/PainAssessment/EmbracePlus/data/.venv/lib/python3.13/site-packages/xgboost/training.py:183: UserWarning: [03:14:28] WARNING: /Users/runner/work/xgboost/xgboost/src/learner.cc:738: \n",
      "Parameters: { \"use_label_encoder\" } are not used.\n",
      "\n",
      "  bst.update(dtrain, iteration=i, fobj=obj)\n"
     ]
    },
    {
     "name": "stdout",
     "output_type": "stream",
     "text": [
      "Top features by mean(|SHAP|):\n",
      "  temperature_phasic_var    : 0.0695\n",
      "  temperature_slope         : 0.0694\n",
      "  temperature_skew          : 0.0670\n",
      "Finished LogisticRegression {'subject': 2, 'tonic_cutoff': 0.05, 'window_duration': 5.0, 'step_size': 1.0, 'split_method': 'split'} → F1=0.197, BalAcc=0.369\n",
      "\n",
      "=== XGBoost ===\n",
      "F1 (macro): 0.1884081131173474\n",
      "Balanced Accuracy: 0.3524098877256519\n",
      "Top features by mean(|SHAP|):\n",
      "  eda_tonic_var             : 0.6908\n",
      "  eda_tonic_mean            : 0.6242\n",
      "  bvp_mean                  : 0.4181\n",
      "Finished XGBoost {'subject': 2, 'tonic_cutoff': 0.05, 'window_duration': 5.0, 'step_size': 1.0, 'split_method': 'split'} → F1=0.188, BalAcc=0.352\n",
      "\n",
      "=== NaiveBayes ===\n",
      "F1 (macro): 0.12062790499300868\n",
      "Balanced Accuracy: 0.20590294589315952\n"
     ]
    },
    {
     "name": "stderr",
     "output_type": "stream",
     "text": [
      "100%|██████████| 100/100 [00:17<00:00,  5.74it/s]\n"
     ]
    },
    {
     "name": "stdout",
     "output_type": "stream",
     "text": [
      "Top features by mean(|SHAP|):\n",
      "  temperature_mean          : 0.0664\n",
      "  eda_tonic_var             : 0.0575\n",
      "  bvp_zero_cross            : 0.0383\n",
      "Finished NaiveBayes {'subject': 2, 'tonic_cutoff': 0.05, 'window_duration': 5.0, 'step_size': 1.0, 'split_method': 'split'} → F1=0.121, BalAcc=0.206\n",
      "\n",
      "Running for params: {'subject': 2, 'tonic_cutoff': 0.05, 'window_duration': 5.0, 'step_size': 1.0, 'split_method': 'stratify'}\n",
      "\n",
      "=== RandomForest ===\n",
      "F1 (macro): 0.7120859407358263\n",
      "Balanced Accuracy: 0.6925284002489884\n",
      "Top features by mean(|SHAP|):\n",
      "  eda_0.5-4Hz               : 0.0336\n",
      "  eda_4-8Hz                 : 0.0287\n",
      "  temperature_kurt          : 0.0247\n",
      "Finished RandomForest {'subject': 2, 'tonic_cutoff': 0.05, 'window_duration': 5.0, 'step_size': 1.0, 'split_method': 'stratify'} → F1=0.712, BalAcc=0.693\n",
      "\n",
      "=== KNeighbors ===\n",
      "F1 (macro): 0.5949030525401481\n",
      "Balanced Accuracy: 0.5901902427637721\n"
     ]
    },
    {
     "name": "stderr",
     "output_type": "stream",
     "text": [
      "100%|██████████| 100/100 [00:40<00:00,  2.47it/s]\n"
     ]
    },
    {
     "name": "stdout",
     "output_type": "stream",
     "text": [
      "Top features by mean(|SHAP|):\n",
      "  temperature_phasic_var    : 0.0663\n",
      "  temperature_30-45Hz       : 0.0499\n",
      "  temperature_phasic_mean   : 0.0293\n",
      "Finished KNeighbors {'subject': 2, 'tonic_cutoff': 0.05, 'window_duration': 5.0, 'step_size': 1.0, 'split_method': 'stratify'} → F1=0.595, BalAcc=0.590\n",
      "\n",
      "=== LogisticRegression ===\n",
      "F1 (macro): 0.6379132600346441\n",
      "Balanced Accuracy: 0.6270327575474633\n"
     ]
    },
    {
     "name": "stderr",
     "output_type": "stream",
     "text": [
      "100%|██████████| 100/100 [00:06<00:00, 16.20it/s]\n",
      "/Users/xxd/Documents/PhD/PainAssessment/EmbracePlus/data/.venv/lib/python3.13/site-packages/xgboost/training.py:183: UserWarning: [03:15:54] WARNING: /Users/runner/work/xgboost/xgboost/src/learner.cc:738: \n",
      "Parameters: { \"use_label_encoder\" } are not used.\n",
      "\n",
      "  bst.update(dtrain, iteration=i, fobj=obj)\n"
     ]
    },
    {
     "name": "stdout",
     "output_type": "stream",
     "text": [
      "Top features by mean(|SHAP|):\n",
      "  temperature_skew          : 0.1488\n",
      "  temperature_slope         : 0.1377\n",
      "  temperature_zero_cross    : 0.0656\n",
      "Finished LogisticRegression {'subject': 2, 'tonic_cutoff': 0.05, 'window_duration': 5.0, 'step_size': 1.0, 'split_method': 'stratify'} → F1=0.638, BalAcc=0.627\n",
      "\n",
      "=== XGBoost ===\n",
      "F1 (macro): 0.7923198475861911\n",
      "Balanced Accuracy: 0.7683823529411765\n",
      "Top features by mean(|SHAP|):\n",
      "  bvp_mean                  : 0.6263\n",
      "  eda_tonic_mean            : 0.4069\n",
      "  temperature_kurt          : 0.4036\n",
      "Finished XGBoost {'subject': 2, 'tonic_cutoff': 0.05, 'window_duration': 5.0, 'step_size': 1.0, 'split_method': 'stratify'} → F1=0.792, BalAcc=0.768\n",
      "\n",
      "=== NaiveBayes ===\n",
      "F1 (macro): 0.23775900671460745\n",
      "Balanced Accuracy: 0.4489670868347339\n"
     ]
    },
    {
     "name": "stderr",
     "output_type": "stream",
     "text": [
      "100%|██████████| 100/100 [00:17<00:00,  5.77it/s]\n"
     ]
    },
    {
     "name": "stdout",
     "output_type": "stream",
     "text": [
      "Top features by mean(|SHAP|):\n",
      "  bvp_zero_cross            : 0.0490\n",
      "  temperature_mean          : 0.0459\n",
      "  eda_tonic_var             : 0.0443\n",
      "Finished NaiveBayes {'subject': 2, 'tonic_cutoff': 0.05, 'window_duration': 5.0, 'step_size': 1.0, 'split_method': 'stratify'} → F1=0.238, BalAcc=0.449\n",
      "\n",
      "Running for params: {'subject': 2, 'tonic_cutoff': 0.05, 'window_duration': 5.0, 'step_size': 5.0, 'split_method': 'split'}\n",
      "\n",
      "=== RandomForest ===\n",
      "F1 (macro): 0.16355555555555554\n",
      "Balanced Accuracy: 0.3333333333333333\n",
      "Top features by mean(|SHAP|):\n",
      "  eda_tonic_var             : 0.0280\n",
      "  temperature_phasic_var    : 0.0175\n",
      "  bvp_mean                  : 0.0136\n",
      "Finished RandomForest {'subject': 2, 'tonic_cutoff': 0.05, 'window_duration': 5.0, 'step_size': 5.0, 'split_method': 'split'} → F1=0.164, BalAcc=0.333\n",
      "\n",
      "=== KNeighbors ===\n",
      "F1 (macro): 0.200858169520186\n",
      "Balanced Accuracy: 0.44306801625642206\n"
     ]
    },
    {
     "name": "stderr",
     "output_type": "stream",
     "text": [
      "100%|██████████| 100/100 [00:11<00:00,  8.86it/s]\n"
     ]
    },
    {
     "name": "stdout",
     "output_type": "stream",
     "text": [
      "Top features by mean(|SHAP|):\n",
      "  temperature_phasic_var    : 0.0528\n",
      "  temperature_phasic_mean   : 0.0233\n",
      "  temperature_30-45Hz       : 0.0189\n",
      "Finished KNeighbors {'subject': 2, 'tonic_cutoff': 0.05, 'window_duration': 5.0, 'step_size': 5.0, 'split_method': 'split'} → F1=0.201, BalAcc=0.443\n",
      "\n",
      "=== LogisticRegression ===\n",
      "F1 (macro): 0.23007727029498481\n",
      "Balanced Accuracy: 0.5745418296142933\n"
     ]
    },
    {
     "name": "stderr",
     "output_type": "stream",
     "text": [
      "100%|██████████| 100/100 [00:06<00:00, 16.01it/s]\n",
      "/Users/xxd/Documents/PhD/PainAssessment/EmbracePlus/data/.venv/lib/python3.13/site-packages/xgboost/training.py:183: UserWarning: [03:16:36] WARNING: /Users/runner/work/xgboost/xgboost/src/learner.cc:738: \n",
      "Parameters: { \"use_label_encoder\" } are not used.\n",
      "\n",
      "  bst.update(dtrain, iteration=i, fobj=obj)\n"
     ]
    },
    {
     "name": "stdout",
     "output_type": "stream",
     "text": [
      "Top features by mean(|SHAP|):\n",
      "  temperature_phasic_var    : 0.0840\n",
      "  bvp_30-45Hz               : 0.0532\n",
      "  temperature_30-45Hz       : 0.0417\n",
      "Finished LogisticRegression {'subject': 2, 'tonic_cutoff': 0.05, 'window_duration': 5.0, 'step_size': 5.0, 'split_method': 'split'} → F1=0.230, BalAcc=0.575\n",
      "\n",
      "=== XGBoost ===\n",
      "F1 (macro): 0.19768912341354683\n",
      "Balanced Accuracy: 0.3945172916187409\n",
      "Top features by mean(|SHAP|):\n",
      "  eda_tonic_var             : 0.6348\n",
      "  eda_tonic_mean            : 0.2851\n",
      "  temperature_phasic_var    : 0.2479\n",
      "Finished XGBoost {'subject': 2, 'tonic_cutoff': 0.05, 'window_duration': 5.0, 'step_size': 5.0, 'split_method': 'split'} → F1=0.198, BalAcc=0.395\n",
      "\n",
      "=== NaiveBayes ===\n",
      "F1 (macro): 0.06361339694673028\n",
      "Balanced Accuracy: 0.3099532244459781\n"
     ]
    },
    {
     "name": "stderr",
     "output_type": "stream",
     "text": [
      "100%|██████████| 100/100 [00:16<00:00,  5.98it/s]\n"
     ]
    },
    {
     "name": "stdout",
     "output_type": "stream",
     "text": [
      "Top features by mean(|SHAP|):\n",
      "  temperature_mean          : 0.0994\n",
      "  eda_tonic_var             : 0.0646\n",
      "  bvp_skew                  : 0.0509\n",
      "Finished NaiveBayes {'subject': 2, 'tonic_cutoff': 0.05, 'window_duration': 5.0, 'step_size': 5.0, 'split_method': 'split'} → F1=0.064, BalAcc=0.310\n",
      "\n",
      "Running for params: {'subject': 2, 'tonic_cutoff': 0.05, 'window_duration': 5.0, 'step_size': 5.0, 'split_method': 'stratify'}\n",
      "\n",
      "=== RandomForest ===\n",
      "F1 (macro): 0.6053630363036304\n",
      "Balanced Accuracy: 0.619961944300294\n",
      "Top features by mean(|SHAP|):\n",
      "  temperature_var           : 0.0324\n",
      "  eda_4-8Hz                 : 0.0303\n",
      "  bvp_min                   : 0.0244\n",
      "Finished RandomForest {'subject': 2, 'tonic_cutoff': 0.05, 'window_duration': 5.0, 'step_size': 5.0, 'split_method': 'stratify'} → F1=0.605, BalAcc=0.620\n",
      "\n",
      "=== KNeighbors ===\n",
      "F1 (macro): 0.5319727891156463\n",
      "Balanced Accuracy: 0.5367583463068674\n"
     ]
    },
    {
     "name": "stderr",
     "output_type": "stream",
     "text": [
      "100%|██████████| 93/93 [00:14<00:00,  6.27it/s]\n"
     ]
    },
    {
     "name": "stdout",
     "output_type": "stream",
     "text": [
      "Top features by mean(|SHAP|):\n",
      "  temperature_phasic_var    : 0.0679\n",
      "  temperature_phasic_mean   : 0.0422\n",
      "  temperature_30-45Hz       : 0.0358\n",
      "Finished KNeighbors {'subject': 2, 'tonic_cutoff': 0.05, 'window_duration': 5.0, 'step_size': 5.0, 'split_method': 'stratify'} → F1=0.532, BalAcc=0.537\n",
      "\n",
      "=== LogisticRegression ===\n",
      "F1 (macro): 0.5968799269770143\n",
      "Balanced Accuracy: 0.6107939802802284\n"
     ]
    },
    {
     "name": "stderr",
     "output_type": "stream",
     "text": [
      "100%|██████████| 93/93 [00:06<00:00, 14.63it/s]\n",
      "/Users/xxd/Documents/PhD/PainAssessment/EmbracePlus/data/.venv/lib/python3.13/site-packages/xgboost/training.py:183: UserWarning: [03:17:19] WARNING: /Users/runner/work/xgboost/xgboost/src/learner.cc:738: \n",
      "Parameters: { \"use_label_encoder\" } are not used.\n",
      "\n",
      "  bst.update(dtrain, iteration=i, fobj=obj)\n"
     ]
    },
    {
     "name": "stdout",
     "output_type": "stream",
     "text": [
      "Top features by mean(|SHAP|):\n",
      "  temperature_skew          : 0.1301\n",
      "  temperature_slope         : 0.1004\n",
      "  temperature_phasic_var    : 0.0799\n",
      "Finished LogisticRegression {'subject': 2, 'tonic_cutoff': 0.05, 'window_duration': 5.0, 'step_size': 5.0, 'split_method': 'stratify'} → F1=0.597, BalAcc=0.611\n",
      "\n",
      "=== XGBoost ===\n",
      "F1 (macro): 0.5974465867639395\n",
      "Balanced Accuracy: 0.5966095831171078\n",
      "Top features by mean(|SHAP|):\n",
      "  temperature_var           : 0.4435\n",
      "  bvp_mean                  : 0.3774\n",
      "  temperature_phasic_var    : 0.3055\n",
      "Finished XGBoost {'subject': 2, 'tonic_cutoff': 0.05, 'window_duration': 5.0, 'step_size': 5.0, 'split_method': 'stratify'} → F1=0.597, BalAcc=0.597\n",
      "\n",
      "=== NaiveBayes ===\n",
      "F1 (macro): 0.2675573505562514\n",
      "Balanced Accuracy: 0.4795018162947587\n"
     ]
    },
    {
     "name": "stderr",
     "output_type": "stream",
     "text": [
      "100%|██████████| 93/93 [00:16<00:00,  5.55it/s]\n"
     ]
    },
    {
     "name": "stdout",
     "output_type": "stream",
     "text": [
      "Top features by mean(|SHAP|):\n",
      "  temperature_mean          : 0.1150\n",
      "  eda_tonic_var             : 0.0568\n",
      "  bvp_slope                 : 0.0295\n",
      "Finished NaiveBayes {'subject': 2, 'tonic_cutoff': 0.05, 'window_duration': 5.0, 'step_size': 5.0, 'split_method': 'stratify'} → F1=0.268, BalAcc=0.480\n",
      "\n",
      "Running for params: {'subject': 2, 'tonic_cutoff': 0.1, 'window_duration': 0.5, 'step_size': 0.5, 'split_method': 'split'}\n",
      "\n",
      "=== RandomForest ===\n",
      "F1 (macro): 0.20674957791368653\n",
      "Balanced Accuracy: 0.3983952232987913\n",
      "Top features by mean(|SHAP|):\n",
      "  bvp_tonic_var             : 0.0309\n",
      "  temperature_tonic_var     : 0.0274\n",
      "  temperature_tonic_mean    : 0.0239\n",
      "Finished RandomForest {'subject': 2, 'tonic_cutoff': 0.1, 'window_duration': 0.5, 'step_size': 0.5, 'split_method': 'split'} → F1=0.207, BalAcc=0.398\n",
      "\n",
      "=== KNeighbors ===\n",
      "F1 (macro): 0.19417531352083192\n",
      "Balanced Accuracy: 0.3601895008155053\n"
     ]
    },
    {
     "name": "stderr",
     "output_type": "stream",
     "text": [
      "100%|██████████| 100/100 [00:39<00:00,  2.53it/s]\n"
     ]
    },
    {
     "name": "stdout",
     "output_type": "stream",
     "text": [
      "Top features by mean(|SHAP|):\n",
      "  temperature_phasic_mean   : 0.0324\n",
      "  temperature_phasic_var    : 0.0265\n",
      "  bvp_slope                 : 0.0161\n",
      "Finished KNeighbors {'subject': 2, 'tonic_cutoff': 0.1, 'window_duration': 0.5, 'step_size': 0.5, 'split_method': 'split'} → F1=0.194, BalAcc=0.360\n",
      "\n",
      "=== LogisticRegression ===\n",
      "F1 (macro): 0.19413921511431062\n",
      "Balanced Accuracy: 0.4013206041372226\n"
     ]
    },
    {
     "name": "stderr",
     "output_type": "stream",
     "text": [
      "100%|██████████| 100/100 [00:06<00:00, 16.42it/s]\n",
      "/Users/xxd/Documents/PhD/PainAssessment/EmbracePlus/data/.venv/lib/python3.13/site-packages/xgboost/training.py:183: UserWarning: [03:18:57] WARNING: /Users/runner/work/xgboost/xgboost/src/learner.cc:738: \n",
      "Parameters: { \"use_label_encoder\" } are not used.\n",
      "\n",
      "  bst.update(dtrain, iteration=i, fobj=obj)\n"
     ]
    },
    {
     "name": "stdout",
     "output_type": "stream",
     "text": [
      "Top features by mean(|SHAP|):\n",
      "  temperature_slope         : 0.0637\n",
      "  bvp_30-45Hz               : 0.0634\n",
      "  bvp_phasic_var            : 0.0360\n",
      "Finished LogisticRegression {'subject': 2, 'tonic_cutoff': 0.1, 'window_duration': 0.5, 'step_size': 0.5, 'split_method': 'split'} → F1=0.194, BalAcc=0.401\n",
      "\n",
      "=== XGBoost ===\n",
      "F1 (macro): 0.22171190166480823\n",
      "Balanced Accuracy: 0.46665376229423156\n",
      "Top features by mean(|SHAP|):\n",
      "  temperature_tonic_var     : 0.7777\n",
      "  temperature_tonic_mean    : 0.4565\n",
      "  eda_phasic_mean           : 0.4101\n",
      "Finished XGBoost {'subject': 2, 'tonic_cutoff': 0.1, 'window_duration': 0.5, 'step_size': 0.5, 'split_method': 'split'} → F1=0.222, BalAcc=0.467\n",
      "\n",
      "=== NaiveBayes ===\n",
      "F1 (macro): 0.2010142175053751\n",
      "Balanced Accuracy: 0.20241415934922843\n"
     ]
    },
    {
     "name": "stderr",
     "output_type": "stream",
     "text": [
      "100%|██████████| 100/100 [00:17<00:00,  5.64it/s]\n"
     ]
    },
    {
     "name": "stdout",
     "output_type": "stream",
     "text": [
      "Top features by mean(|SHAP|):\n",
      "  temperature_mean          : 0.0468\n",
      "  bvp_tonic_var             : 0.0425\n",
      "  eda_phasic_var            : 0.0373\n",
      "Finished NaiveBayes {'subject': 2, 'tonic_cutoff': 0.1, 'window_duration': 0.5, 'step_size': 0.5, 'split_method': 'split'} → F1=0.201, BalAcc=0.202\n",
      "\n",
      "Running for params: {'subject': 2, 'tonic_cutoff': 0.1, 'window_duration': 0.5, 'step_size': 0.5, 'split_method': 'stratify'}\n",
      "\n",
      "=== RandomForest ===\n",
      "F1 (macro): 0.6112757619925384\n",
      "Balanced Accuracy: 0.615194085343339\n",
      "Top features by mean(|SHAP|):\n",
      "  eda_phasic_mean           : 0.0470\n",
      "  temperature_tonic_mean    : 0.0230\n",
      "  bvp_mean                  : 0.0225\n",
      "Finished RandomForest {'subject': 2, 'tonic_cutoff': 0.1, 'window_duration': 0.5, 'step_size': 0.5, 'split_method': 'stratify'} → F1=0.611, BalAcc=0.615\n",
      "\n",
      "=== KNeighbors ===\n",
      "F1 (macro): 0.5211499694088699\n",
      "Balanced Accuracy: 0.517433162955551\n"
     ]
    },
    {
     "name": "stderr",
     "output_type": "stream",
     "text": [
      "100%|██████████| 100/100 [01:11<00:00,  1.41it/s]\n"
     ]
    },
    {
     "name": "stdout",
     "output_type": "stream",
     "text": [
      "Top features by mean(|SHAP|):\n",
      "  temperature_phasic_mean   : 0.0440\n",
      "  temperature_phasic_var    : 0.0348\n",
      "  eda_mean                  : 0.0286\n",
      "Finished KNeighbors {'subject': 2, 'tonic_cutoff': 0.1, 'window_duration': 0.5, 'step_size': 0.5, 'split_method': 'stratify'} → F1=0.521, BalAcc=0.517\n",
      "\n",
      "=== LogisticRegression ===\n",
      "F1 (macro): 0.46064301080754744\n",
      "Balanced Accuracy: 0.4784949710322845\n"
     ]
    },
    {
     "name": "stderr",
     "output_type": "stream",
     "text": [
      "100%|██████████| 100/100 [00:06<00:00, 15.10it/s]\n",
      "/Users/xxd/Documents/PhD/PainAssessment/EmbracePlus/data/.venv/lib/python3.13/site-packages/xgboost/training.py:183: UserWarning: [03:21:12] WARNING: /Users/runner/work/xgboost/xgboost/src/learner.cc:738: \n",
      "Parameters: { \"use_label_encoder\" } are not used.\n",
      "\n",
      "  bst.update(dtrain, iteration=i, fobj=obj)\n"
     ]
    },
    {
     "name": "stdout",
     "output_type": "stream",
     "text": [
      "Top features by mean(|SHAP|):\n",
      "  temperature_slope         : 0.1516\n",
      "  bvp_30-45Hz               : 0.1328\n",
      "  eda_8-12Hz                : 0.0836\n",
      "Finished LogisticRegression {'subject': 2, 'tonic_cutoff': 0.1, 'window_duration': 0.5, 'step_size': 0.5, 'split_method': 'stratify'} → F1=0.461, BalAcc=0.478\n",
      "\n",
      "=== XGBoost ===\n",
      "F1 (macro): 0.641071915473756\n",
      "Balanced Accuracy: 0.6344806232865934\n",
      "Top features by mean(|SHAP|):\n",
      "  temperature_tonic_var     : 0.5922\n",
      "  eda_phasic_mean           : 0.5044\n",
      "  bvp_mean                  : 0.3111\n",
      "Finished XGBoost {'subject': 2, 'tonic_cutoff': 0.1, 'window_duration': 0.5, 'step_size': 0.5, 'split_method': 'stratify'} → F1=0.641, BalAcc=0.634\n",
      "\n",
      "=== NaiveBayes ===\n",
      "F1 (macro): 0.16681786423559106\n",
      "Balanced Accuracy: 0.4035045415642431\n"
     ]
    },
    {
     "name": "stderr",
     "output_type": "stream",
     "text": [
      "100%|██████████| 100/100 [00:17<00:00,  5.72it/s]\n"
     ]
    },
    {
     "name": "stdout",
     "output_type": "stream",
     "text": [
      "Top features by mean(|SHAP|):\n",
      "  eda_tonic_var             : 0.0292\n",
      "  bvp_tonic_var             : 0.0251\n",
      "  temperature_mean          : 0.0197\n",
      "Finished NaiveBayes {'subject': 2, 'tonic_cutoff': 0.1, 'window_duration': 0.5, 'step_size': 0.5, 'split_method': 'stratify'} → F1=0.167, BalAcc=0.404\n",
      "\n",
      "Running for params: {'subject': 2, 'tonic_cutoff': 0.1, 'window_duration': 0.5, 'step_size': 1.0, 'split_method': 'split'}\n",
      "\n",
      "=== RandomForest ===\n",
      "F1 (macro): 0.19646798093159565\n",
      "Balanced Accuracy: 0.40651172536443053\n",
      "Top features by mean(|SHAP|):\n",
      "  temperature_tonic_mean    : 0.0274\n",
      "  bvp_tonic_var             : 0.0244\n",
      "  eda_tonic_var             : 0.0222\n",
      "Finished RandomForest {'subject': 2, 'tonic_cutoff': 0.1, 'window_duration': 0.5, 'step_size': 1.0, 'split_method': 'split'} → F1=0.196, BalAcc=0.407\n",
      "\n",
      "=== KNeighbors ===\n",
      "F1 (macro): 0.19429941268128972\n",
      "Balanced Accuracy: 0.3677921488718674\n"
     ]
    },
    {
     "name": "stderr",
     "output_type": "stream",
     "text": [
      "100%|██████████| 100/100 [00:24<00:00,  4.01it/s]\n"
     ]
    },
    {
     "name": "stdout",
     "output_type": "stream",
     "text": [
      "Top features by mean(|SHAP|):\n",
      "  temperature_phasic_var    : 0.0286\n",
      "  temperature_phasic_mean   : 0.0264\n",
      "  bvp_kurt                  : 0.0194\n",
      "Finished KNeighbors {'subject': 2, 'tonic_cutoff': 0.1, 'window_duration': 0.5, 'step_size': 1.0, 'split_method': 'split'} → F1=0.194, BalAcc=0.368\n",
      "\n",
      "=== LogisticRegression ===\n",
      "F1 (macro): 0.21747772998439707\n",
      "Balanced Accuracy: 0.4160777650877192\n"
     ]
    },
    {
     "name": "stderr",
     "output_type": "stream",
     "text": [
      "100%|██████████| 100/100 [00:06<00:00, 15.83it/s]\n",
      "/Users/xxd/Documents/PhD/PainAssessment/EmbracePlus/data/.venv/lib/python3.13/site-packages/xgboost/training.py:183: UserWarning: [03:22:21] WARNING: /Users/runner/work/xgboost/xgboost/src/learner.cc:738: \n",
      "Parameters: { \"use_label_encoder\" } are not used.\n",
      "\n",
      "  bst.update(dtrain, iteration=i, fobj=obj)\n"
     ]
    },
    {
     "name": "stdout",
     "output_type": "stream",
     "text": [
      "Top features by mean(|SHAP|):\n",
      "  bvp_30-45Hz               : 0.0485\n",
      "  temperature_slope         : 0.0351\n",
      "  bvp_phasic_mean           : 0.0268\n",
      "Finished LogisticRegression {'subject': 2, 'tonic_cutoff': 0.1, 'window_duration': 0.5, 'step_size': 1.0, 'split_method': 'split'} → F1=0.217, BalAcc=0.416\n",
      "\n",
      "=== XGBoost ===\n",
      "F1 (macro): 0.22447589941776558\n",
      "Balanced Accuracy: 0.46331057749301197\n",
      "Top features by mean(|SHAP|):\n",
      "  temperature_tonic_mean    : 0.6013\n",
      "  eda_tonic_var             : 0.5157\n",
      "  eda_tonic_mean            : 0.3206\n",
      "Finished XGBoost {'subject': 2, 'tonic_cutoff': 0.1, 'window_duration': 0.5, 'step_size': 1.0, 'split_method': 'split'} → F1=0.224, BalAcc=0.463\n",
      "\n",
      "=== NaiveBayes ===\n",
      "F1 (macro): 0.1945598561785605\n",
      "Balanced Accuracy: 0.2744265183178385\n"
     ]
    },
    {
     "name": "stderr",
     "output_type": "stream",
     "text": [
      "100%|██████████| 100/100 [00:17<00:00,  5.71it/s]\n"
     ]
    },
    {
     "name": "stdout",
     "output_type": "stream",
     "text": [
      "Top features by mean(|SHAP|):\n",
      "  eda_tonic_var             : 0.0752\n",
      "  eda_tonic_mean            : 0.0473\n",
      "  temperature_tonic_mean    : 0.0385\n",
      "Finished NaiveBayes {'subject': 2, 'tonic_cutoff': 0.1, 'window_duration': 0.5, 'step_size': 1.0, 'split_method': 'split'} → F1=0.195, BalAcc=0.274\n",
      "\n",
      "Running for params: {'subject': 2, 'tonic_cutoff': 0.1, 'window_duration': 0.5, 'step_size': 1.0, 'split_method': 'stratify'}\n",
      "\n",
      "=== RandomForest ===\n",
      "F1 (macro): 0.6042391305549201\n",
      "Balanced Accuracy: 0.608255681484764\n",
      "Top features by mean(|SHAP|):\n",
      "  eda_phasic_mean           : 0.0379\n",
      "  bvp_mean                  : 0.0227\n",
      "  temperature_tonic_var     : 0.0214\n",
      "Finished RandomForest {'subject': 2, 'tonic_cutoff': 0.1, 'window_duration': 0.5, 'step_size': 1.0, 'split_method': 'stratify'} → F1=0.604, BalAcc=0.608\n",
      "\n",
      "=== KNeighbors ===\n",
      "F1 (macro): 0.5239652557642654\n",
      "Balanced Accuracy: 0.5222753053968794\n"
     ]
    },
    {
     "name": "stderr",
     "output_type": "stream",
     "text": [
      "100%|██████████| 100/100 [00:42<00:00,  2.34it/s]\n"
     ]
    },
    {
     "name": "stdout",
     "output_type": "stream",
     "text": [
      "Top features by mean(|SHAP|):\n",
      "  temperature_phasic_var    : 0.0392\n",
      "  temperature_phasic_mean   : 0.0282\n",
      "  eda_tonic_mean            : 0.0266\n",
      "Finished KNeighbors {'subject': 2, 'tonic_cutoff': 0.1, 'window_duration': 0.5, 'step_size': 1.0, 'split_method': 'stratify'} → F1=0.524, BalAcc=0.522\n",
      "\n",
      "=== LogisticRegression ===\n",
      "F1 (macro): 0.4701795898556001\n",
      "Balanced Accuracy: 0.486890749160753\n"
     ]
    },
    {
     "name": "stderr",
     "output_type": "stream",
     "text": [
      "100%|██████████| 100/100 [00:06<00:00, 15.41it/s]\n",
      "/Users/xxd/Documents/PhD/PainAssessment/EmbracePlus/data/.venv/lib/python3.13/site-packages/xgboost/training.py:183: UserWarning: [03:23:49] WARNING: /Users/runner/work/xgboost/xgboost/src/learner.cc:738: \n",
      "Parameters: { \"use_label_encoder\" } are not used.\n",
      "\n",
      "  bst.update(dtrain, iteration=i, fobj=obj)\n"
     ]
    },
    {
     "name": "stdout",
     "output_type": "stream",
     "text": [
      "Top features by mean(|SHAP|):\n",
      "  temperature_slope         : 0.1406\n",
      "  bvp_30-45Hz               : 0.1158\n",
      "  eda_0.5-4Hz               : 0.0674\n",
      "Finished LogisticRegression {'subject': 2, 'tonic_cutoff': 0.1, 'window_duration': 0.5, 'step_size': 1.0, 'split_method': 'stratify'} → F1=0.470, BalAcc=0.487\n",
      "\n",
      "=== XGBoost ===\n",
      "F1 (macro): 0.6308959318943842\n",
      "Balanced Accuracy: 0.6240029704993798\n",
      "Top features by mean(|SHAP|):\n",
      "  eda_phasic_mean           : 0.5420\n",
      "  bvp_mean                  : 0.3878\n",
      "  temperature_tonic_var     : 0.3553\n",
      "Finished XGBoost {'subject': 2, 'tonic_cutoff': 0.1, 'window_duration': 0.5, 'step_size': 1.0, 'split_method': 'stratify'} → F1=0.631, BalAcc=0.624\n",
      "\n",
      "=== NaiveBayes ===\n",
      "F1 (macro): 0.24866267551037988\n",
      "Balanced Accuracy: 0.4542557260017847\n"
     ]
    },
    {
     "name": "stderr",
     "output_type": "stream",
     "text": [
      "100%|██████████| 100/100 [00:17<00:00,  5.66it/s]\n"
     ]
    },
    {
     "name": "stdout",
     "output_type": "stream",
     "text": [
      "Top features by mean(|SHAP|):\n",
      "  eda_tonic_var             : 0.0585\n",
      "  temperature_mean          : 0.0334\n",
      "  bvp_tonic_var             : 0.0180\n",
      "Finished NaiveBayes {'subject': 2, 'tonic_cutoff': 0.1, 'window_duration': 0.5, 'step_size': 1.0, 'split_method': 'stratify'} → F1=0.249, BalAcc=0.454\n",
      "\n",
      "Running for params: {'subject': 2, 'tonic_cutoff': 0.1, 'window_duration': 0.5, 'step_size': 5.0, 'split_method': 'split'}\n",
      "\n",
      "=== RandomForest ===\n",
      "F1 (macro): 0.15873015873015872\n",
      "Balanced Accuracy: 0.32608695652173914\n",
      "Top features by mean(|SHAP|):\n",
      "  temperature_tonic_var     : 0.0271\n",
      "  temperature_tonic_mean    : 0.0210\n",
      "  bvp_tonic_var             : 0.0188\n",
      "Finished RandomForest {'subject': 2, 'tonic_cutoff': 0.1, 'window_duration': 0.5, 'step_size': 5.0, 'split_method': 'split'} → F1=0.159, BalAcc=0.326\n",
      "\n",
      "=== KNeighbors ===\n",
      "F1 (macro): 0.15708812260536398\n",
      "Balanced Accuracy: 0.2971014492753623\n"
     ]
    },
    {
     "name": "stderr",
     "output_type": "stream",
     "text": [
      "100%|██████████| 100/100 [00:10<00:00,  9.73it/s]\n"
     ]
    },
    {
     "name": "stdout",
     "output_type": "stream",
     "text": [
      "Top features by mean(|SHAP|):\n",
      "  temperature_phasic_mean   : 0.0239\n",
      "  temperature_phasic_var    : 0.0237\n",
      "  eda_mean                  : 0.0202\n",
      "Finished KNeighbors {'subject': 2, 'tonic_cutoff': 0.1, 'window_duration': 0.5, 'step_size': 5.0, 'split_method': 'split'} → F1=0.157, BalAcc=0.297\n",
      "\n",
      "=== LogisticRegression ===\n",
      "F1 (macro): 0.16292134831460672\n",
      "Balanced Accuracy: 0.31521739130434784\n"
     ]
    },
    {
     "name": "stderr",
     "output_type": "stream",
     "text": [
      "100%|██████████| 100/100 [00:06<00:00, 16.14it/s]\n",
      "/Users/xxd/Documents/PhD/PainAssessment/EmbracePlus/data/.venv/lib/python3.13/site-packages/xgboost/training.py:183: UserWarning: [03:24:31] WARNING: /Users/runner/work/xgboost/xgboost/src/learner.cc:738: \n",
      "Parameters: { \"use_label_encoder\" } are not used.\n",
      "\n",
      "  bst.update(dtrain, iteration=i, fobj=obj)\n"
     ]
    },
    {
     "name": "stdout",
     "output_type": "stream",
     "text": [
      "Top features by mean(|SHAP|):\n",
      "  bvp_8-12Hz                : 0.0539\n",
      "  bvp_30-45Hz               : 0.0289\n",
      "  bvp_phasic_var            : 0.0243\n",
      "Finished LogisticRegression {'subject': 2, 'tonic_cutoff': 0.1, 'window_duration': 0.5, 'step_size': 5.0, 'split_method': 'split'} → F1=0.163, BalAcc=0.315\n",
      "\n",
      "=== XGBoost ===\n",
      "F1 (macro): 0.21468239569654665\n",
      "Balanced Accuracy: 0.390875635480689\n",
      "Top features by mean(|SHAP|):\n",
      "  temperature_tonic_var     : 0.4141\n",
      "  temperature_tonic_mean    : 0.3055\n",
      "  bvp_phasic_mean           : 0.2863\n",
      "Finished XGBoost {'subject': 2, 'tonic_cutoff': 0.1, 'window_duration': 0.5, 'step_size': 5.0, 'split_method': 'split'} → F1=0.215, BalAcc=0.391\n",
      "\n",
      "=== NaiveBayes ===\n",
      "F1 (macro): 0.18114759401152133\n",
      "Balanced Accuracy: 0.323491918961985\n"
     ]
    },
    {
     "name": "stderr",
     "output_type": "stream",
     "text": [
      "100%|██████████| 100/100 [00:17<00:00,  5.73it/s]\n"
     ]
    },
    {
     "name": "stdout",
     "output_type": "stream",
     "text": [
      "Top features by mean(|SHAP|):\n",
      "  eda_tonic_var             : 0.0694\n",
      "  eda_tonic_mean            : 0.0419\n",
      "  bvp_0.5-4Hz               : 0.0356\n",
      "Finished NaiveBayes {'subject': 2, 'tonic_cutoff': 0.1, 'window_duration': 0.5, 'step_size': 5.0, 'split_method': 'split'} → F1=0.181, BalAcc=0.323\n",
      "\n",
      "Running for params: {'subject': 2, 'tonic_cutoff': 0.1, 'window_duration': 0.5, 'step_size': 5.0, 'split_method': 'stratify'}\n",
      "\n",
      "=== RandomForest ===\n",
      "F1 (macro): 0.5313483418058581\n",
      "Balanced Accuracy: 0.5447483958122256\n",
      "Top features by mean(|SHAP|):\n",
      "  eda_phasic_mean           : 0.0338\n",
      "  bvp_mean                  : 0.0277\n",
      "  temperature_tonic_mean    : 0.0209\n",
      "Finished RandomForest {'subject': 2, 'tonic_cutoff': 0.1, 'window_duration': 0.5, 'step_size': 5.0, 'split_method': 'stratify'} → F1=0.531, BalAcc=0.545\n",
      "\n",
      "=== KNeighbors ===\n",
      "F1 (macro): 0.54\n",
      "Balanced Accuracy: 0.5283350219520432\n"
     ]
    },
    {
     "name": "stderr",
     "output_type": "stream",
     "text": [
      "100%|██████████| 94/94 [00:13<00:00,  6.96it/s]\n"
     ]
    },
    {
     "name": "stdout",
     "output_type": "stream",
     "text": [
      "Top features by mean(|SHAP|):\n",
      "  temperature_phasic_var    : 0.0348\n",
      "  bvp_slope                 : 0.0345\n",
      "  temperature_phasic_mean   : 0.0250\n",
      "Finished KNeighbors {'subject': 2, 'tonic_cutoff': 0.1, 'window_duration': 0.5, 'step_size': 5.0, 'split_method': 'stratify'} → F1=0.540, BalAcc=0.528\n",
      "\n",
      "=== LogisticRegression ===\n",
      "F1 (macro): 0.3638286173497441\n",
      "Balanced Accuracy: 0.3760553866936846\n"
     ]
    },
    {
     "name": "stderr",
     "output_type": "stream",
     "text": [
      "100%|██████████| 94/94 [00:05<00:00, 15.95it/s]\n",
      "/Users/xxd/Documents/PhD/PainAssessment/EmbracePlus/data/.venv/lib/python3.13/site-packages/xgboost/training.py:183: UserWarning: [03:25:13] WARNING: /Users/runner/work/xgboost/xgboost/src/learner.cc:738: \n",
      "Parameters: { \"use_label_encoder\" } are not used.\n",
      "\n",
      "  bst.update(dtrain, iteration=i, fobj=obj)\n"
     ]
    },
    {
     "name": "stdout",
     "output_type": "stream",
     "text": [
      "Top features by mean(|SHAP|):\n",
      "  temperature_slope         : 0.1165\n",
      "  eda_phasic_mean           : 0.0735\n",
      "  bvp_slope                 : 0.0606\n",
      "Finished LogisticRegression {'subject': 2, 'tonic_cutoff': 0.1, 'window_duration': 0.5, 'step_size': 5.0, 'split_method': 'stratify'} → F1=0.364, BalAcc=0.376\n",
      "\n",
      "=== XGBoost ===\n",
      "F1 (macro): 0.6488696488696489\n",
      "Balanced Accuracy: 0.6630530226274907\n",
      "Top features by mean(|SHAP|):\n",
      "  eda_phasic_mean           : 0.6490\n",
      "  bvp_mean                  : 0.4233\n",
      "  temperature_tonic_var     : 0.4168\n",
      "Finished XGBoost {'subject': 2, 'tonic_cutoff': 0.1, 'window_duration': 0.5, 'step_size': 5.0, 'split_method': 'stratify'} → F1=0.649, BalAcc=0.663\n",
      "\n",
      "=== NaiveBayes ===\n",
      "F1 (macro): 0.20007808587749007\n",
      "Balanced Accuracy: 0.43059777102330293\n"
     ]
    },
    {
     "name": "stderr",
     "output_type": "stream",
     "text": [
      "100%|██████████| 94/94 [00:16<00:00,  5.74it/s]\n"
     ]
    },
    {
     "name": "stdout",
     "output_type": "stream",
     "text": [
      "Top features by mean(|SHAP|):\n",
      "  eda_tonic_var             : 0.0505\n",
      "  temperature_mean          : 0.0428\n",
      "  bvp_zero_cross            : 0.0316\n",
      "Finished NaiveBayes {'subject': 2, 'tonic_cutoff': 0.1, 'window_duration': 0.5, 'step_size': 5.0, 'split_method': 'stratify'} → F1=0.200, BalAcc=0.431\n",
      "\n",
      "Running for params: {'subject': 2, 'tonic_cutoff': 0.1, 'window_duration': 1.0, 'step_size': 0.5, 'split_method': 'split'}\n",
      "\n",
      "=== RandomForest ===\n",
      "F1 (macro): 0.18374649381481\n",
      "Balanced Accuracy: 0.35050095863045133\n",
      "Top features by mean(|SHAP|):\n",
      "  temperature_tonic_var     : 0.0291\n",
      "  bvp_tonic_var             : 0.0210\n",
      "  eda_tonic_var             : 0.0208\n",
      "Finished RandomForest {'subject': 2, 'tonic_cutoff': 0.1, 'window_duration': 1.0, 'step_size': 0.5, 'split_method': 'split'} → F1=0.184, BalAcc=0.351\n",
      "\n",
      "=== KNeighbors ===\n",
      "F1 (macro): 0.19867068438548197\n",
      "Balanced Accuracy: 0.39225472563632563\n"
     ]
    },
    {
     "name": "stderr",
     "output_type": "stream",
     "text": [
      "100%|██████████| 100/100 [00:39<00:00,  2.54it/s]\n"
     ]
    },
    {
     "name": "stdout",
     "output_type": "stream",
     "text": [
      "Top features by mean(|SHAP|):\n",
      "  temperature_phasic_var    : 0.0355\n",
      "  eda_mean                  : 0.0260\n",
      "  temperature_phasic_mean   : 0.0203\n",
      "Finished KNeighbors {'subject': 2, 'tonic_cutoff': 0.1, 'window_duration': 1.0, 'step_size': 0.5, 'split_method': 'split'} → F1=0.199, BalAcc=0.392\n",
      "\n",
      "=== LogisticRegression ===\n",
      "F1 (macro): 0.1932592639572506\n",
      "Balanced Accuracy: 0.41532078526614047\n"
     ]
    },
    {
     "name": "stderr",
     "output_type": "stream",
     "text": [
      "100%|██████████| 100/100 [00:06<00:00, 14.52it/s]\n",
      "/Users/xxd/Documents/PhD/PainAssessment/EmbracePlus/data/.venv/lib/python3.13/site-packages/xgboost/training.py:183: UserWarning: [03:26:52] WARNING: /Users/runner/work/xgboost/xgboost/src/learner.cc:738: \n",
      "Parameters: { \"use_label_encoder\" } are not used.\n",
      "\n",
      "  bst.update(dtrain, iteration=i, fobj=obj)\n"
     ]
    },
    {
     "name": "stdout",
     "output_type": "stream",
     "text": [
      "Top features by mean(|SHAP|):\n",
      "  temperature_slope         : 0.0730\n",
      "  eda_4-8Hz                 : 0.0423\n",
      "  eda_0.5-4Hz               : 0.0368\n",
      "Finished LogisticRegression {'subject': 2, 'tonic_cutoff': 0.1, 'window_duration': 1.0, 'step_size': 0.5, 'split_method': 'split'} → F1=0.193, BalAcc=0.415\n",
      "\n",
      "=== XGBoost ===\n",
      "F1 (macro): 0.2597234293565103\n",
      "Balanced Accuracy: 0.41863516306294396\n",
      "Top features by mean(|SHAP|):\n",
      "  temperature_tonic_mean    : 0.4388\n",
      "  temperature_tonic_var     : 0.4054\n",
      "  eda_phasic_mean           : 0.4007\n",
      "Finished XGBoost {'subject': 2, 'tonic_cutoff': 0.1, 'window_duration': 1.0, 'step_size': 0.5, 'split_method': 'split'} → F1=0.260, BalAcc=0.419\n",
      "\n",
      "=== NaiveBayes ===\n",
      "F1 (macro): 0.20710616056379572\n",
      "Balanced Accuracy: 0.18146098728402082\n"
     ]
    },
    {
     "name": "stderr",
     "output_type": "stream",
     "text": [
      "100%|██████████| 100/100 [00:18<00:00,  5.28it/s]\n"
     ]
    },
    {
     "name": "stdout",
     "output_type": "stream",
     "text": [
      "Top features by mean(|SHAP|):\n",
      "  eda_phasic_var            : 0.0495\n",
      "  bvp_tonic_var             : 0.0399\n",
      "  temperature_tonic_mean    : 0.0386\n",
      "Finished NaiveBayes {'subject': 2, 'tonic_cutoff': 0.1, 'window_duration': 1.0, 'step_size': 0.5, 'split_method': 'split'} → F1=0.207, BalAcc=0.181\n",
      "\n",
      "Running for params: {'subject': 2, 'tonic_cutoff': 0.1, 'window_duration': 1.0, 'step_size': 0.5, 'split_method': 'stratify'}\n",
      "\n",
      "=== RandomForest ===\n",
      "F1 (macro): 0.5999661252967945\n",
      "Balanced Accuracy: 0.6126953554919656\n",
      "Top features by mean(|SHAP|):\n",
      "  eda_phasic_mean           : 0.0493\n",
      "  bvp_max                   : 0.0232\n",
      "  bvp_mean                  : 0.0203\n",
      "Finished RandomForest {'subject': 2, 'tonic_cutoff': 0.1, 'window_duration': 1.0, 'step_size': 0.5, 'split_method': 'stratify'} → F1=0.600, BalAcc=0.613\n",
      "\n",
      "=== KNeighbors ===\n",
      "F1 (macro): 0.5192164691001427\n",
      "Balanced Accuracy: 0.5203355182168741\n"
     ]
    },
    {
     "name": "stderr",
     "output_type": "stream",
     "text": [
      "100%|██████████| 100/100 [01:09<00:00,  1.44it/s]\n"
     ]
    },
    {
     "name": "stdout",
     "output_type": "stream",
     "text": [
      "Top features by mean(|SHAP|):\n",
      "  temperature_phasic_mean   : 0.0484\n",
      "  temperature_phasic_var    : 0.0422\n",
      "  bvp_slope                 : 0.0277\n",
      "Finished KNeighbors {'subject': 2, 'tonic_cutoff': 0.1, 'window_duration': 1.0, 'step_size': 0.5, 'split_method': 'stratify'} → F1=0.519, BalAcc=0.520\n",
      "\n",
      "=== LogisticRegression ===\n",
      "F1 (macro): 0.5051731893837157\n",
      "Balanced Accuracy: 0.5237687610568966\n"
     ]
    },
    {
     "name": "stderr",
     "output_type": "stream",
     "text": [
      "100%|██████████| 100/100 [00:06<00:00, 15.30it/s]\n",
      "/Users/xxd/Documents/PhD/PainAssessment/EmbracePlus/data/.venv/lib/python3.13/site-packages/xgboost/training.py:183: UserWarning: [03:29:06] WARNING: /Users/runner/work/xgboost/xgboost/src/learner.cc:738: \n",
      "Parameters: { \"use_label_encoder\" } are not used.\n",
      "\n",
      "  bst.update(dtrain, iteration=i, fobj=obj)\n"
     ]
    },
    {
     "name": "stdout",
     "output_type": "stream",
     "text": [
      "Top features by mean(|SHAP|):\n",
      "  temperature_slope         : 0.2280\n",
      "  eda_0.5-4Hz               : 0.1239\n",
      "  eda_4-8Hz                 : 0.0905\n",
      "Finished LogisticRegression {'subject': 2, 'tonic_cutoff': 0.1, 'window_duration': 1.0, 'step_size': 0.5, 'split_method': 'stratify'} → F1=0.505, BalAcc=0.524\n",
      "\n",
      "=== XGBoost ===\n",
      "F1 (macro): 0.6414874713104263\n",
      "Balanced Accuracy: 0.6397648804428465\n",
      "Top features by mean(|SHAP|):\n",
      "  eda_phasic_mean           : 0.5014\n",
      "  temperature_tonic_var     : 0.4436\n",
      "  bvp_mean                  : 0.3358\n",
      "Finished XGBoost {'subject': 2, 'tonic_cutoff': 0.1, 'window_duration': 1.0, 'step_size': 0.5, 'split_method': 'stratify'} → F1=0.641, BalAcc=0.640\n",
      "\n",
      "=== NaiveBayes ===\n",
      "F1 (macro): 0.18941487802053625\n",
      "Balanced Accuracy: 0.40449572398724937\n"
     ]
    },
    {
     "name": "stderr",
     "output_type": "stream",
     "text": [
      "100%|██████████| 100/100 [00:17<00:00,  5.61it/s]\n"
     ]
    },
    {
     "name": "stdout",
     "output_type": "stream",
     "text": [
      "Top features by mean(|SHAP|):\n",
      "  bvp_zero_cross            : 0.0300\n",
      "  eda_kurt                  : 0.0262\n",
      "  bvp_tonic_var             : 0.0234\n",
      "Finished NaiveBayes {'subject': 2, 'tonic_cutoff': 0.1, 'window_duration': 1.0, 'step_size': 0.5, 'split_method': 'stratify'} → F1=0.189, BalAcc=0.404\n",
      "\n",
      "Running for params: {'subject': 2, 'tonic_cutoff': 0.1, 'window_duration': 1.0, 'step_size': 1.0, 'split_method': 'split'}\n",
      "\n",
      "=== RandomForest ===\n",
      "F1 (macro): 0.1837043871489512\n",
      "Balanced Accuracy: 0.3543856811687962\n",
      "Top features by mean(|SHAP|):\n",
      "  eda_tonic_var             : 0.0340\n",
      "  bvp_tonic_var             : 0.0227\n",
      "  temperature_tonic_var     : 0.0168\n",
      "Finished RandomForest {'subject': 2, 'tonic_cutoff': 0.1, 'window_duration': 1.0, 'step_size': 1.0, 'split_method': 'split'} → F1=0.184, BalAcc=0.354\n",
      "\n",
      "=== KNeighbors ===\n",
      "F1 (macro): 0.18724533468934754\n",
      "Balanced Accuracy: 0.3401553188562037\n"
     ]
    },
    {
     "name": "stderr",
     "output_type": "stream",
     "text": [
      "100%|██████████| 100/100 [00:25<00:00,  3.85it/s]\n"
     ]
    },
    {
     "name": "stdout",
     "output_type": "stream",
     "text": [
      "Top features by mean(|SHAP|):\n",
      "  temperature_phasic_var    : 0.0302\n",
      "  temperature_phasic_mean   : 0.0247\n",
      "  eda_mean                  : 0.0238\n",
      "Finished KNeighbors {'subject': 2, 'tonic_cutoff': 0.1, 'window_duration': 1.0, 'step_size': 1.0, 'split_method': 'split'} → F1=0.187, BalAcc=0.340\n",
      "\n",
      "=== LogisticRegression ===\n",
      "F1 (macro): 0.18221321081253952\n",
      "Balanced Accuracy: 0.3652220149104606\n"
     ]
    },
    {
     "name": "stderr",
     "output_type": "stream",
     "text": [
      "100%|██████████| 100/100 [00:06<00:00, 14.82it/s]\n",
      "/Users/xxd/Documents/PhD/PainAssessment/EmbracePlus/data/.venv/lib/python3.13/site-packages/xgboost/training.py:183: UserWarning: [03:30:17] WARNING: /Users/runner/work/xgboost/xgboost/src/learner.cc:738: \n",
      "Parameters: { \"use_label_encoder\" } are not used.\n",
      "\n",
      "  bst.update(dtrain, iteration=i, fobj=obj)\n"
     ]
    },
    {
     "name": "stdout",
     "output_type": "stream",
     "text": [
      "Top features by mean(|SHAP|):\n",
      "  temperature_slope         : 0.0510\n",
      "  temperature_kurt          : 0.0371\n",
      "  temperature_30-45Hz       : 0.0369\n",
      "Finished LogisticRegression {'subject': 2, 'tonic_cutoff': 0.1, 'window_duration': 1.0, 'step_size': 1.0, 'split_method': 'split'} → F1=0.182, BalAcc=0.365\n",
      "\n",
      "=== XGBoost ===\n",
      "F1 (macro): 0.22144555535575883\n",
      "Balanced Accuracy: 0.3904025708699254\n",
      "Top features by mean(|SHAP|):\n",
      "  eda_tonic_var             : 0.6297\n",
      "  eda_phasic_mean           : 0.5756\n",
      "  eda_tonic_mean            : 0.3969\n",
      "Finished XGBoost {'subject': 2, 'tonic_cutoff': 0.1, 'window_duration': 1.0, 'step_size': 1.0, 'split_method': 'split'} → F1=0.221, BalAcc=0.390\n",
      "\n",
      "=== NaiveBayes ===\n",
      "F1 (macro): 0.1984671554709869\n",
      "Balanced Accuracy: 0.1993665681808248\n"
     ]
    },
    {
     "name": "stderr",
     "output_type": "stream",
     "text": [
      "100%|██████████| 100/100 [00:17<00:00,  5.63it/s]\n"
     ]
    },
    {
     "name": "stdout",
     "output_type": "stream",
     "text": [
      "Top features by mean(|SHAP|):\n",
      "  eda_tonic_var             : 0.0664\n",
      "  eda_kurt                  : 0.0360\n",
      "  bvp_tonic_var             : 0.0356\n",
      "Finished NaiveBayes {'subject': 2, 'tonic_cutoff': 0.1, 'window_duration': 1.0, 'step_size': 1.0, 'split_method': 'split'} → F1=0.198, BalAcc=0.199\n",
      "\n",
      "Running for params: {'subject': 2, 'tonic_cutoff': 0.1, 'window_duration': 1.0, 'step_size': 1.0, 'split_method': 'stratify'}\n",
      "\n",
      "=== RandomForest ===\n",
      "F1 (macro): 0.6189147468494003\n",
      "Balanced Accuracy: 0.6250009915677083\n",
      "Top features by mean(|SHAP|):\n",
      "  eda_phasic_mean           : 0.0482\n",
      "  bvp_max                   : 0.0188\n",
      "  eda_tonic_mean            : 0.0187\n",
      "Finished RandomForest {'subject': 2, 'tonic_cutoff': 0.1, 'window_duration': 1.0, 'step_size': 1.0, 'split_method': 'stratify'} → F1=0.619, BalAcc=0.625\n",
      "\n",
      "=== KNeighbors ===\n",
      "F1 (macro): 0.49596883468834685\n",
      "Balanced Accuracy: 0.5042617580098839\n"
     ]
    },
    {
     "name": "stderr",
     "output_type": "stream",
     "text": [
      "100%|██████████| 100/100 [00:43<00:00,  2.32it/s]\n"
     ]
    },
    {
     "name": "stdout",
     "output_type": "stream",
     "text": [
      "Top features by mean(|SHAP|):\n",
      "  temperature_phasic_var    : 0.0440\n",
      "  temperature_phasic_mean   : 0.0415\n",
      "  temperature_30-45Hz       : 0.0323\n",
      "Finished KNeighbors {'subject': 2, 'tonic_cutoff': 0.1, 'window_duration': 1.0, 'step_size': 1.0, 'split_method': 'stratify'} → F1=0.496, BalAcc=0.504\n",
      "\n",
      "=== LogisticRegression ===\n",
      "F1 (macro): 0.4754829419473136\n",
      "Balanced Accuracy: 0.4938459341757693\n"
     ]
    },
    {
     "name": "stderr",
     "output_type": "stream",
     "text": [
      "100%|██████████| 100/100 [00:06<00:00, 14.57it/s]\n",
      "/Users/xxd/Documents/PhD/PainAssessment/EmbracePlus/data/.venv/lib/python3.13/site-packages/xgboost/training.py:183: UserWarning: [03:31:48] WARNING: /Users/runner/work/xgboost/xgboost/src/learner.cc:738: \n",
      "Parameters: { \"use_label_encoder\" } are not used.\n",
      "\n",
      "  bst.update(dtrain, iteration=i, fobj=obj)\n"
     ]
    },
    {
     "name": "stdout",
     "output_type": "stream",
     "text": [
      "Top features by mean(|SHAP|):\n",
      "  temperature_slope         : 0.2164\n",
      "  eda_0.5-4Hz               : 0.1115\n",
      "  bvp_12-30Hz               : 0.0879\n",
      "Finished LogisticRegression {'subject': 2, 'tonic_cutoff': 0.1, 'window_duration': 1.0, 'step_size': 1.0, 'split_method': 'stratify'} → F1=0.475, BalAcc=0.494\n",
      "\n",
      "=== XGBoost ===\n",
      "F1 (macro): 0.6683278851664998\n",
      "Balanced Accuracy: 0.6566117734783402\n",
      "Top features by mean(|SHAP|):\n",
      "  eda_phasic_mean           : 0.7239\n",
      "  bvp_range                 : 0.3081\n",
      "  eda_tonic_mean            : 0.3078\n",
      "Finished XGBoost {'subject': 2, 'tonic_cutoff': 0.1, 'window_duration': 1.0, 'step_size': 1.0, 'split_method': 'stratify'} → F1=0.668, BalAcc=0.657\n",
      "\n",
      "=== NaiveBayes ===\n",
      "F1 (macro): 0.21477464724830997\n",
      "Balanced Accuracy: 0.4241597455240634\n"
     ]
    },
    {
     "name": "stderr",
     "output_type": "stream",
     "text": [
      "100%|██████████| 100/100 [00:18<00:00,  5.47it/s]\n"
     ]
    },
    {
     "name": "stdout",
     "output_type": "stream",
     "text": [
      "Top features by mean(|SHAP|):\n",
      "  eda_tonic_var             : 0.0562\n",
      "  temperature_mean          : 0.0364\n",
      "  bvp_zero_cross            : 0.0259\n",
      "Finished NaiveBayes {'subject': 2, 'tonic_cutoff': 0.1, 'window_duration': 1.0, 'step_size': 1.0, 'split_method': 'stratify'} → F1=0.215, BalAcc=0.424\n",
      "\n",
      "Running for params: {'subject': 2, 'tonic_cutoff': 0.1, 'window_duration': 1.0, 'step_size': 5.0, 'split_method': 'split'}\n",
      "\n",
      "=== RandomForest ===\n",
      "F1 (macro): 0.23542159180457053\n",
      "Balanced Accuracy: 0.39637681159420285\n",
      "Top features by mean(|SHAP|):\n",
      "  bvp_range                 : 0.0284\n",
      "  bvp_tonic_var             : 0.0219\n",
      "  temperature_tonic_var     : 0.0190\n",
      "Finished RandomForest {'subject': 2, 'tonic_cutoff': 0.1, 'window_duration': 1.0, 'step_size': 5.0, 'split_method': 'split'} → F1=0.235, BalAcc=0.396\n",
      "\n",
      "=== KNeighbors ===\n",
      "F1 (macro): 0.19413748108802883\n",
      "Balanced Accuracy: 0.42667880719326207\n"
     ]
    },
    {
     "name": "stderr",
     "output_type": "stream",
     "text": [
      "100%|██████████| 100/100 [00:11<00:00,  8.64it/s]\n"
     ]
    },
    {
     "name": "stdout",
     "output_type": "stream",
     "text": [
      "Top features by mean(|SHAP|):\n",
      "  temperature_phasic_var    : 0.0292\n",
      "  temperature_phasic_mean   : 0.0183\n",
      "  temperature_30-45Hz       : 0.0133\n",
      "Finished KNeighbors {'subject': 2, 'tonic_cutoff': 0.1, 'window_duration': 1.0, 'step_size': 5.0, 'split_method': 'split'} → F1=0.194, BalAcc=0.427\n",
      "\n",
      "=== LogisticRegression ===\n",
      "F1 (macro): 0.21222643097643099\n",
      "Balanced Accuracy: 0.5097162151908339\n"
     ]
    },
    {
     "name": "stderr",
     "output_type": "stream",
     "text": [
      "100%|██████████| 100/100 [00:06<00:00, 14.51it/s]\n",
      "/Users/xxd/Documents/PhD/PainAssessment/EmbracePlus/data/.venv/lib/python3.13/site-packages/xgboost/training.py:183: UserWarning: [03:32:32] WARNING: /Users/runner/work/xgboost/xgboost/src/learner.cc:738: \n",
      "Parameters: { \"use_label_encoder\" } are not used.\n",
      "\n",
      "  bst.update(dtrain, iteration=i, fobj=obj)\n"
     ]
    },
    {
     "name": "stdout",
     "output_type": "stream",
     "text": [
      "Top features by mean(|SHAP|):\n",
      "  eda_phasic_mean           : 0.0271\n",
      "  bvp_phasic_var            : 0.0215\n",
      "  bvp_phasic_mean           : 0.0204\n",
      "Finished LogisticRegression {'subject': 2, 'tonic_cutoff': 0.1, 'window_duration': 1.0, 'step_size': 5.0, 'split_method': 'split'} → F1=0.212, BalAcc=0.510\n",
      "\n",
      "=== XGBoost ===\n",
      "F1 (macro): 0.26087247962247967\n",
      "Balanced Accuracy: 0.46116549055315276\n",
      "Top features by mean(|SHAP|):\n",
      "  bvp_range                 : 0.5296\n",
      "  temperature_tonic_var     : 0.2470\n",
      "  eda_tonic_var             : 0.1853\n",
      "Finished XGBoost {'subject': 2, 'tonic_cutoff': 0.1, 'window_duration': 1.0, 'step_size': 5.0, 'split_method': 'split'} → F1=0.261, BalAcc=0.461\n",
      "\n",
      "=== NaiveBayes ===\n",
      "F1 (macro): 0.1795889082436873\n",
      "Balanced Accuracy: 0.26044844070111545\n"
     ]
    },
    {
     "name": "stderr",
     "output_type": "stream",
     "text": [
      "100%|██████████| 100/100 [00:17<00:00,  5.81it/s]\n"
     ]
    },
    {
     "name": "stdout",
     "output_type": "stream",
     "text": [
      "Top features by mean(|SHAP|):\n",
      "  eda_tonic_var             : 0.0591\n",
      "  temperature_range         : 0.0356\n",
      "  bvp_zero_cross            : 0.0345\n",
      "Finished NaiveBayes {'subject': 2, 'tonic_cutoff': 0.1, 'window_duration': 1.0, 'step_size': 5.0, 'split_method': 'split'} → F1=0.180, BalAcc=0.260\n",
      "\n",
      "Running for params: {'subject': 2, 'tonic_cutoff': 0.1, 'window_duration': 1.0, 'step_size': 5.0, 'split_method': 'stratify'}\n",
      "\n",
      "=== RandomForest ===\n",
      "F1 (macro): 0.5595267642922148\n",
      "Balanced Accuracy: 0.5674081563869229\n",
      "Top features by mean(|SHAP|):\n",
      "  eda_phasic_mean           : 0.0327\n",
      "  bvp_mean                  : 0.0303\n",
      "  bvp_max                   : 0.0201\n",
      "Finished RandomForest {'subject': 2, 'tonic_cutoff': 0.1, 'window_duration': 1.0, 'step_size': 5.0, 'split_method': 'stratify'} → F1=0.560, BalAcc=0.567\n",
      "\n",
      "=== KNeighbors ===\n",
      "F1 (macro): 0.583646655804821\n",
      "Balanced Accuracy: 0.5735760026963262\n"
     ]
    },
    {
     "name": "stderr",
     "output_type": "stream",
     "text": [
      "100%|██████████| 94/94 [00:13<00:00,  7.22it/s]\n"
     ]
    },
    {
     "name": "stdout",
     "output_type": "stream",
     "text": [
      "Top features by mean(|SHAP|):\n",
      "  temperature_phasic_mean   : 0.0429\n",
      "  temperature_phasic_var    : 0.0375\n",
      "  temperature_30-45Hz       : 0.0338\n",
      "Finished KNeighbors {'subject': 2, 'tonic_cutoff': 0.1, 'window_duration': 1.0, 'step_size': 5.0, 'split_method': 'stratify'} → F1=0.584, BalAcc=0.574\n",
      "\n",
      "=== LogisticRegression ===\n",
      "F1 (macro): 0.4813852813852814\n",
      "Balanced Accuracy: 0.4919110212335693\n"
     ]
    },
    {
     "name": "stderr",
     "output_type": "stream",
     "text": [
      "100%|██████████| 94/94 [00:05<00:00, 16.18it/s]\n",
      "/Users/xxd/Documents/PhD/PainAssessment/EmbracePlus/data/.venv/lib/python3.13/site-packages/xgboost/training.py:183: UserWarning: [03:33:14] WARNING: /Users/runner/work/xgboost/xgboost/src/learner.cc:738: \n",
      "Parameters: { \"use_label_encoder\" } are not used.\n",
      "\n",
      "  bst.update(dtrain, iteration=i, fobj=obj)\n"
     ]
    },
    {
     "name": "stdout",
     "output_type": "stream",
     "text": [
      "Top features by mean(|SHAP|):\n",
      "  temperature_slope         : 0.1173\n",
      "  temperature_30-45Hz       : 0.0611\n",
      "  eda_4-8Hz                 : 0.0556\n",
      "Finished LogisticRegression {'subject': 2, 'tonic_cutoff': 0.1, 'window_duration': 1.0, 'step_size': 5.0, 'split_method': 'stratify'} → F1=0.481, BalAcc=0.492\n",
      "\n",
      "=== XGBoost ===\n",
      "F1 (macro): 0.5981240981240982\n",
      "Balanced Accuracy: 0.603572632288507\n",
      "Top features by mean(|SHAP|):\n",
      "  eda_phasic_mean           : 0.5117\n",
      "  temperature_var           : 0.3975\n",
      "  temperature_tonic_var     : 0.3860\n",
      "Finished XGBoost {'subject': 2, 'tonic_cutoff': 0.1, 'window_duration': 1.0, 'step_size': 5.0, 'split_method': 'stratify'} → F1=0.598, BalAcc=0.604\n",
      "\n",
      "=== NaiveBayes ===\n",
      "F1 (macro): 0.12851573377889167\n",
      "Balanced Accuracy: 0.3953488372093023\n"
     ]
    },
    {
     "name": "stderr",
     "output_type": "stream",
     "text": [
      "100%|██████████| 94/94 [00:16<00:00,  5.75it/s]\n"
     ]
    },
    {
     "name": "stdout",
     "output_type": "stream",
     "text": [
      "Top features by mean(|SHAP|):\n",
      "  eda_tonic_var             : 0.0471\n",
      "  bvp_tonic_var             : 0.0262\n",
      "  eda_min                   : 0.0206\n",
      "Finished NaiveBayes {'subject': 2, 'tonic_cutoff': 0.1, 'window_duration': 1.0, 'step_size': 5.0, 'split_method': 'stratify'} → F1=0.129, BalAcc=0.395\n",
      "\n",
      "Running for params: {'subject': 2, 'tonic_cutoff': 0.1, 'window_duration': 5.0, 'step_size': 0.5, 'split_method': 'split'}\n",
      "\n",
      "=== RandomForest ===\n",
      "F1 (macro): 0.16585990289799576\n",
      "Balanced Accuracy: 0.3305307828559398\n",
      "Top features by mean(|SHAP|):\n",
      "  eda_tonic_mean            : 0.0398\n",
      "  eda_tonic_var             : 0.0193\n",
      "  bvp_mean                  : 0.0175\n",
      "Finished RandomForest {'subject': 2, 'tonic_cutoff': 0.1, 'window_duration': 5.0, 'step_size': 0.5, 'split_method': 'split'} → F1=0.166, BalAcc=0.331\n",
      "\n",
      "=== KNeighbors ===\n",
      "F1 (macro): 0.2029001425744297\n",
      "Balanced Accuracy: 0.39247186793559546\n"
     ]
    },
    {
     "name": "stderr",
     "output_type": "stream",
     "text": [
      "100%|██████████| 100/100 [00:38<00:00,  2.60it/s]\n"
     ]
    },
    {
     "name": "stdout",
     "output_type": "stream",
     "text": [
      "Top features by mean(|SHAP|):\n",
      "  temperature_phasic_var    : 0.0662\n",
      "  eda_rms                   : 0.0229\n",
      "  temperature_phasic_mean   : 0.0190\n",
      "Finished KNeighbors {'subject': 2, 'tonic_cutoff': 0.1, 'window_duration': 5.0, 'step_size': 0.5, 'split_method': 'split'} → F1=0.203, BalAcc=0.392\n",
      "\n",
      "=== LogisticRegression ===\n",
      "F1 (macro): 0.1787688927519436\n",
      "Balanced Accuracy: 0.3420252081668675\n"
     ]
    },
    {
     "name": "stderr",
     "output_type": "stream",
     "text": [
      "100%|██████████| 100/100 [00:06<00:00, 15.93it/s]\n",
      "/Users/xxd/Documents/PhD/PainAssessment/EmbracePlus/data/.venv/lib/python3.13/site-packages/xgboost/training.py:183: UserWarning: [03:34:50] WARNING: /Users/runner/work/xgboost/xgboost/src/learner.cc:738: \n",
      "Parameters: { \"use_label_encoder\" } are not used.\n",
      "\n",
      "  bst.update(dtrain, iteration=i, fobj=obj)\n"
     ]
    },
    {
     "name": "stdout",
     "output_type": "stream",
     "text": [
      "Top features by mean(|SHAP|):\n",
      "  temperature_skew          : 0.1230\n",
      "  temperature_slope         : 0.1003\n",
      "  eda_tonic_mean            : 0.0594\n",
      "Finished LogisticRegression {'subject': 2, 'tonic_cutoff': 0.1, 'window_duration': 5.0, 'step_size': 0.5, 'split_method': 'split'} → F1=0.179, BalAcc=0.342\n",
      "\n",
      "=== XGBoost ===\n",
      "F1 (macro): 0.20896201687786334\n",
      "Balanced Accuracy: 0.3454591968902187\n",
      "Top features by mean(|SHAP|):\n",
      "  eda_tonic_mean            : 1.0497\n",
      "  bvp_mean                  : 0.4465\n",
      "  eda_tonic_var             : 0.3790\n",
      "Finished XGBoost {'subject': 2, 'tonic_cutoff': 0.1, 'window_duration': 5.0, 'step_size': 0.5, 'split_method': 'split'} → F1=0.209, BalAcc=0.345\n",
      "\n",
      "=== NaiveBayes ===\n",
      "F1 (macro): 0.07054084068479005\n",
      "Balanced Accuracy: 0.3161715453378498\n"
     ]
    },
    {
     "name": "stderr",
     "output_type": "stream",
     "text": [
      "100%|██████████| 100/100 [00:17<00:00,  5.84it/s]\n"
     ]
    },
    {
     "name": "stdout",
     "output_type": "stream",
     "text": [
      "Top features by mean(|SHAP|):\n",
      "  temperature_mean          : 0.0887\n",
      "  bvp_zero_cross            : 0.0432\n",
      "  eda_tonic_var             : 0.0387\n",
      "Finished NaiveBayes {'subject': 2, 'tonic_cutoff': 0.1, 'window_duration': 5.0, 'step_size': 0.5, 'split_method': 'split'} → F1=0.071, BalAcc=0.316\n",
      "\n",
      "Running for params: {'subject': 2, 'tonic_cutoff': 0.1, 'window_duration': 5.0, 'step_size': 0.5, 'split_method': 'stratify'}\n",
      "\n",
      "=== RandomForest ===\n",
      "F1 (macro): 0.7367031821724194\n",
      "Balanced Accuracy: 0.7135692385715862\n",
      "Top features by mean(|SHAP|):\n",
      "  eda_tonic_mean            : 0.0339\n",
      "  eda_0.5-4Hz               : 0.0315\n",
      "  eda_4-8Hz                 : 0.0296\n",
      "Finished RandomForest {'subject': 2, 'tonic_cutoff': 0.1, 'window_duration': 5.0, 'step_size': 0.5, 'split_method': 'stratify'} → F1=0.737, BalAcc=0.714\n",
      "\n",
      "=== KNeighbors ===\n",
      "F1 (macro): 0.5640178568423745\n",
      "Balanced Accuracy: 0.5663730300785423\n"
     ]
    },
    {
     "name": "stderr",
     "output_type": "stream",
     "text": [
      "100%|██████████| 100/100 [01:08<00:00,  1.46it/s]\n"
     ]
    },
    {
     "name": "stdout",
     "output_type": "stream",
     "text": [
      "Top features by mean(|SHAP|):\n",
      "  temperature_phasic_var    : 0.0637\n",
      "  temperature_skew          : 0.0410\n",
      "  temperature_30-45Hz       : 0.0392\n",
      "Finished KNeighbors {'subject': 2, 'tonic_cutoff': 0.1, 'window_duration': 5.0, 'step_size': 0.5, 'split_method': 'stratify'} → F1=0.564, BalAcc=0.566\n",
      "\n",
      "=== LogisticRegression ===\n",
      "F1 (macro): 0.6374831427596167\n",
      "Balanced Accuracy: 0.6358315050211003\n"
     ]
    },
    {
     "name": "stderr",
     "output_type": "stream",
     "text": [
      "100%|██████████| 100/100 [00:06<00:00, 16.04it/s]\n",
      "/Users/xxd/Documents/PhD/PainAssessment/EmbracePlus/data/.venv/lib/python3.13/site-packages/xgboost/training.py:183: UserWarning: [03:37:01] WARNING: /Users/runner/work/xgboost/xgboost/src/learner.cc:738: \n",
      "Parameters: { \"use_label_encoder\" } are not used.\n",
      "\n",
      "  bst.update(dtrain, iteration=i, fobj=obj)\n"
     ]
    },
    {
     "name": "stdout",
     "output_type": "stream",
     "text": [
      "Top features by mean(|SHAP|):\n",
      "  temperature_slope         : 0.1629\n",
      "  temperature_skew          : 0.1620\n",
      "  temperature_phasic_var    : 0.0608\n",
      "Finished LogisticRegression {'subject': 2, 'tonic_cutoff': 0.1, 'window_duration': 5.0, 'step_size': 0.5, 'split_method': 'stratify'} → F1=0.637, BalAcc=0.636\n",
      "\n",
      "=== XGBoost ===\n",
      "F1 (macro): 0.8125879160848529\n",
      "Balanced Accuracy: 0.7867289193939584\n",
      "Top features by mean(|SHAP|):\n",
      "  eda_tonic_mean            : 0.7532\n",
      "  bvp_mean                  : 0.4822\n",
      "  temperature_range         : 0.4606\n",
      "Finished XGBoost {'subject': 2, 'tonic_cutoff': 0.1, 'window_duration': 5.0, 'step_size': 0.5, 'split_method': 'stratify'} → F1=0.813, BalAcc=0.787\n",
      "\n",
      "=== NaiveBayes ===\n",
      "F1 (macro): 0.2512778137647339\n",
      "Balanced Accuracy: 0.447175767440581\n"
     ]
    },
    {
     "name": "stderr",
     "output_type": "stream",
     "text": [
      "100%|██████████| 100/100 [00:17<00:00,  5.64it/s]\n"
     ]
    },
    {
     "name": "stdout",
     "output_type": "stream",
     "text": [
      "Top features by mean(|SHAP|):\n",
      "  temperature_mean          : 0.0852\n",
      "  bvp_zero_cross            : 0.0321\n",
      "  eda_tonic_var             : 0.0269\n",
      "Finished NaiveBayes {'subject': 2, 'tonic_cutoff': 0.1, 'window_duration': 5.0, 'step_size': 0.5, 'split_method': 'stratify'} → F1=0.251, BalAcc=0.447\n",
      "\n",
      "Running for params: {'subject': 2, 'tonic_cutoff': 0.1, 'window_duration': 5.0, 'step_size': 1.0, 'split_method': 'split'}\n",
      "\n",
      "=== RandomForest ===\n",
      "F1 (macro): 0.16131334760885083\n",
      "Balanced Accuracy: 0.32896652110625907\n",
      "Top features by mean(|SHAP|):\n",
      "  eda_tonic_var             : 0.0304\n",
      "  eda_tonic_mean            : 0.0294\n",
      "  temperature_phasic_var    : 0.0176\n",
      "Finished RandomForest {'subject': 2, 'tonic_cutoff': 0.1, 'window_duration': 5.0, 'step_size': 1.0, 'split_method': 'split'} → F1=0.161, BalAcc=0.329\n",
      "\n",
      "=== KNeighbors ===\n",
      "F1 (macro): 0.21141619310470042\n",
      "Balanced Accuracy: 0.3683190554243791\n"
     ]
    },
    {
     "name": "stderr",
     "output_type": "stream",
     "text": [
      "100%|██████████| 100/100 [00:24<00:00,  4.04it/s]\n"
     ]
    },
    {
     "name": "stdout",
     "output_type": "stream",
     "text": [
      "Top features by mean(|SHAP|):\n",
      "  temperature_phasic_var    : 0.0761\n",
      "  eda_mean                  : 0.0181\n",
      "  eda_rms                   : 0.0180\n",
      "Finished KNeighbors {'subject': 2, 'tonic_cutoff': 0.1, 'window_duration': 5.0, 'step_size': 1.0, 'split_method': 'split'} → F1=0.211, BalAcc=0.368\n",
      "\n",
      "=== LogisticRegression ===\n",
      "F1 (macro): 0.16805458177843113\n",
      "Balanced Accuracy: 0.3288623288739058\n"
     ]
    },
    {
     "name": "stderr",
     "output_type": "stream",
     "text": [
      "100%|██████████| 100/100 [00:06<00:00, 16.14it/s]\n",
      "/Users/xxd/Documents/PhD/PainAssessment/EmbracePlus/data/.venv/lib/python3.13/site-packages/xgboost/training.py:183: UserWarning: [03:38:11] WARNING: /Users/runner/work/xgboost/xgboost/src/learner.cc:738: \n",
      "Parameters: { \"use_label_encoder\" } are not used.\n",
      "\n",
      "  bst.update(dtrain, iteration=i, fobj=obj)\n"
     ]
    },
    {
     "name": "stdout",
     "output_type": "stream",
     "text": [
      "Top features by mean(|SHAP|):\n",
      "  temperature_skew          : 0.1110\n",
      "  temperature_slope         : 0.0746\n",
      "  temperature_phasic_var    : 0.0617\n",
      "Finished LogisticRegression {'subject': 2, 'tonic_cutoff': 0.1, 'window_duration': 5.0, 'step_size': 1.0, 'split_method': 'split'} → F1=0.168, BalAcc=0.329\n",
      "\n",
      "=== XGBoost ===\n",
      "F1 (macro): 0.21018037080952615\n",
      "Balanced Accuracy: 0.3597704900956779\n",
      "Top features by mean(|SHAP|):\n",
      "  eda_tonic_mean            : 0.8532\n",
      "  eda_tonic_var             : 0.4493\n",
      "  bvp_mean                  : 0.3839\n",
      "Finished XGBoost {'subject': 2, 'tonic_cutoff': 0.1, 'window_duration': 5.0, 'step_size': 1.0, 'split_method': 'split'} → F1=0.210, BalAcc=0.360\n",
      "\n",
      "=== NaiveBayes ===\n",
      "F1 (macro): 0.10342151676386163\n",
      "Balanced Accuracy: 0.24775223481619035\n"
     ]
    },
    {
     "name": "stderr",
     "output_type": "stream",
     "text": [
      "100%|██████████| 100/100 [00:17<00:00,  5.64it/s]\n"
     ]
    },
    {
     "name": "stdout",
     "output_type": "stream",
     "text": [
      "Top features by mean(|SHAP|):\n",
      "  temperature_mean          : 0.0716\n",
      "  eda_tonic_var             : 0.0622\n",
      "  bvp_zero_cross            : 0.0388\n",
      "Finished NaiveBayes {'subject': 2, 'tonic_cutoff': 0.1, 'window_duration': 5.0, 'step_size': 1.0, 'split_method': 'split'} → F1=0.103, BalAcc=0.248\n",
      "\n",
      "Running for params: {'subject': 2, 'tonic_cutoff': 0.1, 'window_duration': 5.0, 'step_size': 1.0, 'split_method': 'stratify'}\n",
      "\n",
      "=== RandomForest ===\n",
      "F1 (macro): 0.7030413776160783\n",
      "Balanced Accuracy: 0.6863912231559292\n",
      "Top features by mean(|SHAP|):\n",
      "  eda_4-8Hz                 : 0.0330\n",
      "  eda_0.5-4Hz               : 0.0328\n",
      "  eda_tonic_mean            : 0.0298\n",
      "Finished RandomForest {'subject': 2, 'tonic_cutoff': 0.1, 'window_duration': 5.0, 'step_size': 1.0, 'split_method': 'stratify'} → F1=0.703, BalAcc=0.686\n",
      "\n",
      "=== KNeighbors ===\n",
      "F1 (macro): 0.5745610431741819\n",
      "Balanced Accuracy: 0.5762429971988796\n"
     ]
    },
    {
     "name": "stderr",
     "output_type": "stream",
     "text": [
      "100%|██████████| 100/100 [00:40<00:00,  2.49it/s]\n"
     ]
    },
    {
     "name": "stdout",
     "output_type": "stream",
     "text": [
      "Top features by mean(|SHAP|):\n",
      "  temperature_phasic_var    : 0.0598\n",
      "  temperature_skew          : 0.0427\n",
      "  temperature_30-45Hz       : 0.0409\n",
      "Finished KNeighbors {'subject': 2, 'tonic_cutoff': 0.1, 'window_duration': 5.0, 'step_size': 1.0, 'split_method': 'stratify'} → F1=0.575, BalAcc=0.576\n",
      "\n",
      "=== LogisticRegression ===\n",
      "F1 (macro): 0.6480136202837063\n",
      "Balanced Accuracy: 0.6367296918767508\n"
     ]
    },
    {
     "name": "stderr",
     "output_type": "stream",
     "text": [
      "100%|██████████| 100/100 [00:06<00:00, 15.76it/s]\n",
      "/Users/xxd/Documents/PhD/PainAssessment/EmbracePlus/data/.venv/lib/python3.13/site-packages/xgboost/training.py:183: UserWarning: [03:39:37] WARNING: /Users/runner/work/xgboost/xgboost/src/learner.cc:738: \n",
      "Parameters: { \"use_label_encoder\" } are not used.\n",
      "\n",
      "  bst.update(dtrain, iteration=i, fobj=obj)\n"
     ]
    },
    {
     "name": "stdout",
     "output_type": "stream",
     "text": [
      "Top features by mean(|SHAP|):\n",
      "  temperature_skew          : 0.2193\n",
      "  temperature_slope         : 0.0975\n",
      "  temperature_phasic_var    : 0.0550\n",
      "Finished LogisticRegression {'subject': 2, 'tonic_cutoff': 0.1, 'window_duration': 5.0, 'step_size': 1.0, 'split_method': 'stratify'} → F1=0.648, BalAcc=0.637\n",
      "\n",
      "=== XGBoost ===\n",
      "F1 (macro): 0.7682529307452199\n",
      "Balanced Accuracy: 0.7486675225645815\n",
      "Top features by mean(|SHAP|):\n",
      "  eda_tonic_mean            : 0.6155\n",
      "  eda_0.5-4Hz               : 0.5212\n",
      "  bvp_mean                  : 0.4731\n",
      "Finished XGBoost {'subject': 2, 'tonic_cutoff': 0.1, 'window_duration': 5.0, 'step_size': 1.0, 'split_method': 'stratify'} → F1=0.768, BalAcc=0.749\n",
      "\n",
      "=== NaiveBayes ===\n",
      "F1 (macro): 0.23067395702344937\n",
      "Balanced Accuracy: 0.4445028011204482\n"
     ]
    },
    {
     "name": "stderr",
     "output_type": "stream",
     "text": [
      "100%|██████████| 100/100 [00:17<00:00,  5.76it/s]\n"
     ]
    },
    {
     "name": "stdout",
     "output_type": "stream",
     "text": [
      "Top features by mean(|SHAP|):\n",
      "  temperature_mean          : 0.0497\n",
      "  bvp_zero_cross            : 0.0424\n",
      "  eda_tonic_var             : 0.0356\n",
      "Finished NaiveBayes {'subject': 2, 'tonic_cutoff': 0.1, 'window_duration': 5.0, 'step_size': 1.0, 'split_method': 'stratify'} → F1=0.231, BalAcc=0.445\n",
      "\n",
      "Running for params: {'subject': 2, 'tonic_cutoff': 0.1, 'window_duration': 5.0, 'step_size': 5.0, 'split_method': 'split'}\n",
      "\n",
      "=== RandomForest ===\n",
      "F1 (macro): 0.16399286987522282\n",
      "Balanced Accuracy: 0.3333333333333333\n",
      "Top features by mean(|SHAP|):\n",
      "  eda_tonic_var             : 0.0341\n",
      "  temperature_tonic_var     : 0.0166\n",
      "  temperature_phasic_var    : 0.0138\n",
      "Finished RandomForest {'subject': 2, 'tonic_cutoff': 0.1, 'window_duration': 5.0, 'step_size': 5.0, 'split_method': 'split'} → F1=0.164, BalAcc=0.333\n",
      "\n",
      "=== KNeighbors ===\n",
      "F1 (macro): 0.201145072826995\n",
      "Balanced Accuracy: 0.44306801625642206\n"
     ]
    },
    {
     "name": "stderr",
     "output_type": "stream",
     "text": [
      "100%|██████████| 100/100 [00:10<00:00,  9.44it/s]\n"
     ]
    },
    {
     "name": "stdout",
     "output_type": "stream",
     "text": [
      "Top features by mean(|SHAP|):\n",
      "  temperature_phasic_var    : 0.0502\n",
      "  temperature_phasic_mean   : 0.0217\n",
      "  temperature_30-45Hz       : 0.0191\n",
      "Finished KNeighbors {'subject': 2, 'tonic_cutoff': 0.1, 'window_duration': 5.0, 'step_size': 5.0, 'split_method': 'split'} → F1=0.201, BalAcc=0.443\n",
      "\n",
      "=== LogisticRegression ===\n",
      "F1 (macro): 0.2068297545015276\n",
      "Balanced Accuracy: 0.4466912046622192\n"
     ]
    },
    {
     "name": "stderr",
     "output_type": "stream",
     "text": [
      "100%|██████████| 100/100 [00:06<00:00, 16.00it/s]\n",
      "/Users/xxd/Documents/PhD/PainAssessment/EmbracePlus/data/.venv/lib/python3.13/site-packages/xgboost/training.py:183: UserWarning: [03:40:19] WARNING: /Users/runner/work/xgboost/xgboost/src/learner.cc:738: \n",
      "Parameters: { \"use_label_encoder\" } are not used.\n",
      "\n",
      "  bst.update(dtrain, iteration=i, fobj=obj)\n"
     ]
    },
    {
     "name": "stdout",
     "output_type": "stream",
     "text": [
      "Top features by mean(|SHAP|):\n",
      "  temperature_phasic_var    : 0.0748\n",
      "  temperature_skew          : 0.0555\n",
      "  bvp_30-45Hz               : 0.0512\n",
      "Finished LogisticRegression {'subject': 2, 'tonic_cutoff': 0.1, 'window_duration': 5.0, 'step_size': 5.0, 'split_method': 'split'} → F1=0.207, BalAcc=0.447\n",
      "\n",
      "=== XGBoost ===\n",
      "F1 (macro): 0.2118045714213732\n",
      "Balanced Accuracy: 0.3943255885284871\n",
      "Top features by mean(|SHAP|):\n",
      "  eda_tonic_var             : 0.7257\n",
      "  eda_tonic_mean            : 0.5406\n",
      "  temperature_phasic_var    : 0.2106\n",
      "Finished XGBoost {'subject': 2, 'tonic_cutoff': 0.1, 'window_duration': 5.0, 'step_size': 5.0, 'split_method': 'split'} → F1=0.212, BalAcc=0.394\n",
      "\n",
      "=== NaiveBayes ===\n",
      "F1 (macro): 0.06372621512373065\n",
      "Balanced Accuracy: 0.3099532244459781\n"
     ]
    },
    {
     "name": "stderr",
     "output_type": "stream",
     "text": [
      "100%|██████████| 100/100 [00:17<00:00,  5.77it/s]\n"
     ]
    },
    {
     "name": "stdout",
     "output_type": "stream",
     "text": [
      "Top features by mean(|SHAP|):\n",
      "  temperature_mean          : 0.0898\n",
      "  eda_tonic_var             : 0.0676\n",
      "  bvp_skew                  : 0.0473\n",
      "Finished NaiveBayes {'subject': 2, 'tonic_cutoff': 0.1, 'window_duration': 5.0, 'step_size': 5.0, 'split_method': 'split'} → F1=0.064, BalAcc=0.310\n",
      "\n",
      "Running for params: {'subject': 2, 'tonic_cutoff': 0.1, 'window_duration': 5.0, 'step_size': 5.0, 'split_method': 'stratify'}\n",
      "\n",
      "=== RandomForest ===\n",
      "F1 (macro): 0.6053630363036304\n",
      "Balanced Accuracy: 0.619961944300294\n",
      "Top features by mean(|SHAP|):\n",
      "  eda_4-8Hz                 : 0.0327\n",
      "  eda_0.5-4Hz               : 0.0274\n",
      "  temperature_var           : 0.0261\n",
      "Finished RandomForest {'subject': 2, 'tonic_cutoff': 0.1, 'window_duration': 5.0, 'step_size': 5.0, 'split_method': 'stratify'} → F1=0.605, BalAcc=0.620\n",
      "\n",
      "=== KNeighbors ===\n",
      "F1 (macro): 0.5394024634530964\n",
      "Balanced Accuracy: 0.5438505448884277\n"
     ]
    },
    {
     "name": "stderr",
     "output_type": "stream",
     "text": [
      "100%|██████████| 93/93 [00:12<00:00,  7.30it/s]\n"
     ]
    },
    {
     "name": "stdout",
     "output_type": "stream",
     "text": [
      "Top features by mean(|SHAP|):\n",
      "  temperature_phasic_var    : 0.0629\n",
      "  temperature_phasic_mean   : 0.0389\n",
      "  temperature_30-45Hz       : 0.0291\n",
      "Finished KNeighbors {'subject': 2, 'tonic_cutoff': 0.1, 'window_duration': 5.0, 'step_size': 5.0, 'split_method': 'stratify'} → F1=0.539, BalAcc=0.544\n",
      "\n",
      "=== LogisticRegression ===\n",
      "F1 (macro): 0.6044510631256722\n",
      "Balanced Accuracy: 0.6189240615810413\n"
     ]
    },
    {
     "name": "stderr",
     "output_type": "stream",
     "text": [
      "100%|██████████| 93/93 [00:05<00:00, 15.79it/s]\n",
      "/Users/xxd/Documents/PhD/PainAssessment/EmbracePlus/data/.venv/lib/python3.13/site-packages/xgboost/training.py:183: UserWarning: [03:41:00] WARNING: /Users/runner/work/xgboost/xgboost/src/learner.cc:738: \n",
      "Parameters: { \"use_label_encoder\" } are not used.\n",
      "\n",
      "  bst.update(dtrain, iteration=i, fobj=obj)\n"
     ]
    },
    {
     "name": "stdout",
     "output_type": "stream",
     "text": [
      "Top features by mean(|SHAP|):\n",
      "  temperature_skew          : 0.2001\n",
      "  temperature_slope         : 0.0840\n",
      "  temperature_phasic_var    : 0.0756\n",
      "Finished LogisticRegression {'subject': 2, 'tonic_cutoff': 0.1, 'window_duration': 5.0, 'step_size': 5.0, 'split_method': 'stratify'} → F1=0.604, BalAcc=0.619\n",
      "\n",
      "=== XGBoost ===\n",
      "F1 (macro): 0.601025641025641\n",
      "Balanced Accuracy: 0.6047396644179207\n",
      "Top features by mean(|SHAP|):\n",
      "  temperature_var           : 0.5149\n",
      "  eda_4-8Hz                 : 0.3273\n",
      "  bvp_mean                  : 0.2825\n",
      "Finished XGBoost {'subject': 2, 'tonic_cutoff': 0.1, 'window_duration': 5.0, 'step_size': 5.0, 'split_method': 'stratify'} → F1=0.601, BalAcc=0.605\n",
      "\n",
      "=== NaiveBayes ===\n",
      "F1 (macro): 0.27844664275225867\n",
      "Balanced Accuracy: 0.48763189759557174\n"
     ]
    },
    {
     "name": "stderr",
     "output_type": "stream",
     "text": [
      "100%|██████████| 93/93 [00:16<00:00,  5.57it/s]\n"
     ]
    },
    {
     "name": "stdout",
     "output_type": "stream",
     "text": [
      "Top features by mean(|SHAP|):\n",
      "  temperature_mean          : 0.1056\n",
      "  eda_tonic_var             : 0.0425\n",
      "  bvp_zero_cross            : 0.0283\n",
      "Finished NaiveBayes {'subject': 2, 'tonic_cutoff': 0.1, 'window_duration': 5.0, 'step_size': 5.0, 'split_method': 'stratify'} → F1=0.278, BalAcc=0.488\n",
      "\n",
      "Running for params: {'subject': 2, 'tonic_cutoff': 0.25, 'window_duration': 0.5, 'step_size': 0.5, 'split_method': 'split'}\n",
      "\n",
      "=== RandomForest ===\n",
      "F1 (macro): 0.2118819405833033\n",
      "Balanced Accuracy: 0.43036039552433\n",
      "Top features by mean(|SHAP|):\n",
      "  temperature_tonic_var     : 0.0349\n",
      "  bvp_tonic_var             : 0.0302\n",
      "  temperature_tonic_mean    : 0.0228\n",
      "Finished RandomForest {'subject': 2, 'tonic_cutoff': 0.25, 'window_duration': 0.5, 'step_size': 0.5, 'split_method': 'split'} → F1=0.212, BalAcc=0.430\n",
      "\n",
      "=== KNeighbors ===\n",
      "F1 (macro): 0.19287543762929119\n",
      "Balanced Accuracy: 0.35819293716272177\n"
     ]
    },
    {
     "name": "stderr",
     "output_type": "stream",
     "text": [
      "100%|██████████| 100/100 [00:39<00:00,  2.50it/s]\n"
     ]
    },
    {
     "name": "stdout",
     "output_type": "stream",
     "text": [
      "Top features by mean(|SHAP|):\n",
      "  temperature_phasic_mean   : 0.0316\n",
      "  temperature_phasic_var    : 0.0259\n",
      "  bvp_kurt                  : 0.0183\n",
      "Finished KNeighbors {'subject': 2, 'tonic_cutoff': 0.25, 'window_duration': 0.5, 'step_size': 0.5, 'split_method': 'split'} → F1=0.193, BalAcc=0.358\n",
      "\n",
      "=== LogisticRegression ===\n",
      "F1 (macro): 0.19377149184494682\n",
      "Balanced Accuracy: 0.40187413155912033\n"
     ]
    },
    {
     "name": "stderr",
     "output_type": "stream",
     "text": [
      "100%|██████████| 100/100 [00:06<00:00, 14.76it/s]\n",
      "/Users/xxd/Documents/PhD/PainAssessment/EmbracePlus/data/.venv/lib/python3.13/site-packages/xgboost/training.py:183: UserWarning: [03:42:38] WARNING: /Users/runner/work/xgboost/xgboost/src/learner.cc:738: \n",
      "Parameters: { \"use_label_encoder\" } are not used.\n",
      "\n",
      "  bst.update(dtrain, iteration=i, fobj=obj)\n"
     ]
    },
    {
     "name": "stdout",
     "output_type": "stream",
     "text": [
      "Top features by mean(|SHAP|):\n",
      "  bvp_30-45Hz               : 0.0807\n",
      "  temperature_slope         : 0.0740\n",
      "  bvp_phasic_var            : 0.0318\n",
      "Finished LogisticRegression {'subject': 2, 'tonic_cutoff': 0.25, 'window_duration': 0.5, 'step_size': 0.5, 'split_method': 'split'} → F1=0.194, BalAcc=0.402\n",
      "\n",
      "=== XGBoost ===\n",
      "F1 (macro): 0.2285157748676753\n",
      "Balanced Accuracy: 0.4395136773592254\n",
      "Top features by mean(|SHAP|):\n",
      "  temperature_tonic_var     : 0.7680\n",
      "  temperature_tonic_mean    : 0.5046\n",
      "  eda_phasic_mean           : 0.3888\n",
      "Finished XGBoost {'subject': 2, 'tonic_cutoff': 0.25, 'window_duration': 0.5, 'step_size': 0.5, 'split_method': 'split'} → F1=0.229, BalAcc=0.440\n",
      "\n",
      "=== NaiveBayes ===\n",
      "F1 (macro): 0.2001576829138425\n",
      "Balanced Accuracy: 0.2008385290971276\n"
     ]
    },
    {
     "name": "stderr",
     "output_type": "stream",
     "text": [
      "100%|██████████| 100/100 [00:18<00:00,  5.55it/s]\n"
     ]
    },
    {
     "name": "stdout",
     "output_type": "stream",
     "text": [
      "Top features by mean(|SHAP|):\n",
      "  bvp_tonic_var             : 0.0424\n",
      "  eda_phasic_var            : 0.0384\n",
      "  eda_skew                  : 0.0349\n",
      "Finished NaiveBayes {'subject': 2, 'tonic_cutoff': 0.25, 'window_duration': 0.5, 'step_size': 0.5, 'split_method': 'split'} → F1=0.200, BalAcc=0.201\n",
      "\n",
      "Running for params: {'subject': 2, 'tonic_cutoff': 0.25, 'window_duration': 0.5, 'step_size': 0.5, 'split_method': 'stratify'}\n",
      "\n",
      "=== RandomForest ===\n",
      "F1 (macro): 0.5911111681171654\n",
      "Balanced Accuracy: 0.6011345712838251\n",
      "Top features by mean(|SHAP|):\n",
      "  eda_phasic_mean           : 0.0507\n",
      "  bvp_mean                  : 0.0257\n",
      "  temperature_tonic_mean    : 0.0226\n",
      "Finished RandomForest {'subject': 2, 'tonic_cutoff': 0.25, 'window_duration': 0.5, 'step_size': 0.5, 'split_method': 'stratify'} → F1=0.591, BalAcc=0.601\n",
      "\n",
      "=== KNeighbors ===\n",
      "F1 (macro): 0.5205823617636579\n",
      "Balanced Accuracy: 0.5165914121138001\n"
     ]
    },
    {
     "name": "stderr",
     "output_type": "stream",
     "text": [
      "100%|██████████| 100/100 [01:09<00:00,  1.44it/s]\n"
     ]
    },
    {
     "name": "stdout",
     "output_type": "stream",
     "text": [
      "Top features by mean(|SHAP|):\n",
      "  temperature_phasic_mean   : 0.0402\n",
      "  temperature_phasic_var    : 0.0349\n",
      "  bvp_slope                 : 0.0292\n",
      "Finished KNeighbors {'subject': 2, 'tonic_cutoff': 0.25, 'window_duration': 0.5, 'step_size': 0.5, 'split_method': 'stratify'} → F1=0.521, BalAcc=0.517\n",
      "\n",
      "=== LogisticRegression ===\n",
      "F1 (macro): 0.4591090363341071\n",
      "Balanced Accuracy: 0.4769424881365179\n"
     ]
    },
    {
     "name": "stderr",
     "output_type": "stream",
     "text": [
      "100%|██████████| 100/100 [00:07<00:00, 13.40it/s]\n",
      "/Users/xxd/Documents/PhD/PainAssessment/EmbracePlus/data/.venv/lib/python3.13/site-packages/xgboost/training.py:183: UserWarning: [03:44:53] WARNING: /Users/runner/work/xgboost/xgboost/src/learner.cc:738: \n",
      "Parameters: { \"use_label_encoder\" } are not used.\n",
      "\n",
      "  bst.update(dtrain, iteration=i, fobj=obj)\n"
     ]
    },
    {
     "name": "stdout",
     "output_type": "stream",
     "text": [
      "Top features by mean(|SHAP|):\n",
      "  bvp_30-45Hz               : 0.1291\n",
      "  temperature_slope         : 0.1276\n",
      "  eda_8-12Hz                : 0.0723\n",
      "Finished LogisticRegression {'subject': 2, 'tonic_cutoff': 0.25, 'window_duration': 0.5, 'step_size': 0.5, 'split_method': 'stratify'} → F1=0.459, BalAcc=0.477\n",
      "\n",
      "=== XGBoost ===\n",
      "F1 (macro): 0.63841443686414\n",
      "Balanced Accuracy: 0.6328190469981515\n",
      "Top features by mean(|SHAP|):\n",
      "  temperature_tonic_var     : 0.5740\n",
      "  eda_phasic_mean           : 0.5100\n",
      "  bvp_mean                  : 0.3090\n",
      "Finished XGBoost {'subject': 2, 'tonic_cutoff': 0.25, 'window_duration': 0.5, 'step_size': 0.5, 'split_method': 'stratify'} → F1=0.638, BalAcc=0.633\n",
      "\n",
      "=== NaiveBayes ===\n",
      "F1 (macro): 0.1642864055254943\n",
      "Balanced Accuracy: 0.40195205866847655\n"
     ]
    },
    {
     "name": "stderr",
     "output_type": "stream",
     "text": [
      "100%|██████████| 100/100 [00:18<00:00,  5.35it/s]\n"
     ]
    },
    {
     "name": "stdout",
     "output_type": "stream",
     "text": [
      "Top features by mean(|SHAP|):\n",
      "  bvp_tonic_var             : 0.0285\n",
      "  temperature_mean          : 0.0253\n",
      "  eda_kurt                  : 0.0243\n",
      "Finished NaiveBayes {'subject': 2, 'tonic_cutoff': 0.25, 'window_duration': 0.5, 'step_size': 0.5, 'split_method': 'stratify'} → F1=0.164, BalAcc=0.402\n",
      "\n",
      "Running for params: {'subject': 2, 'tonic_cutoff': 0.25, 'window_duration': 0.5, 'step_size': 1.0, 'split_method': 'split'}\n",
      "\n",
      "=== RandomForest ===\n",
      "F1 (macro): 0.20053318235482998\n",
      "Balanced Accuracy: 0.38651776052020614\n",
      "Top features by mean(|SHAP|):\n",
      "  temperature_tonic_mean    : 0.0312\n",
      "  bvp_tonic_var             : 0.0228\n",
      "  temperature_tonic_var     : 0.0190\n",
      "Finished RandomForest {'subject': 2, 'tonic_cutoff': 0.25, 'window_duration': 0.5, 'step_size': 1.0, 'split_method': 'split'} → F1=0.201, BalAcc=0.387\n",
      "\n",
      "=== KNeighbors ===\n",
      "F1 (macro): 0.19228536451287204\n",
      "Balanced Accuracy: 0.3652538250084052\n"
     ]
    },
    {
     "name": "stderr",
     "output_type": "stream",
     "text": [
      "100%|██████████| 100/100 [00:25<00:00,  3.92it/s]\n"
     ]
    },
    {
     "name": "stdout",
     "output_type": "stream",
     "text": [
      "Top features by mean(|SHAP|):\n",
      "  temperature_phasic_var    : 0.0297\n",
      "  temperature_phasic_mean   : 0.0291\n",
      "  bvp_slope                 : 0.0198\n",
      "Finished KNeighbors {'subject': 2, 'tonic_cutoff': 0.25, 'window_duration': 0.5, 'step_size': 1.0, 'split_method': 'split'} → F1=0.192, BalAcc=0.365\n",
      "\n",
      "=== LogisticRegression ===\n",
      "F1 (macro): 0.21424351864169444\n",
      "Balanced Accuracy: 0.4146772048636296\n"
     ]
    },
    {
     "name": "stderr",
     "output_type": "stream",
     "text": [
      "100%|██████████| 100/100 [00:06<00:00, 15.10it/s]\n",
      "/Users/xxd/Documents/PhD/PainAssessment/EmbracePlus/data/.venv/lib/python3.13/site-packages/xgboost/training.py:183: UserWarning: [03:46:06] WARNING: /Users/runner/work/xgboost/xgboost/src/learner.cc:738: \n",
      "Parameters: { \"use_label_encoder\" } are not used.\n",
      "\n",
      "  bst.update(dtrain, iteration=i, fobj=obj)\n"
     ]
    },
    {
     "name": "stdout",
     "output_type": "stream",
     "text": [
      "Top features by mean(|SHAP|):\n",
      "  bvp_30-45Hz               : 0.0472\n",
      "  bvp_phasic_mean           : 0.0274\n",
      "  temperature_slope         : 0.0268\n",
      "Finished LogisticRegression {'subject': 2, 'tonic_cutoff': 0.25, 'window_duration': 0.5, 'step_size': 1.0, 'split_method': 'split'} → F1=0.214, BalAcc=0.415\n",
      "\n",
      "=== XGBoost ===\n",
      "F1 (macro): 0.23630400368895196\n",
      "Balanced Accuracy: 0.48248360451239414\n",
      "Top features by mean(|SHAP|):\n",
      "  temperature_tonic_mean    : 0.6359\n",
      "  eda_tonic_var             : 0.5448\n",
      "  eda_tonic_mean            : 0.2940\n",
      "Finished XGBoost {'subject': 2, 'tonic_cutoff': 0.25, 'window_duration': 0.5, 'step_size': 1.0, 'split_method': 'split'} → F1=0.236, BalAcc=0.482\n",
      "\n",
      "=== NaiveBayes ===\n",
      "F1 (macro): 0.1903395392555287\n",
      "Balanced Accuracy: 0.2140404544993295\n"
     ]
    },
    {
     "name": "stderr",
     "output_type": "stream",
     "text": [
      "100%|██████████| 100/100 [00:17<00:00,  5.65it/s]\n"
     ]
    },
    {
     "name": "stdout",
     "output_type": "stream",
     "text": [
      "Top features by mean(|SHAP|):\n",
      "  eda_tonic_var             : 0.0871\n",
      "  temperature_tonic_mean    : 0.0460\n",
      "  bvp_tonic_var             : 0.0297\n",
      "Finished NaiveBayes {'subject': 2, 'tonic_cutoff': 0.25, 'window_duration': 0.5, 'step_size': 1.0, 'split_method': 'split'} → F1=0.190, BalAcc=0.214\n",
      "\n",
      "Running for params: {'subject': 2, 'tonic_cutoff': 0.25, 'window_duration': 0.5, 'step_size': 1.0, 'split_method': 'stratify'}\n",
      "\n",
      "=== RandomForest ===\n",
      "F1 (macro): 0.6150207721415152\n",
      "Balanced Accuracy: 0.6191481870443329\n",
      "Top features by mean(|SHAP|):\n",
      "  eda_phasic_mean           : 0.0321\n",
      "  bvp_mean                  : 0.0225\n",
      "  bvp_skew                  : 0.0214\n",
      "Finished RandomForest {'subject': 2, 'tonic_cutoff': 0.25, 'window_duration': 0.5, 'step_size': 1.0, 'split_method': 'stratify'} → F1=0.615, BalAcc=0.619\n",
      "\n",
      "=== KNeighbors ===\n",
      "F1 (macro): 0.5332900869385045\n",
      "Balanced Accuracy: 0.5284987848876855\n"
     ]
    },
    {
     "name": "stderr",
     "output_type": "stream",
     "text": [
      "100%|██████████| 100/100 [00:40<00:00,  2.48it/s]\n"
     ]
    },
    {
     "name": "stdout",
     "output_type": "stream",
     "text": [
      "Top features by mean(|SHAP|):\n",
      "  temperature_phasic_var    : 0.0350\n",
      "  temperature_phasic_mean   : 0.0291\n",
      "  bvp_slope                 : 0.0238\n",
      "Finished KNeighbors {'subject': 2, 'tonic_cutoff': 0.25, 'window_duration': 0.5, 'step_size': 1.0, 'split_method': 'stratify'} → F1=0.533, BalAcc=0.528\n",
      "\n",
      "=== LogisticRegression ===\n",
      "F1 (macro): 0.46548187731087903\n",
      "Balanced Accuracy: 0.48215980396322894\n"
     ]
    },
    {
     "name": "stderr",
     "output_type": "stream",
     "text": [
      "100%|██████████| 100/100 [00:06<00:00, 15.35it/s]\n",
      "/Users/xxd/Documents/PhD/PainAssessment/EmbracePlus/data/.venv/lib/python3.13/site-packages/xgboost/training.py:183: UserWarning: [03:47:33] WARNING: /Users/runner/work/xgboost/xgboost/src/learner.cc:738: \n",
      "Parameters: { \"use_label_encoder\" } are not used.\n",
      "\n",
      "  bst.update(dtrain, iteration=i, fobj=obj)\n"
     ]
    },
    {
     "name": "stdout",
     "output_type": "stream",
     "text": [
      "Top features by mean(|SHAP|):\n",
      "  temperature_slope         : 0.1433\n",
      "  bvp_30-45Hz               : 0.1179\n",
      "  eda_0.5-4Hz               : 0.0668\n",
      "Finished LogisticRegression {'subject': 2, 'tonic_cutoff': 0.25, 'window_duration': 0.5, 'step_size': 1.0, 'split_method': 'stratify'} → F1=0.465, BalAcc=0.482\n",
      "\n",
      "=== XGBoost ===\n",
      "F1 (macro): 0.6478257941144602\n",
      "Balanced Accuracy: 0.6374857596121354\n",
      "Top features by mean(|SHAP|):\n",
      "  eda_phasic_mean           : 0.5557\n",
      "  bvp_mean                  : 0.4473\n",
      "  temperature_tonic_var     : 0.3669\n",
      "Finished XGBoost {'subject': 2, 'tonic_cutoff': 0.25, 'window_duration': 0.5, 'step_size': 1.0, 'split_method': 'stratify'} → F1=0.648, BalAcc=0.637\n",
      "\n",
      "=== NaiveBayes ===\n",
      "F1 (macro): 0.24372722995227533\n",
      "Balanced Accuracy: 0.45117494582076234\n"
     ]
    },
    {
     "name": "stderr",
     "output_type": "stream",
     "text": [
      "100%|██████████| 100/100 [00:17<00:00,  5.88it/s]\n"
     ]
    },
    {
     "name": "stdout",
     "output_type": "stream",
     "text": [
      "Top features by mean(|SHAP|):\n",
      "  eda_tonic_var             : 0.0369\n",
      "  temperature_mean          : 0.0361\n",
      "  bvp_tonic_var             : 0.0207\n",
      "Finished NaiveBayes {'subject': 2, 'tonic_cutoff': 0.25, 'window_duration': 0.5, 'step_size': 1.0, 'split_method': 'stratify'} → F1=0.244, BalAcc=0.451\n",
      "\n",
      "Running for params: {'subject': 2, 'tonic_cutoff': 0.25, 'window_duration': 0.5, 'step_size': 5.0, 'split_method': 'split'}\n",
      "\n",
      "=== RandomForest ===\n",
      "F1 (macro): 0.15873015873015872\n",
      "Balanced Accuracy: 0.32608695652173914\n",
      "Top features by mean(|SHAP|):\n",
      "  temperature_tonic_var     : 0.0264\n",
      "  bvp_tonic_var             : 0.0235\n",
      "  temperature_tonic_mean    : 0.0189\n",
      "Finished RandomForest {'subject': 2, 'tonic_cutoff': 0.25, 'window_duration': 0.5, 'step_size': 5.0, 'split_method': 'split'} → F1=0.159, BalAcc=0.326\n",
      "\n",
      "=== KNeighbors ===\n",
      "F1 (macro): 0.1557454890788224\n",
      "Balanced Accuracy: 0.2971014492753623\n"
     ]
    },
    {
     "name": "stderr",
     "output_type": "stream",
     "text": [
      "100%|██████████| 100/100 [00:10<00:00,  9.51it/s]\n"
     ]
    },
    {
     "name": "stdout",
     "output_type": "stream",
     "text": [
      "Top features by mean(|SHAP|):\n",
      "  temperature_phasic_var    : 0.0240\n",
      "  temperature_phasic_mean   : 0.0227\n",
      "  eda_mean                  : 0.0185\n",
      "Finished KNeighbors {'subject': 2, 'tonic_cutoff': 0.25, 'window_duration': 0.5, 'step_size': 5.0, 'split_method': 'split'} → F1=0.156, BalAcc=0.297\n",
      "\n",
      "=== LogisticRegression ===\n",
      "F1 (macro): 0.16292134831460672\n",
      "Balanced Accuracy: 0.31521739130434784\n"
     ]
    },
    {
     "name": "stderr",
     "output_type": "stream",
     "text": [
      "100%|██████████| 100/100 [00:06<00:00, 16.17it/s]\n",
      "/Users/xxd/Documents/PhD/PainAssessment/EmbracePlus/data/.venv/lib/python3.13/site-packages/xgboost/training.py:183: UserWarning: [03:48:14] WARNING: /Users/runner/work/xgboost/xgboost/src/learner.cc:738: \n",
      "Parameters: { \"use_label_encoder\" } are not used.\n",
      "\n",
      "  bst.update(dtrain, iteration=i, fobj=obj)\n"
     ]
    },
    {
     "name": "stdout",
     "output_type": "stream",
     "text": [
      "Top features by mean(|SHAP|):\n",
      "  bvp_8-12Hz                : 0.0511\n",
      "  bvp_30-45Hz               : 0.0273\n",
      "  bvp_phasic_var            : 0.0221\n",
      "Finished LogisticRegression {'subject': 2, 'tonic_cutoff': 0.25, 'window_duration': 0.5, 'step_size': 5.0, 'split_method': 'split'} → F1=0.163, BalAcc=0.315\n",
      "\n",
      "=== XGBoost ===\n",
      "F1 (macro): 0.21257237386269645\n",
      "Balanced Accuracy: 0.39275362318840584\n",
      "Top features by mean(|SHAP|):\n",
      "  temperature_tonic_var     : 0.3363\n",
      "  temperature_tonic_mean    : 0.2966\n",
      "  bvp_phasic_mean           : 0.2644\n",
      "Finished XGBoost {'subject': 2, 'tonic_cutoff': 0.25, 'window_duration': 0.5, 'step_size': 5.0, 'split_method': 'split'} → F1=0.213, BalAcc=0.393\n",
      "\n",
      "=== NaiveBayes ===\n",
      "F1 (macro): 0.18438646886314006\n",
      "Balanced Accuracy: 0.2636732680780029\n"
     ]
    },
    {
     "name": "stderr",
     "output_type": "stream",
     "text": [
      "100%|██████████| 100/100 [00:17<00:00,  5.70it/s]\n"
     ]
    },
    {
     "name": "stdout",
     "output_type": "stream",
     "text": [
      "Top features by mean(|SHAP|):\n",
      "  eda_tonic_var             : 0.0768\n",
      "  temperature_tonic_mean    : 0.0415\n",
      "  bvp_0.5-4Hz               : 0.0373\n",
      "Finished NaiveBayes {'subject': 2, 'tonic_cutoff': 0.25, 'window_duration': 0.5, 'step_size': 5.0, 'split_method': 'split'} → F1=0.184, BalAcc=0.264\n",
      "\n",
      "Running for params: {'subject': 2, 'tonic_cutoff': 0.25, 'window_duration': 0.5, 'step_size': 5.0, 'split_method': 'stratify'}\n",
      "\n",
      "=== RandomForest ===\n",
      "F1 (macro): 0.5159850697825381\n",
      "Balanced Accuracy: 0.5288753799392097\n",
      "Top features by mean(|SHAP|):\n",
      "  eda_phasic_mean           : 0.0337\n",
      "  bvp_mean                  : 0.0214\n",
      "  temperature_tonic_mean    : 0.0210\n",
      "Finished RandomForest {'subject': 2, 'tonic_cutoff': 0.25, 'window_duration': 0.5, 'step_size': 5.0, 'split_method': 'stratify'} → F1=0.516, BalAcc=0.529\n",
      "\n",
      "=== KNeighbors ===\n",
      "F1 (macro): 0.5409407665505227\n",
      "Balanced Accuracy: 0.5291793313069909\n"
     ]
    },
    {
     "name": "stderr",
     "output_type": "stream",
     "text": [
      "100%|██████████| 94/94 [00:12<00:00,  7.53it/s]\n"
     ]
    },
    {
     "name": "stdout",
     "output_type": "stream",
     "text": [
      "Top features by mean(|SHAP|):\n",
      "  temperature_phasic_var    : 0.0337\n",
      "  bvp_slope                 : 0.0277\n",
      "  eda_mean                  : 0.0226\n",
      "Finished KNeighbors {'subject': 2, 'tonic_cutoff': 0.25, 'window_duration': 0.5, 'step_size': 5.0, 'split_method': 'stratify'} → F1=0.541, BalAcc=0.529\n",
      "\n",
      "=== LogisticRegression ===\n",
      "F1 (macro): 0.3638286173497441\n",
      "Balanced Accuracy: 0.3760553866936846\n"
     ]
    },
    {
     "name": "stderr",
     "output_type": "stream",
     "text": [
      "100%|██████████| 94/94 [00:05<00:00, 16.38it/s]\n",
      "/Users/xxd/Documents/PhD/PainAssessment/EmbracePlus/data/.venv/lib/python3.13/site-packages/xgboost/training.py:183: UserWarning: [03:48:56] WARNING: /Users/runner/work/xgboost/xgboost/src/learner.cc:738: \n",
      "Parameters: { \"use_label_encoder\" } are not used.\n",
      "\n",
      "  bst.update(dtrain, iteration=i, fobj=obj)\n"
     ]
    },
    {
     "name": "stdout",
     "output_type": "stream",
     "text": [
      "Top features by mean(|SHAP|):\n",
      "  temperature_slope         : 0.1164\n",
      "  eda_phasic_mean           : 0.0704\n",
      "  bvp_12-30Hz               : 0.0595\n",
      "Finished LogisticRegression {'subject': 2, 'tonic_cutoff': 0.25, 'window_duration': 0.5, 'step_size': 5.0, 'split_method': 'stratify'} → F1=0.364, BalAcc=0.376\n",
      "\n",
      "=== XGBoost ===\n",
      "F1 (macro): 0.7215584415584416\n",
      "Balanced Accuracy: 0.73596757852077\n",
      "Top features by mean(|SHAP|):\n",
      "  eda_phasic_mean           : 0.5388\n",
      "  temperature_tonic_var     : 0.3546\n",
      "  bvp_mean                  : 0.3408\n",
      "Finished XGBoost {'subject': 2, 'tonic_cutoff': 0.25, 'window_duration': 0.5, 'step_size': 5.0, 'split_method': 'stratify'} → F1=0.722, BalAcc=0.736\n",
      "\n",
      "=== NaiveBayes ===\n",
      "F1 (macro): 0.1652930402930403\n",
      "Balanced Accuracy: 0.40847686592367444\n"
     ]
    },
    {
     "name": "stderr",
     "output_type": "stream",
     "text": [
      "100%|██████████| 94/94 [00:16<00:00,  5.84it/s]\n"
     ]
    },
    {
     "name": "stdout",
     "output_type": "stream",
     "text": [
      "Top features by mean(|SHAP|):\n",
      "  eda_tonic_var             : 0.0608\n",
      "  temperature_mean          : 0.0315\n",
      "  bvp_zero_cross            : 0.0259\n",
      "Finished NaiveBayes {'subject': 2, 'tonic_cutoff': 0.25, 'window_duration': 0.5, 'step_size': 5.0, 'split_method': 'stratify'} → F1=0.165, BalAcc=0.408\n",
      "\n",
      "Running for params: {'subject': 2, 'tonic_cutoff': 0.25, 'window_duration': 1.0, 'step_size': 0.5, 'split_method': 'split'}\n",
      "\n",
      "=== RandomForest ===\n",
      "F1 (macro): 0.18929020021442802\n",
      "Balanced Accuracy: 0.3612279791125183\n",
      "Top features by mean(|SHAP|):\n",
      "  bvp_tonic_var             : 0.0289\n",
      "  temperature_tonic_var     : 0.0244\n",
      "  eda_tonic_var             : 0.0209\n",
      "Finished RandomForest {'subject': 2, 'tonic_cutoff': 0.25, 'window_duration': 1.0, 'step_size': 0.5, 'split_method': 'split'} → F1=0.189, BalAcc=0.361\n",
      "\n",
      "=== KNeighbors ===\n",
      "F1 (macro): 0.20284432925148674\n",
      "Balanced Accuracy: 0.399654343971801\n"
     ]
    },
    {
     "name": "stderr",
     "output_type": "stream",
     "text": [
      "100%|██████████| 100/100 [00:40<00:00,  2.46it/s]\n"
     ]
    },
    {
     "name": "stdout",
     "output_type": "stream",
     "text": [
      "Top features by mean(|SHAP|):\n",
      "  temperature_phasic_var    : 0.0336\n",
      "  eda_mean                  : 0.0235\n",
      "  temperature_phasic_mean   : 0.0226\n",
      "Finished KNeighbors {'subject': 2, 'tonic_cutoff': 0.25, 'window_duration': 1.0, 'step_size': 0.5, 'split_method': 'split'} → F1=0.203, BalAcc=0.400\n",
      "\n",
      "=== LogisticRegression ===\n",
      "F1 (macro): 0.19629920314803564\n",
      "Balanced Accuracy: 0.42654598712760095\n"
     ]
    },
    {
     "name": "stderr",
     "output_type": "stream",
     "text": [
      "100%|██████████| 100/100 [00:06<00:00, 15.62it/s]\n",
      "/Users/xxd/Documents/PhD/PainAssessment/EmbracePlus/data/.venv/lib/python3.13/site-packages/xgboost/training.py:183: UserWarning: [03:50:34] WARNING: /Users/runner/work/xgboost/xgboost/src/learner.cc:738: \n",
      "Parameters: { \"use_label_encoder\" } are not used.\n",
      "\n",
      "  bst.update(dtrain, iteration=i, fobj=obj)\n"
     ]
    },
    {
     "name": "stdout",
     "output_type": "stream",
     "text": [
      "Top features by mean(|SHAP|):\n",
      "  temperature_slope         : 0.0743\n",
      "  eda_4-8Hz                 : 0.0373\n",
      "  eda_0.5-4Hz               : 0.0310\n",
      "Finished LogisticRegression {'subject': 2, 'tonic_cutoff': 0.25, 'window_duration': 1.0, 'step_size': 0.5, 'split_method': 'split'} → F1=0.196, BalAcc=0.427\n",
      "\n",
      "=== XGBoost ===\n",
      "F1 (macro): 0.23788574333110732\n",
      "Balanced Accuracy: 0.40784812842008894\n",
      "Top features by mean(|SHAP|):\n",
      "  eda_tonic_mean            : 0.4254\n",
      "  eda_tonic_var             : 0.4103\n",
      "  eda_phasic_mean           : 0.3672\n",
      "Finished XGBoost {'subject': 2, 'tonic_cutoff': 0.25, 'window_duration': 1.0, 'step_size': 0.5, 'split_method': 'split'} → F1=0.238, BalAcc=0.408\n",
      "\n",
      "=== NaiveBayes ===\n",
      "F1 (macro): 0.20751441358381018\n",
      "Balanced Accuracy: 0.1824849310188298\n"
     ]
    },
    {
     "name": "stderr",
     "output_type": "stream",
     "text": [
      "100%|██████████| 100/100 [00:17<00:00,  5.75it/s]\n"
     ]
    },
    {
     "name": "stdout",
     "output_type": "stream",
     "text": [
      "Top features by mean(|SHAP|):\n",
      "  eda_phasic_var            : 0.0483\n",
      "  bvp_tonic_var             : 0.0479\n",
      "  temperature_tonic_mean    : 0.0432\n",
      "Finished NaiveBayes {'subject': 2, 'tonic_cutoff': 0.25, 'window_duration': 1.0, 'step_size': 0.5, 'split_method': 'split'} → F1=0.208, BalAcc=0.182\n",
      "\n",
      "Running for params: {'subject': 2, 'tonic_cutoff': 0.25, 'window_duration': 1.0, 'step_size': 0.5, 'split_method': 'stratify'}\n",
      "\n",
      "=== RandomForest ===\n",
      "F1 (macro): 0.5933425092547857\n",
      "Balanced Accuracy: 0.6104872371821525\n",
      "Top features by mean(|SHAP|):\n",
      "  eda_phasic_mean           : 0.0366\n",
      "  eda_tonic_mean            : 0.0358\n",
      "  bvp_mean                  : 0.0205\n",
      "Finished RandomForest {'subject': 2, 'tonic_cutoff': 0.25, 'window_duration': 1.0, 'step_size': 0.5, 'split_method': 'stratify'} → F1=0.593, BalAcc=0.610\n",
      "\n",
      "=== KNeighbors ===\n",
      "F1 (macro): 0.5278161057081845\n",
      "Balanced Accuracy: 0.5273516031990608\n"
     ]
    },
    {
     "name": "stderr",
     "output_type": "stream",
     "text": [
      "100%|██████████| 100/100 [01:09<00:00,  1.43it/s]\n"
     ]
    },
    {
     "name": "stdout",
     "output_type": "stream",
     "text": [
      "Top features by mean(|SHAP|):\n",
      "  temperature_phasic_var    : 0.0509\n",
      "  temperature_phasic_mean   : 0.0477\n",
      "  temperature_30-45Hz       : 0.0277\n",
      "Finished KNeighbors {'subject': 2, 'tonic_cutoff': 0.25, 'window_duration': 1.0, 'step_size': 0.5, 'split_method': 'stratify'} → F1=0.528, BalAcc=0.527\n",
      "\n",
      "=== LogisticRegression ===\n",
      "F1 (macro): 0.5035904174879802\n",
      "Balanced Accuracy: 0.5219497232209096\n"
     ]
    },
    {
     "name": "stderr",
     "output_type": "stream",
     "text": [
      "100%|██████████| 100/100 [00:06<00:00, 15.34it/s]\n",
      "/Users/xxd/Documents/PhD/PainAssessment/EmbracePlus/data/.venv/lib/python3.13/site-packages/xgboost/training.py:183: UserWarning: [03:52:48] WARNING: /Users/runner/work/xgboost/xgboost/src/learner.cc:738: \n",
      "Parameters: { \"use_label_encoder\" } are not used.\n",
      "\n",
      "  bst.update(dtrain, iteration=i, fobj=obj)\n"
     ]
    },
    {
     "name": "stdout",
     "output_type": "stream",
     "text": [
      "Top features by mean(|SHAP|):\n",
      "  temperature_slope         : 0.2300\n",
      "  eda_0.5-4Hz               : 0.1134\n",
      "  eda_4-8Hz                 : 0.0868\n",
      "Finished LogisticRegression {'subject': 2, 'tonic_cutoff': 0.25, 'window_duration': 1.0, 'step_size': 0.5, 'split_method': 'stratify'} → F1=0.504, BalAcc=0.522\n",
      "\n",
      "=== XGBoost ===\n",
      "F1 (macro): 0.6257437533249214\n",
      "Balanced Accuracy: 0.6285290353086963\n",
      "Top features by mean(|SHAP|):\n",
      "  temperature_tonic_var     : 0.4263\n",
      "  eda_tonic_mean            : 0.4073\n",
      "  eda_phasic_mean           : 0.3988\n",
      "Finished XGBoost {'subject': 2, 'tonic_cutoff': 0.25, 'window_duration': 1.0, 'step_size': 0.5, 'split_method': 'stratify'} → F1=0.626, BalAcc=0.629\n",
      "\n",
      "=== NaiveBayes ===\n",
      "F1 (macro): 0.2016126043994387\n",
      "Balanced Accuracy: 0.41071612003815394\n"
     ]
    },
    {
     "name": "stderr",
     "output_type": "stream",
     "text": [
      "100%|██████████| 100/100 [00:17<00:00,  5.78it/s]\n"
     ]
    },
    {
     "name": "stdout",
     "output_type": "stream",
     "text": [
      "Top features by mean(|SHAP|):\n",
      "  eda_tonic_var             : 0.0279\n",
      "  bvp_zero_cross            : 0.0244\n",
      "  temperature_mean          : 0.0231\n",
      "Finished NaiveBayes {'subject': 2, 'tonic_cutoff': 0.25, 'window_duration': 1.0, 'step_size': 0.5, 'split_method': 'stratify'} → F1=0.202, BalAcc=0.411\n",
      "\n",
      "Running for params: {'subject': 2, 'tonic_cutoff': 0.25, 'window_duration': 1.0, 'step_size': 1.0, 'split_method': 'split'}\n",
      "\n",
      "=== RandomForest ===\n",
      "F1 (macro): 0.17303127087094236\n",
      "Balanced Accuracy: 0.33985659604291335\n",
      "Top features by mean(|SHAP|):\n",
      "  eda_tonic_var             : 0.0351\n",
      "  bvp_tonic_var             : 0.0251\n",
      "  temperature_tonic_var     : 0.0184\n",
      "Finished RandomForest {'subject': 2, 'tonic_cutoff': 0.25, 'window_duration': 1.0, 'step_size': 1.0, 'split_method': 'split'} → F1=0.173, BalAcc=0.340\n",
      "\n",
      "=== KNeighbors ===\n",
      "F1 (macro): 0.18684660867369016\n",
      "Balanced Accuracy: 0.341233629130993\n"
     ]
    },
    {
     "name": "stderr",
     "output_type": "stream",
     "text": [
      "100%|██████████| 100/100 [00:25<00:00,  3.99it/s]\n"
     ]
    },
    {
     "name": "stdout",
     "output_type": "stream",
     "text": [
      "Top features by mean(|SHAP|):\n",
      "  temperature_phasic_var    : 0.0265\n",
      "  eda_mean                  : 0.0239\n",
      "  temperature_phasic_mean   : 0.0219\n",
      "Finished KNeighbors {'subject': 2, 'tonic_cutoff': 0.25, 'window_duration': 1.0, 'step_size': 1.0, 'split_method': 'split'} → F1=0.187, BalAcc=0.341\n",
      "\n",
      "=== LogisticRegression ===\n",
      "F1 (macro): 0.18459078254066866\n",
      "Balanced Accuracy: 0.3768666774489191\n"
     ]
    },
    {
     "name": "stderr",
     "output_type": "stream",
     "text": [
      "100%|██████████| 100/100 [00:06<00:00, 14.77it/s]\n",
      "/Users/xxd/Documents/PhD/PainAssessment/EmbracePlus/data/.venv/lib/python3.13/site-packages/xgboost/training.py:183: UserWarning: [03:53:58] WARNING: /Users/runner/work/xgboost/xgboost/src/learner.cc:738: \n",
      "Parameters: { \"use_label_encoder\" } are not used.\n",
      "\n",
      "  bst.update(dtrain, iteration=i, fobj=obj)\n"
     ]
    },
    {
     "name": "stdout",
     "output_type": "stream",
     "text": [
      "Top features by mean(|SHAP|):\n",
      "  temperature_slope         : 0.0541\n",
      "  temperature_zero_cross    : 0.0437\n",
      "  temperature_kurt          : 0.0421\n",
      "Finished LogisticRegression {'subject': 2, 'tonic_cutoff': 0.25, 'window_duration': 1.0, 'step_size': 1.0, 'split_method': 'split'} → F1=0.185, BalAcc=0.377\n",
      "\n",
      "=== XGBoost ===\n",
      "F1 (macro): 0.21095192190532672\n",
      "Balanced Accuracy: 0.3860066771734105\n",
      "Top features by mean(|SHAP|):\n",
      "  eda_tonic_var             : 0.8921\n",
      "  eda_phasic_mean           : 0.4585\n",
      "  eda_tonic_mean            : 0.2915\n",
      "Finished XGBoost {'subject': 2, 'tonic_cutoff': 0.25, 'window_duration': 1.0, 'step_size': 1.0, 'split_method': 'split'} → F1=0.211, BalAcc=0.386\n",
      "\n",
      "=== NaiveBayes ===\n",
      "F1 (macro): 0.20074110557127686\n",
      "Balanced Accuracy: 0.2140854481598998\n"
     ]
    },
    {
     "name": "stderr",
     "output_type": "stream",
     "text": [
      "100%|██████████| 100/100 [00:17<00:00,  5.75it/s]\n"
     ]
    },
    {
     "name": "stdout",
     "output_type": "stream",
     "text": [
      "Top features by mean(|SHAP|):\n",
      "  eda_tonic_var             : 0.0751\n",
      "  bvp_tonic_var             : 0.0349\n",
      "  bvp_zero_cross            : 0.0318\n",
      "Finished NaiveBayes {'subject': 2, 'tonic_cutoff': 0.25, 'window_duration': 1.0, 'step_size': 1.0, 'split_method': 'split'} → F1=0.201, BalAcc=0.214\n",
      "\n",
      "Running for params: {'subject': 2, 'tonic_cutoff': 0.25, 'window_duration': 1.0, 'step_size': 1.0, 'split_method': 'stratify'}\n",
      "\n",
      "=== RandomForest ===\n",
      "F1 (macro): 0.5979768353261277\n",
      "Balanced Accuracy: 0.6112011454590166\n",
      "Top features by mean(|SHAP|):\n",
      "  eda_phasic_mean           : 0.0387\n",
      "  eda_tonic_mean            : 0.0222\n",
      "  temperature_var           : 0.0195\n",
      "Finished RandomForest {'subject': 2, 'tonic_cutoff': 0.25, 'window_duration': 1.0, 'step_size': 1.0, 'split_method': 'stratify'} → F1=0.598, BalAcc=0.611\n",
      "\n",
      "=== KNeighbors ===\n",
      "F1 (macro): 0.4968686252053809\n",
      "Balanced Accuracy: 0.5057110333722028\n"
     ]
    },
    {
     "name": "stderr",
     "output_type": "stream",
     "text": [
      "100%|██████████| 100/100 [00:40<00:00,  2.48it/s]\n"
     ]
    },
    {
     "name": "stdout",
     "output_type": "stream",
     "text": [
      "Top features by mean(|SHAP|):\n",
      "  temperature_phasic_var    : 0.0428\n",
      "  temperature_phasic_mean   : 0.0344\n",
      "  temperature_30-45Hz       : 0.0264\n",
      "Finished KNeighbors {'subject': 2, 'tonic_cutoff': 0.25, 'window_duration': 1.0, 'step_size': 1.0, 'split_method': 'stratify'} → F1=0.497, BalAcc=0.506\n",
      "\n",
      "=== LogisticRegression ===\n",
      "F1 (macro): 0.4694904923009977\n",
      "Balanced Accuracy: 0.4876633112015421\n"
     ]
    },
    {
     "name": "stderr",
     "output_type": "stream",
     "text": [
      "100%|██████████| 100/100 [00:06<00:00, 15.13it/s]\n",
      "/Users/xxd/Documents/PhD/PainAssessment/EmbracePlus/data/.venv/lib/python3.13/site-packages/xgboost/training.py:183: UserWarning: [03:55:23] WARNING: /Users/runner/work/xgboost/xgboost/src/learner.cc:738: \n",
      "Parameters: { \"use_label_encoder\" } are not used.\n",
      "\n",
      "  bst.update(dtrain, iteration=i, fobj=obj)\n"
     ]
    },
    {
     "name": "stdout",
     "output_type": "stream",
     "text": [
      "Top features by mean(|SHAP|):\n",
      "  temperature_slope         : 0.2079\n",
      "  eda_0.5-4Hz               : 0.0947\n",
      "  bvp_12-30Hz               : 0.0872\n",
      "Finished LogisticRegression {'subject': 2, 'tonic_cutoff': 0.25, 'window_duration': 1.0, 'step_size': 1.0, 'split_method': 'stratify'} → F1=0.469, BalAcc=0.488\n",
      "\n",
      "=== XGBoost ===\n",
      "F1 (macro): 0.6815391827062635\n",
      "Balanced Accuracy: 0.6693478657496649\n",
      "Top features by mean(|SHAP|):\n",
      "  eda_phasic_mean           : 0.5440\n",
      "  eda_tonic_mean            : 0.3793\n",
      "  temperature_var           : 0.3174\n",
      "Finished XGBoost {'subject': 2, 'tonic_cutoff': 0.25, 'window_duration': 1.0, 'step_size': 1.0, 'split_method': 'stratify'} → F1=0.682, BalAcc=0.669\n",
      "\n",
      "=== NaiveBayes ===\n",
      "F1 (macro): 0.2146575402257802\n",
      "Balanced Accuracy: 0.4241597455240634\n"
     ]
    },
    {
     "name": "stderr",
     "output_type": "stream",
     "text": [
      "100%|██████████| 100/100 [00:17<00:00,  5.72it/s]\n"
     ]
    },
    {
     "name": "stdout",
     "output_type": "stream",
     "text": [
      "Top features by mean(|SHAP|):\n",
      "  eda_tonic_var             : 0.0564\n",
      "  temperature_mean          : 0.0400\n",
      "  bvp_zero_cross            : 0.0279\n",
      "Finished NaiveBayes {'subject': 2, 'tonic_cutoff': 0.25, 'window_duration': 1.0, 'step_size': 1.0, 'split_method': 'stratify'} → F1=0.215, BalAcc=0.424\n",
      "\n",
      "Running for params: {'subject': 2, 'tonic_cutoff': 0.25, 'window_duration': 1.0, 'step_size': 5.0, 'split_method': 'split'}\n",
      "\n",
      "=== RandomForest ===\n",
      "F1 (macro): 0.2729404866608033\n",
      "Balanced Accuracy: 0.39999999999999997\n",
      "Top features by mean(|SHAP|):\n",
      "  bvp_tonic_var             : 0.0290\n",
      "  bvp_range                 : 0.0244\n",
      "  temperature_tonic_var     : 0.0203\n",
      "Finished RandomForest {'subject': 2, 'tonic_cutoff': 0.25, 'window_duration': 1.0, 'step_size': 5.0, 'split_method': 'split'} → F1=0.273, BalAcc=0.400\n",
      "\n",
      "=== KNeighbors ===\n",
      "F1 (macro): 0.18220846405024752\n",
      "Balanced Accuracy: 0.41044085287199333\n"
     ]
    },
    {
     "name": "stderr",
     "output_type": "stream",
     "text": [
      "100%|██████████| 100/100 [00:11<00:00,  9.07it/s]\n"
     ]
    },
    {
     "name": "stdout",
     "output_type": "stream",
     "text": [
      "Top features by mean(|SHAP|):\n",
      "  temperature_phasic_var    : 0.0309\n",
      "  temperature_phasic_mean   : 0.0164\n",
      "  temperature_30-45Hz       : 0.0127\n",
      "Finished KNeighbors {'subject': 2, 'tonic_cutoff': 0.25, 'window_duration': 1.0, 'step_size': 5.0, 'split_method': 'split'} → F1=0.182, BalAcc=0.410\n",
      "\n",
      "=== LogisticRegression ===\n",
      "F1 (macro): 0.20374787722908508\n",
      "Balanced Accuracy: 0.44479474922224754\n"
     ]
    },
    {
     "name": "stderr",
     "output_type": "stream",
     "text": [
      "100%|██████████| 100/100 [00:06<00:00, 15.23it/s]\n",
      "/Users/xxd/Documents/PhD/PainAssessment/EmbracePlus/data/.venv/lib/python3.13/site-packages/xgboost/training.py:183: UserWarning: [03:56:06] WARNING: /Users/runner/work/xgboost/xgboost/src/learner.cc:738: \n",
      "Parameters: { \"use_label_encoder\" } are not used.\n",
      "\n",
      "  bst.update(dtrain, iteration=i, fobj=obj)\n"
     ]
    },
    {
     "name": "stdout",
     "output_type": "stream",
     "text": [
      "Top features by mean(|SHAP|):\n",
      "  temperature_slope         : 0.0242\n",
      "  bvp_tonic_mean            : 0.0210\n",
      "  bvp_phasic_var            : 0.0208\n",
      "Finished LogisticRegression {'subject': 2, 'tonic_cutoff': 0.25, 'window_duration': 1.0, 'step_size': 5.0, 'split_method': 'split'} → F1=0.204, BalAcc=0.445\n",
      "\n",
      "=== XGBoost ===\n",
      "F1 (macro): 0.19501278772378516\n",
      "Balanced Accuracy: 0.37826086956521743\n",
      "Top features by mean(|SHAP|):\n",
      "  bvp_range                 : 0.5132\n",
      "  bvp_tonic_var             : 0.2194\n",
      "  temperature_tonic_var     : 0.1832\n",
      "Finished XGBoost {'subject': 2, 'tonic_cutoff': 0.25, 'window_duration': 1.0, 'step_size': 5.0, 'split_method': 'split'} → F1=0.195, BalAcc=0.378\n",
      "\n",
      "=== NaiveBayes ===\n",
      "F1 (macro): 0.17725245378818902\n",
      "Balanced Accuracy: 0.25870324000303513\n"
     ]
    },
    {
     "name": "stderr",
     "output_type": "stream",
     "text": [
      "100%|██████████| 100/100 [00:17<00:00,  5.66it/s]\n"
     ]
    },
    {
     "name": "stdout",
     "output_type": "stream",
     "text": [
      "Top features by mean(|SHAP|):\n",
      "  eda_tonic_var             : 0.0581\n",
      "  bvp_zero_cross            : 0.0381\n",
      "  temperature_range         : 0.0379\n",
      "Finished NaiveBayes {'subject': 2, 'tonic_cutoff': 0.25, 'window_duration': 1.0, 'step_size': 5.0, 'split_method': 'split'} → F1=0.177, BalAcc=0.259\n",
      "\n",
      "Running for params: {'subject': 2, 'tonic_cutoff': 0.25, 'window_duration': 1.0, 'step_size': 5.0, 'split_method': 'stratify'}\n",
      "\n",
      "=== RandomForest ===\n",
      "F1 (macro): 0.5522277227722773\n",
      "Balanced Accuracy: 0.5601617795753286\n",
      "Top features by mean(|SHAP|):\n",
      "  eda_phasic_mean           : 0.0300\n",
      "  bvp_mean                  : 0.0259\n",
      "  temperature_var           : 0.0253\n",
      "Finished RandomForest {'subject': 2, 'tonic_cutoff': 0.25, 'window_duration': 1.0, 'step_size': 5.0, 'split_method': 'stratify'} → F1=0.552, BalAcc=0.560\n",
      "\n",
      "=== KNeighbors ===\n",
      "F1 (macro): 0.6088183421516755\n",
      "Balanced Accuracy: 0.5890798786653185\n"
     ]
    },
    {
     "name": "stderr",
     "output_type": "stream",
     "text": [
      "100%|██████████| 94/94 [00:13<00:00,  6.92it/s]\n"
     ]
    },
    {
     "name": "stdout",
     "output_type": "stream",
     "text": [
      "Top features by mean(|SHAP|):\n",
      "  temperature_phasic_var    : 0.0360\n",
      "  temperature_phasic_mean   : 0.0344\n",
      "  temperature_30-45Hz       : 0.0295\n",
      "Finished KNeighbors {'subject': 2, 'tonic_cutoff': 0.25, 'window_duration': 1.0, 'step_size': 5.0, 'split_method': 'stratify'} → F1=0.609, BalAcc=0.589\n",
      "\n",
      "=== LogisticRegression ===\n",
      "F1 (macro): 0.48931623931623935\n",
      "Balanced Accuracy: 0.4996629592180654\n"
     ]
    },
    {
     "name": "stderr",
     "output_type": "stream",
     "text": [
      "100%|██████████| 94/94 [00:05<00:00, 15.87it/s]\n",
      "/Users/xxd/Documents/PhD/PainAssessment/EmbracePlus/data/.venv/lib/python3.13/site-packages/xgboost/training.py:183: UserWarning: [03:56:49] WARNING: /Users/runner/work/xgboost/xgboost/src/learner.cc:738: \n",
      "Parameters: { \"use_label_encoder\" } are not used.\n",
      "\n",
      "  bst.update(dtrain, iteration=i, fobj=obj)\n"
     ]
    },
    {
     "name": "stdout",
     "output_type": "stream",
     "text": [
      "Top features by mean(|SHAP|):\n",
      "  temperature_slope         : 0.1369\n",
      "  eda_phasic_mean           : 0.0614\n",
      "  eda_4-8Hz                 : 0.0580\n",
      "Finished LogisticRegression {'subject': 2, 'tonic_cutoff': 0.25, 'window_duration': 1.0, 'step_size': 5.0, 'split_method': 'stratify'} → F1=0.489, BalAcc=0.500\n",
      "\n",
      "=== XGBoost ===\n",
      "F1 (macro): 0.6079713936856793\n",
      "Balanced Accuracy: 0.6118301314459049\n",
      "Top features by mean(|SHAP|):\n",
      "  eda_phasic_mean           : 0.5254\n",
      "  temperature_var           : 0.3809\n",
      "  temperature_tonic_var     : 0.3793\n",
      "Finished XGBoost {'subject': 2, 'tonic_cutoff': 0.25, 'window_duration': 1.0, 'step_size': 5.0, 'split_method': 'stratify'} → F1=0.608, BalAcc=0.612\n",
      "\n",
      "=== NaiveBayes ===\n",
      "F1 (macro): 0.12851573377889167\n",
      "Balanced Accuracy: 0.3953488372093023\n"
     ]
    },
    {
     "name": "stderr",
     "output_type": "stream",
     "text": [
      "100%|██████████| 94/94 [00:16<00:00,  5.66it/s]\n"
     ]
    },
    {
     "name": "stdout",
     "output_type": "stream",
     "text": [
      "Top features by mean(|SHAP|):\n",
      "  eda_tonic_var             : 0.0541\n",
      "  bvp_zero_cross            : 0.0284\n",
      "  bvp_tonic_var             : 0.0262\n",
      "Finished NaiveBayes {'subject': 2, 'tonic_cutoff': 0.25, 'window_duration': 1.0, 'step_size': 5.0, 'split_method': 'stratify'} → F1=0.129, BalAcc=0.395\n",
      "\n",
      "Running for params: {'subject': 2, 'tonic_cutoff': 0.25, 'window_duration': 5.0, 'step_size': 0.5, 'split_method': 'split'}\n",
      "\n",
      "=== RandomForest ===\n",
      "F1 (macro): 0.16121742587604776\n",
      "Balanced Accuracy: 0.32840989208181465\n",
      "Top features by mean(|SHAP|):\n",
      "  eda_tonic_mean            : 0.0363\n",
      "  bvp_tonic_var             : 0.0157\n",
      "  temperature_tonic_var     : 0.0143\n",
      "Finished RandomForest {'subject': 2, 'tonic_cutoff': 0.25, 'window_duration': 5.0, 'step_size': 0.5, 'split_method': 'split'} → F1=0.161, BalAcc=0.328\n",
      "\n",
      "=== KNeighbors ===\n",
      "F1 (macro): 0.20089782249196556\n",
      "Balanced Accuracy: 0.3904844503422464\n"
     ]
    },
    {
     "name": "stderr",
     "output_type": "stream",
     "text": [
      "100%|██████████| 100/100 [00:39<00:00,  2.52it/s]\n"
     ]
    },
    {
     "name": "stdout",
     "output_type": "stream",
     "text": [
      "Top features by mean(|SHAP|):\n",
      "  temperature_phasic_var    : 0.0639\n",
      "  eda_rms                   : 0.0205\n",
      "  temperature_phasic_mean   : 0.0181\n",
      "Finished KNeighbors {'subject': 2, 'tonic_cutoff': 0.25, 'window_duration': 5.0, 'step_size': 0.5, 'split_method': 'split'} → F1=0.201, BalAcc=0.390\n",
      "\n",
      "=== LogisticRegression ===\n",
      "F1 (macro): 0.16152482269503546\n",
      "Balanced Accuracy: 0.3318761384335155\n"
     ]
    },
    {
     "name": "stderr",
     "output_type": "stream",
     "text": [
      "100%|██████████| 100/100 [00:06<00:00, 15.46it/s]\n",
      "/Users/xxd/Documents/PhD/PainAssessment/EmbracePlus/data/.venv/lib/python3.13/site-packages/xgboost/training.py:183: UserWarning: [03:58:27] WARNING: /Users/runner/work/xgboost/xgboost/src/learner.cc:738: \n",
      "Parameters: { \"use_label_encoder\" } are not used.\n",
      "\n",
      "  bst.update(dtrain, iteration=i, fobj=obj)\n"
     ]
    },
    {
     "name": "stdout",
     "output_type": "stream",
     "text": [
      "Top features by mean(|SHAP|):\n",
      "  temperature_skew          : 0.1189\n",
      "  temperature_kurt          : 0.0847\n",
      "  eda_tonic_mean            : 0.0577\n",
      "Finished LogisticRegression {'subject': 2, 'tonic_cutoff': 0.25, 'window_duration': 5.0, 'step_size': 0.5, 'split_method': 'split'} → F1=0.162, BalAcc=0.332\n",
      "\n",
      "=== XGBoost ===\n",
      "F1 (macro): 0.22348778532577662\n",
      "Balanced Accuracy: 0.35418719254112635\n",
      "Top features by mean(|SHAP|):\n",
      "  eda_tonic_mean            : 1.1842\n",
      "  bvp_zero_cross            : 0.2858\n",
      "  temperature_range         : 0.2433\n",
      "Finished XGBoost {'subject': 2, 'tonic_cutoff': 0.25, 'window_duration': 5.0, 'step_size': 0.5, 'split_method': 'split'} → F1=0.223, BalAcc=0.354\n",
      "\n",
      "=== NaiveBayes ===\n",
      "F1 (macro): 0.07140511971767168\n",
      "Balanced Accuracy: 0.29306003846448536\n"
     ]
    },
    {
     "name": "stderr",
     "output_type": "stream",
     "text": [
      "100%|██████████| 100/100 [00:17<00:00,  5.69it/s]\n"
     ]
    },
    {
     "name": "stdout",
     "output_type": "stream",
     "text": [
      "Top features by mean(|SHAP|):\n",
      "  temperature_mean          : 0.1113\n",
      "  bvp_zero_cross            : 0.0479\n",
      "  bvp_skew                  : 0.0291\n",
      "Finished NaiveBayes {'subject': 2, 'tonic_cutoff': 0.25, 'window_duration': 5.0, 'step_size': 0.5, 'split_method': 'split'} → F1=0.071, BalAcc=0.293\n",
      "\n",
      "Running for params: {'subject': 2, 'tonic_cutoff': 0.25, 'window_duration': 5.0, 'step_size': 0.5, 'split_method': 'stratify'}\n",
      "\n",
      "=== RandomForest ===\n",
      "F1 (macro): 0.7387463590094433\n",
      "Balanced Accuracy: 0.713447430134443\n",
      "Top features by mean(|SHAP|):\n",
      "  eda_tonic_mean            : 0.0414\n",
      "  eda_4-8Hz                 : 0.0256\n",
      "  temperature_var           : 0.0241\n",
      "Finished RandomForest {'subject': 2, 'tonic_cutoff': 0.25, 'window_duration': 5.0, 'step_size': 0.5, 'split_method': 'stratify'} → F1=0.739, BalAcc=0.713\n",
      "\n",
      "=== KNeighbors ===\n",
      "F1 (macro): 0.5531353135313531\n",
      "Balanced Accuracy: 0.5588710215435729\n"
     ]
    },
    {
     "name": "stderr",
     "output_type": "stream",
     "text": [
      "100%|██████████| 100/100 [01:07<00:00,  1.49it/s]\n"
     ]
    },
    {
     "name": "stdout",
     "output_type": "stream",
     "text": [
      "Top features by mean(|SHAP|):\n",
      "  temperature_phasic_var    : 0.0612\n",
      "  temperature_skew          : 0.0457\n",
      "  temperature_30-45Hz       : 0.0396\n",
      "Finished KNeighbors {'subject': 2, 'tonic_cutoff': 0.25, 'window_duration': 5.0, 'step_size': 0.5, 'split_method': 'stratify'} → F1=0.553, BalAcc=0.559\n",
      "\n",
      "=== LogisticRegression ===\n",
      "F1 (macro): 0.6434733349794745\n",
      "Balanced Accuracy: 0.6420782780065343\n"
     ]
    },
    {
     "name": "stderr",
     "output_type": "stream",
     "text": [
      "100%|██████████| 100/100 [00:06<00:00, 15.61it/s]\n",
      "/Users/xxd/Documents/PhD/PainAssessment/EmbracePlus/data/.venv/lib/python3.13/site-packages/xgboost/training.py:183: UserWarning: [04:00:37] WARNING: /Users/runner/work/xgboost/xgboost/src/learner.cc:738: \n",
      "Parameters: { \"use_label_encoder\" } are not used.\n",
      "\n",
      "  bst.update(dtrain, iteration=i, fobj=obj)\n"
     ]
    },
    {
     "name": "stdout",
     "output_type": "stream",
     "text": [
      "Top features by mean(|SHAP|):\n",
      "  temperature_skew          : 0.1984\n",
      "  temperature_kurt          : 0.1364\n",
      "  temperature_phasic_var    : 0.0706\n",
      "Finished LogisticRegression {'subject': 2, 'tonic_cutoff': 0.25, 'window_duration': 5.0, 'step_size': 0.5, 'split_method': 'stratify'} → F1=0.643, BalAcc=0.642\n",
      "\n",
      "=== XGBoost ===\n",
      "F1 (macro): 0.8345170318356584\n",
      "Balanced Accuracy: 0.8065289164218642\n",
      "Top features by mean(|SHAP|):\n",
      "  eda_tonic_mean            : 0.8869\n",
      "  temperature_range         : 0.4795\n",
      "  bvp_mean                  : 0.4305\n",
      "Finished XGBoost {'subject': 2, 'tonic_cutoff': 0.25, 'window_duration': 5.0, 'step_size': 0.5, 'split_method': 'stratify'} → F1=0.835, BalAcc=0.807\n",
      "\n",
      "=== NaiveBayes ===\n",
      "F1 (macro): 0.24012012896633206\n",
      "Balanced Accuracy: 0.44698020996264964\n"
     ]
    },
    {
     "name": "stderr",
     "output_type": "stream",
     "text": [
      "100%|██████████| 100/100 [00:16<00:00,  5.92it/s]\n"
     ]
    },
    {
     "name": "stdout",
     "output_type": "stream",
     "text": [
      "Top features by mean(|SHAP|):\n",
      "  temperature_mean          : 0.1033\n",
      "  bvp_zero_cross            : 0.0393\n",
      "  bvp_kurt                  : 0.0266\n",
      "Finished NaiveBayes {'subject': 2, 'tonic_cutoff': 0.25, 'window_duration': 5.0, 'step_size': 0.5, 'split_method': 'stratify'} → F1=0.240, BalAcc=0.447\n",
      "\n",
      "Running for params: {'subject': 2, 'tonic_cutoff': 0.25, 'window_duration': 5.0, 'step_size': 1.0, 'split_method': 'split'}\n",
      "\n",
      "=== RandomForest ===\n",
      "F1 (macro): 0.16221457470349535\n",
      "Balanced Accuracy: 0.330775606977638\n",
      "Top features by mean(|SHAP|):\n",
      "  eda_tonic_mean            : 0.0301\n",
      "  eda_phasic_var            : 0.0231\n",
      "  temperature_phasic_var    : 0.0173\n",
      "Finished RandomForest {'subject': 2, 'tonic_cutoff': 0.25, 'window_duration': 5.0, 'step_size': 1.0, 'split_method': 'split'} → F1=0.162, BalAcc=0.331\n",
      "\n",
      "=== KNeighbors ===\n",
      "F1 (macro): 0.21133987340883895\n",
      "Balanced Accuracy: 0.35701298335262527\n"
     ]
    },
    {
     "name": "stderr",
     "output_type": "stream",
     "text": [
      "100%|██████████| 100/100 [00:24<00:00,  4.02it/s]\n"
     ]
    },
    {
     "name": "stdout",
     "output_type": "stream",
     "text": [
      "Top features by mean(|SHAP|):\n",
      "  temperature_phasic_var    : 0.0720\n",
      "  eda_mean                  : 0.0188\n",
      "  eda_rms                   : 0.0158\n",
      "Finished KNeighbors {'subject': 2, 'tonic_cutoff': 0.25, 'window_duration': 5.0, 'step_size': 1.0, 'split_method': 'split'} → F1=0.211, BalAcc=0.357\n",
      "\n",
      "=== LogisticRegression ===\n",
      "F1 (macro): 0.167336783506686\n",
      "Balanced Accuracy: 0.3317943754717593\n"
     ]
    },
    {
     "name": "stderr",
     "output_type": "stream",
     "text": [
      "100%|██████████| 100/100 [00:06<00:00, 16.20it/s]\n",
      "/Users/xxd/Documents/PhD/PainAssessment/EmbracePlus/data/.venv/lib/python3.13/site-packages/xgboost/training.py:183: UserWarning: [04:01:46] WARNING: /Users/runner/work/xgboost/xgboost/src/learner.cc:738: \n",
      "Parameters: { \"use_label_encoder\" } are not used.\n",
      "\n",
      "  bst.update(dtrain, iteration=i, fobj=obj)\n"
     ]
    },
    {
     "name": "stdout",
     "output_type": "stream",
     "text": [
      "Top features by mean(|SHAP|):\n",
      "  temperature_skew          : 0.1206\n",
      "  temperature_kurt          : 0.0721\n",
      "  temperature_phasic_var    : 0.0560\n",
      "Finished LogisticRegression {'subject': 2, 'tonic_cutoff': 0.25, 'window_duration': 5.0, 'step_size': 1.0, 'split_method': 'split'} → F1=0.167, BalAcc=0.332\n",
      "\n",
      "=== XGBoost ===\n",
      "F1 (macro): 0.17610557354679826\n",
      "Balanced Accuracy: 0.32836297795292363\n",
      "Top features by mean(|SHAP|):\n",
      "  eda_tonic_mean            : 1.0116\n",
      "  temperature_phasic_var    : 0.3342\n",
      "  eda_phasic_var            : 0.2559\n",
      "Finished XGBoost {'subject': 2, 'tonic_cutoff': 0.25, 'window_duration': 5.0, 'step_size': 1.0, 'split_method': 'split'} → F1=0.176, BalAcc=0.328\n",
      "\n",
      "=== NaiveBayes ===\n",
      "F1 (macro): 0.098546254568321\n",
      "Balanced Accuracy: 0.24328123035676283\n"
     ]
    },
    {
     "name": "stderr",
     "output_type": "stream",
     "text": [
      "100%|██████████| 100/100 [00:16<00:00,  5.90it/s]\n"
     ]
    },
    {
     "name": "stdout",
     "output_type": "stream",
     "text": [
      "Top features by mean(|SHAP|):\n",
      "  temperature_mean          : 0.0881\n",
      "  bvp_zero_cross            : 0.0449\n",
      "  bvp_slope                 : 0.0365\n",
      "Finished NaiveBayes {'subject': 2, 'tonic_cutoff': 0.25, 'window_duration': 5.0, 'step_size': 1.0, 'split_method': 'split'} → F1=0.099, BalAcc=0.243\n",
      "\n",
      "Running for params: {'subject': 2, 'tonic_cutoff': 0.25, 'window_duration': 5.0, 'step_size': 1.0, 'split_method': 'stratify'}\n",
      "\n",
      "=== RandomForest ===\n",
      "F1 (macro): 0.7366366553259757\n",
      "Balanced Accuracy: 0.7113387021475256\n",
      "Top features by mean(|SHAP|):\n",
      "  eda_tonic_mean            : 0.0407\n",
      "  eda_4-8Hz                 : 0.0293\n",
      "  eda_0.5-4Hz               : 0.0270\n",
      "Finished RandomForest {'subject': 2, 'tonic_cutoff': 0.25, 'window_duration': 5.0, 'step_size': 1.0, 'split_method': 'stratify'} → F1=0.737, BalAcc=0.711\n",
      "\n",
      "=== KNeighbors ===\n",
      "F1 (macro): 0.5625005960593712\n",
      "Balanced Accuracy: 0.5671296296296297\n"
     ]
    },
    {
     "name": "stderr",
     "output_type": "stream",
     "text": [
      "100%|██████████| 100/100 [00:39<00:00,  2.54it/s]\n"
     ]
    },
    {
     "name": "stdout",
     "output_type": "stream",
     "text": [
      "Top features by mean(|SHAP|):\n",
      "  temperature_phasic_var    : 0.0662\n",
      "  temperature_skew          : 0.0451\n",
      "  temperature_30-45Hz       : 0.0343\n",
      "Finished KNeighbors {'subject': 2, 'tonic_cutoff': 0.25, 'window_duration': 5.0, 'step_size': 1.0, 'split_method': 'stratify'} → F1=0.563, BalAcc=0.567\n",
      "\n",
      "=== LogisticRegression ===\n",
      "F1 (macro): 0.648031134035286\n",
      "Balanced Accuracy: 0.6365838001867413\n"
     ]
    },
    {
     "name": "stderr",
     "output_type": "stream",
     "text": [
      "100%|██████████| 100/100 [00:06<00:00, 15.95it/s]\n",
      "/Users/xxd/Documents/PhD/PainAssessment/EmbracePlus/data/.venv/lib/python3.13/site-packages/xgboost/training.py:183: UserWarning: [04:03:09] WARNING: /Users/runner/work/xgboost/xgboost/src/learner.cc:738: \n",
      "Parameters: { \"use_label_encoder\" } are not used.\n",
      "\n",
      "  bst.update(dtrain, iteration=i, fobj=obj)\n"
     ]
    },
    {
     "name": "stdout",
     "output_type": "stream",
     "text": [
      "Top features by mean(|SHAP|):\n",
      "  temperature_skew          : 0.2179\n",
      "  temperature_kurt          : 0.1034\n",
      "  temperature_phasic_var    : 0.0647\n",
      "Finished LogisticRegression {'subject': 2, 'tonic_cutoff': 0.25, 'window_duration': 5.0, 'step_size': 1.0, 'split_method': 'stratify'} → F1=0.648, BalAcc=0.637\n",
      "\n",
      "=== XGBoost ===\n",
      "F1 (macro): 0.7871977675634142\n",
      "Balanced Accuracy: 0.7702011360099595\n",
      "Top features by mean(|SHAP|):\n",
      "  eda_tonic_mean            : 0.6501\n",
      "  temperature_skew          : 0.5238\n",
      "  eda_0.5-4Hz               : 0.3583\n",
      "Finished XGBoost {'subject': 2, 'tonic_cutoff': 0.25, 'window_duration': 5.0, 'step_size': 1.0, 'split_method': 'stratify'} → F1=0.787, BalAcc=0.770\n",
      "\n",
      "=== NaiveBayes ===\n",
      "F1 (macro): 0.20826767881697886\n",
      "Balanced Accuracy: 0.4286006069094304\n"
     ]
    },
    {
     "name": "stderr",
     "output_type": "stream",
     "text": [
      "100%|██████████| 100/100 [00:17<00:00,  5.88it/s]\n"
     ]
    },
    {
     "name": "stdout",
     "output_type": "stream",
     "text": [
      "Top features by mean(|SHAP|):\n",
      "  temperature_mean          : 0.0443\n",
      "  bvp_zero_cross            : 0.0429\n",
      "  bvp_kurt                  : 0.0318\n",
      "Finished NaiveBayes {'subject': 2, 'tonic_cutoff': 0.25, 'window_duration': 5.0, 'step_size': 1.0, 'split_method': 'stratify'} → F1=0.208, BalAcc=0.429\n",
      "\n",
      "Running for params: {'subject': 2, 'tonic_cutoff': 0.25, 'window_duration': 5.0, 'step_size': 5.0, 'split_method': 'split'}\n",
      "\n",
      "=== RandomForest ===\n",
      "F1 (macro): 0.16225749559082892\n",
      "Balanced Accuracy: 0.3333333333333333\n",
      "Top features by mean(|SHAP|):\n",
      "  temperature_phasic_var    : 0.0219\n",
      "  eda_tonic_var             : 0.0182\n",
      "  temperature_tonic_var     : 0.0169\n",
      "Finished RandomForest {'subject': 2, 'tonic_cutoff': 0.25, 'window_duration': 5.0, 'step_size': 5.0, 'split_method': 'split'} → F1=0.162, BalAcc=0.333\n",
      "\n",
      "=== KNeighbors ===\n",
      "F1 (macro): 0.19746133905425942\n",
      "Balanced Accuracy: 0.44130434782608696\n"
     ]
    },
    {
     "name": "stderr",
     "output_type": "stream",
     "text": [
      "100%|██████████| 100/100 [00:10<00:00,  9.29it/s]\n"
     ]
    },
    {
     "name": "stdout",
     "output_type": "stream",
     "text": [
      "Top features by mean(|SHAP|):\n",
      "  temperature_phasic_var    : 0.0510\n",
      "  temperature_phasic_mean   : 0.0214\n",
      "  temperature_30-45Hz       : 0.0185\n",
      "Finished KNeighbors {'subject': 2, 'tonic_cutoff': 0.25, 'window_duration': 5.0, 'step_size': 5.0, 'split_method': 'split'} → F1=0.197, BalAcc=0.441\n",
      "\n",
      "=== LogisticRegression ===\n",
      "F1 (macro): 0.2074754160587405\n",
      "Balanced Accuracy: 0.4466912046622192\n"
     ]
    },
    {
     "name": "stderr",
     "output_type": "stream",
     "text": [
      "100%|██████████| 100/100 [00:06<00:00, 15.41it/s]\n",
      "/Users/xxd/Documents/PhD/PainAssessment/EmbracePlus/data/.venv/lib/python3.13/site-packages/xgboost/training.py:183: UserWarning: [04:03:50] WARNING: /Users/runner/work/xgboost/xgboost/src/learner.cc:738: \n",
      "Parameters: { \"use_label_encoder\" } are not used.\n",
      "\n",
      "  bst.update(dtrain, iteration=i, fobj=obj)\n"
     ]
    },
    {
     "name": "stdout",
     "output_type": "stream",
     "text": [
      "Top features by mean(|SHAP|):\n",
      "  temperature_phasic_var    : 0.0770\n",
      "  temperature_skew          : 0.0648\n",
      "  bvp_30-45Hz               : 0.0480\n",
      "Finished LogisticRegression {'subject': 2, 'tonic_cutoff': 0.25, 'window_duration': 5.0, 'step_size': 5.0, 'split_method': 'split'} → F1=0.207, BalAcc=0.447\n",
      "\n",
      "=== XGBoost ===\n",
      "F1 (macro): 0.15718157181571815\n",
      "Balanced Accuracy: 0.31521739130434784\n",
      "Top features by mean(|SHAP|):\n",
      "  eda_tonic_mean            : 0.5368\n",
      "  temperature_phasic_var    : 0.2828\n",
      "  eda_phasic_var            : 0.2106\n",
      "Finished XGBoost {'subject': 2, 'tonic_cutoff': 0.25, 'window_duration': 5.0, 'step_size': 5.0, 'split_method': 'split'} → F1=0.157, BalAcc=0.315\n",
      "\n",
      "=== NaiveBayes ===\n",
      "F1 (macro): 0.04166260304191339\n",
      "Balanced Accuracy: 0.351257572272065\n"
     ]
    },
    {
     "name": "stderr",
     "output_type": "stream",
     "text": [
      "100%|██████████| 100/100 [00:17<00:00,  5.88it/s]\n"
     ]
    },
    {
     "name": "stdout",
     "output_type": "stream",
     "text": [
      "Top features by mean(|SHAP|):\n",
      "  temperature_mean          : 0.1068\n",
      "  bvp_skew                  : 0.0706\n",
      "  bvp_range                 : 0.0636\n",
      "Finished NaiveBayes {'subject': 2, 'tonic_cutoff': 0.25, 'window_duration': 5.0, 'step_size': 5.0, 'split_method': 'split'} → F1=0.042, BalAcc=0.351\n",
      "\n",
      "Running for params: {'subject': 2, 'tonic_cutoff': 0.25, 'window_duration': 5.0, 'step_size': 5.0, 'split_method': 'stratify'}\n",
      "\n",
      "=== RandomForest ===\n",
      "F1 (macro): 0.5978600823045267\n",
      "Balanced Accuracy: 0.6128697457187338\n",
      "Top features by mean(|SHAP|):\n",
      "  temperature_var           : 0.0272\n",
      "  eda_tonic_mean            : 0.0270\n",
      "  eda_4-8Hz                 : 0.0241\n",
      "Finished RandomForest {'subject': 2, 'tonic_cutoff': 0.25, 'window_duration': 5.0, 'step_size': 5.0, 'split_method': 'stratify'} → F1=0.598, BalAcc=0.613\n",
      "\n",
      "=== KNeighbors ===\n",
      "F1 (macro): 0.5428645428645429\n",
      "Balanced Accuracy: 0.5438505448884277\n"
     ]
    },
    {
     "name": "stderr",
     "output_type": "stream",
     "text": [
      "100%|██████████| 93/93 [00:14<00:00,  6.26it/s]\n"
     ]
    },
    {
     "name": "stdout",
     "output_type": "stream",
     "text": [
      "Top features by mean(|SHAP|):\n",
      "  temperature_phasic_var    : 0.0669\n",
      "  temperature_phasic_mean   : 0.0458\n",
      "  temperature_30-45Hz       : 0.0322\n",
      "Finished KNeighbors {'subject': 2, 'tonic_cutoff': 0.25, 'window_duration': 5.0, 'step_size': 5.0, 'split_method': 'stratify'} → F1=0.543, BalAcc=0.544\n",
      "\n",
      "=== LogisticRegression ===\n",
      "F1 (macro): 0.6044510631256722\n",
      "Balanced Accuracy: 0.6189240615810413\n"
     ]
    },
    {
     "name": "stderr",
     "output_type": "stream",
     "text": [
      "100%|██████████| 93/93 [00:05<00:00, 15.66it/s]\n",
      "/Users/xxd/Documents/PhD/PainAssessment/EmbracePlus/data/.venv/lib/python3.13/site-packages/xgboost/training.py:183: UserWarning: [04:04:34] WARNING: /Users/runner/work/xgboost/xgboost/src/learner.cc:738: \n",
      "Parameters: { \"use_label_encoder\" } are not used.\n",
      "\n",
      "  bst.update(dtrain, iteration=i, fobj=obj)\n"
     ]
    },
    {
     "name": "stdout",
     "output_type": "stream",
     "text": [
      "Top features by mean(|SHAP|):\n",
      "  temperature_skew          : 0.2065\n",
      "  temperature_phasic_var    : 0.0798\n",
      "  temperature_kurt          : 0.0753\n",
      "Finished LogisticRegression {'subject': 2, 'tonic_cutoff': 0.25, 'window_duration': 5.0, 'step_size': 5.0, 'split_method': 'stratify'} → F1=0.604, BalAcc=0.619\n",
      "\n",
      "=== XGBoost ===\n",
      "F1 (macro): 0.6087180146586088\n",
      "Balanced Accuracy: 0.6118318629994811\n",
      "Top features by mean(|SHAP|):\n",
      "  temperature_var           : 0.4218\n",
      "  temperature_skew          : 0.3928\n",
      "  eda_tonic_mean            : 0.3367\n",
      "Finished XGBoost {'subject': 2, 'tonic_cutoff': 0.25, 'window_duration': 5.0, 'step_size': 5.0, 'split_method': 'stratify'} → F1=0.609, BalAcc=0.612\n",
      "\n",
      "=== NaiveBayes ===\n",
      "F1 (macro): 0.26756066411238827\n",
      "Balanced Accuracy: 0.4805396990140114\n"
     ]
    },
    {
     "name": "stderr",
     "output_type": "stream",
     "text": [
      "100%|██████████| 93/93 [00:16<00:00,  5.81it/s]\n"
     ]
    },
    {
     "name": "stdout",
     "output_type": "stream",
     "text": [
      "Top features by mean(|SHAP|):\n",
      "  temperature_mean          : 0.1293\n",
      "  bvp_zero_cross            : 0.0311\n",
      "  bvp_slope                 : 0.0263\n",
      "Finished NaiveBayes {'subject': 2, 'tonic_cutoff': 0.25, 'window_duration': 5.0, 'step_size': 5.0, 'split_method': 'stratify'} → F1=0.268, BalAcc=0.481\n",
      "\n",
      "Running for params: {'subject': 3, 'tonic_cutoff': 0.05, 'window_duration': 0.5, 'step_size': 0.5, 'split_method': 'split'}\n"
     ]
    },
    {
     "name": "stderr",
     "output_type": "stream",
     "text": [
      "/var/folders/_p/h41_0pdn333726l79m4f8w080000gn/T/ipykernel_7614/3209956298.py:80: RuntimeWarning: divide by zero encountered in divide\n",
      "  class_weights = 1.0 / class_counts\n"
     ]
    },
    {
     "name": "stdout",
     "output_type": "stream",
     "text": [
      "\n",
      "=== RandomForest ===\n",
      "F1 (macro): 0.17249229945091737\n",
      "Balanced Accuracy: 0.4984520123839009\n"
     ]
    },
    {
     "name": "stderr",
     "output_type": "stream",
     "text": [
      "/Users/xxd/Documents/PhD/PainAssessment/EmbracePlus/data/.venv/lib/python3.13/site-packages/sklearn/metrics/_classification.py:2524: UserWarning: y_pred contains classes not in y_true\n",
      "  warnings.warn(\"y_pred contains classes not in y_true\")\n",
      "/Users/xxd/Documents/PhD/PainAssessment/EmbracePlus/data/.venv/lib/python3.13/site-packages/sklearn/metrics/_classification.py:2524: UserWarning: y_pred contains classes not in y_true\n",
      "  warnings.warn(\"y_pred contains classes not in y_true\")\n"
     ]
    },
    {
     "name": "stdout",
     "output_type": "stream",
     "text": [
      "Top features by mean(|SHAP|):\n",
      "  temperature_tonic_var     : 0.0552\n",
      "  eda_phasic_mean           : 0.0510\n",
      "  temperature_tonic_mean    : 0.0433\n",
      "Finished RandomForest {'subject': 3, 'tonic_cutoff': 0.05, 'window_duration': 0.5, 'step_size': 0.5, 'split_method': 'split'} → F1=0.172, BalAcc=0.498\n",
      "\n",
      "=== KNeighbors ===\n",
      "F1 (macro): 0.20535567603088548\n",
      "Balanced Accuracy: 0.48374613003095973\n"
     ]
    },
    {
     "name": "stderr",
     "output_type": "stream",
     "text": [
      "100%|██████████| 100/100 [00:49<00:00,  2.01it/s]\n",
      "/Users/xxd/Documents/PhD/PainAssessment/EmbracePlus/data/.venv/lib/python3.13/site-packages/sklearn/metrics/_classification.py:2524: UserWarning: y_pred contains classes not in y_true\n",
      "  warnings.warn(\"y_pred contains classes not in y_true\")\n"
     ]
    },
    {
     "name": "stdout",
     "output_type": "stream",
     "text": [
      "Top features by mean(|SHAP|):\n",
      "  temperature_tonic_var     : 0.0533\n",
      "  temperature_tonic_mean    : 0.0448\n",
      "  bvp_phasic_mean           : 0.0415\n",
      "Finished KNeighbors {'subject': 3, 'tonic_cutoff': 0.05, 'window_duration': 0.5, 'step_size': 0.5, 'split_method': 'split'} → F1=0.205, BalAcc=0.484\n",
      "\n",
      "=== LogisticRegression ===\n",
      "F1 (macro): 0.16046065259117084\n",
      "Balanced Accuracy: 0.4852941176470588\n"
     ]
    },
    {
     "name": "stderr",
     "output_type": "stream",
     "text": [
      "100%|██████████| 100/100 [00:05<00:00, 19.77it/s]\n"
     ]
    },
    {
     "name": "stdout",
     "output_type": "stream",
     "text": [
      "Top features by mean(|SHAP|):\n",
      "  bvp_tonic_var             : 0.3060\n",
      "  eda_phasic_var            : 0.2840\n",
      "  eda_phasic_mean           : 0.1646\n",
      "Finished LogisticRegression {'subject': 3, 'tonic_cutoff': 0.05, 'window_duration': 0.5, 'step_size': 0.5, 'split_method': 'split'} → F1=0.160, BalAcc=0.485\n"
     ]
    },
    {
     "ename": "ValueError",
     "evalue": "Invalid classes inferred from unique values of `y`.  Expected: [0 1], got [1 2]",
     "output_type": "error",
     "traceback": [
      "\u001b[31m---------------------------------------------------------------------------\u001b[39m",
      "\u001b[31mValueError\u001b[39m                                Traceback (most recent call last)",
      "\u001b[36mCell\u001b[39m\u001b[36m \u001b[39m\u001b[32mIn[37]\u001b[39m\u001b[32m, line 126\u001b[39m\n\u001b[32m    124\u001b[39m \u001b[38;5;66;03m# 5) Train & evaluate\u001b[39;00m\n\u001b[32m    125\u001b[39m \u001b[38;5;28;01mfor\u001b[39;00m name, pipe \u001b[38;5;129;01min\u001b[39;00m models.items():\n\u001b[32m--> \u001b[39m\u001b[32m126\u001b[39m     \u001b[43mpipe\u001b[49m\u001b[43m.\u001b[49m\u001b[43mfit\u001b[49m\u001b[43m(\u001b[49m\u001b[43mX_train_bal\u001b[49m\u001b[43m,\u001b[49m\u001b[43m \u001b[49m\u001b[43my_train_bal\u001b[49m\u001b[43m)\u001b[49m\n\u001b[32m    127\u001b[39m     y_pred = pipe.predict(X_test)\n\u001b[32m    128\u001b[39m     \u001b[38;5;28mprint\u001b[39m(\u001b[33mf\u001b[39m\u001b[33m\"\u001b[39m\u001b[38;5;130;01m\\n\u001b[39;00m\u001b[33m=== \u001b[39m\u001b[38;5;132;01m{\u001b[39;00mname\u001b[38;5;132;01m}\u001b[39;00m\u001b[33m ===\u001b[39m\u001b[33m\"\u001b[39m)\n",
      "\u001b[36mFile \u001b[39m\u001b[32m~/Documents/PhD/PainAssessment/EmbracePlus/data/.venv/lib/python3.13/site-packages/sklearn/base.py:1389\u001b[39m, in \u001b[36m_fit_context.<locals>.decorator.<locals>.wrapper\u001b[39m\u001b[34m(estimator, *args, **kwargs)\u001b[39m\n\u001b[32m   1382\u001b[39m     estimator._validate_params()\n\u001b[32m   1384\u001b[39m \u001b[38;5;28;01mwith\u001b[39;00m config_context(\n\u001b[32m   1385\u001b[39m     skip_parameter_validation=(\n\u001b[32m   1386\u001b[39m         prefer_skip_nested_validation \u001b[38;5;129;01mor\u001b[39;00m global_skip_validation\n\u001b[32m   1387\u001b[39m     )\n\u001b[32m   1388\u001b[39m ):\n\u001b[32m-> \u001b[39m\u001b[32m1389\u001b[39m     \u001b[38;5;28;01mreturn\u001b[39;00m \u001b[43mfit_method\u001b[49m\u001b[43m(\u001b[49m\u001b[43mestimator\u001b[49m\u001b[43m,\u001b[49m\u001b[43m \u001b[49m\u001b[43m*\u001b[49m\u001b[43margs\u001b[49m\u001b[43m,\u001b[49m\u001b[43m \u001b[49m\u001b[43m*\u001b[49m\u001b[43m*\u001b[49m\u001b[43mkwargs\u001b[49m\u001b[43m)\u001b[49m\n",
      "\u001b[36mFile \u001b[39m\u001b[32m~/Documents/PhD/PainAssessment/EmbracePlus/data/.venv/lib/python3.13/site-packages/sklearn/pipeline.py:662\u001b[39m, in \u001b[36mPipeline.fit\u001b[39m\u001b[34m(self, X, y, **params)\u001b[39m\n\u001b[32m    656\u001b[39m     \u001b[38;5;28;01mif\u001b[39;00m \u001b[38;5;28mself\u001b[39m._final_estimator != \u001b[33m\"\u001b[39m\u001b[33mpassthrough\u001b[39m\u001b[33m\"\u001b[39m:\n\u001b[32m    657\u001b[39m         last_step_params = \u001b[38;5;28mself\u001b[39m._get_metadata_for_step(\n\u001b[32m    658\u001b[39m             step_idx=\u001b[38;5;28mlen\u001b[39m(\u001b[38;5;28mself\u001b[39m) - \u001b[32m1\u001b[39m,\n\u001b[32m    659\u001b[39m             step_params=routed_params[\u001b[38;5;28mself\u001b[39m.steps[-\u001b[32m1\u001b[39m][\u001b[32m0\u001b[39m]],\n\u001b[32m    660\u001b[39m             all_params=params,\n\u001b[32m    661\u001b[39m         )\n\u001b[32m--> \u001b[39m\u001b[32m662\u001b[39m         \u001b[38;5;28;43mself\u001b[39;49m\u001b[43m.\u001b[49m\u001b[43m_final_estimator\u001b[49m\u001b[43m.\u001b[49m\u001b[43mfit\u001b[49m\u001b[43m(\u001b[49m\u001b[43mXt\u001b[49m\u001b[43m,\u001b[49m\u001b[43m \u001b[49m\u001b[43my\u001b[49m\u001b[43m,\u001b[49m\u001b[43m \u001b[49m\u001b[43m*\u001b[49m\u001b[43m*\u001b[49m\u001b[43mlast_step_params\u001b[49m\u001b[43m[\u001b[49m\u001b[33;43m\"\u001b[39;49m\u001b[33;43mfit\u001b[39;49m\u001b[33;43m\"\u001b[39;49m\u001b[43m]\u001b[49m\u001b[43m)\u001b[49m\n\u001b[32m    664\u001b[39m \u001b[38;5;28;01mreturn\u001b[39;00m \u001b[38;5;28mself\u001b[39m\n",
      "\u001b[36mFile \u001b[39m\u001b[32m~/Documents/PhD/PainAssessment/EmbracePlus/data/.venv/lib/python3.13/site-packages/xgboost/core.py:729\u001b[39m, in \u001b[36mrequire_keyword_args.<locals>.throw_if.<locals>.inner_f\u001b[39m\u001b[34m(*args, **kwargs)\u001b[39m\n\u001b[32m    727\u001b[39m \u001b[38;5;28;01mfor\u001b[39;00m k, arg \u001b[38;5;129;01min\u001b[39;00m \u001b[38;5;28mzip\u001b[39m(sig.parameters, args):\n\u001b[32m    728\u001b[39m     kwargs[k] = arg\n\u001b[32m--> \u001b[39m\u001b[32m729\u001b[39m \u001b[38;5;28;01mreturn\u001b[39;00m \u001b[43mfunc\u001b[49m\u001b[43m(\u001b[49m\u001b[43m*\u001b[49m\u001b[43m*\u001b[49m\u001b[43mkwargs\u001b[49m\u001b[43m)\u001b[49m\n",
      "\u001b[36mFile \u001b[39m\u001b[32m~/Documents/PhD/PainAssessment/EmbracePlus/data/.venv/lib/python3.13/site-packages/xgboost/sklearn.py:1640\u001b[39m, in \u001b[36mXGBClassifier.fit\u001b[39m\u001b[34m(self, X, y, sample_weight, base_margin, eval_set, verbose, xgb_model, sample_weight_eval_set, base_margin_eval_set, feature_weights)\u001b[39m\n\u001b[32m   1635\u001b[39m     expected_classes = \u001b[38;5;28mself\u001b[39m.classes_\n\u001b[32m   1636\u001b[39m \u001b[38;5;28;01mif\u001b[39;00m (\n\u001b[32m   1637\u001b[39m     classes.shape != expected_classes.shape\n\u001b[32m   1638\u001b[39m     \u001b[38;5;129;01mor\u001b[39;00m \u001b[38;5;129;01mnot\u001b[39;00m (classes == expected_classes).all()\n\u001b[32m   1639\u001b[39m ):\n\u001b[32m-> \u001b[39m\u001b[32m1640\u001b[39m     \u001b[38;5;28;01mraise\u001b[39;00m \u001b[38;5;167;01mValueError\u001b[39;00m(\n\u001b[32m   1641\u001b[39m         \u001b[33mf\u001b[39m\u001b[33m\"\u001b[39m\u001b[33mInvalid classes inferred from unique values of `y`.  \u001b[39m\u001b[33m\"\u001b[39m\n\u001b[32m   1642\u001b[39m         \u001b[33mf\u001b[39m\u001b[33m\"\u001b[39m\u001b[33mExpected: \u001b[39m\u001b[38;5;132;01m{\u001b[39;00mexpected_classes\u001b[38;5;132;01m}\u001b[39;00m\u001b[33m, got \u001b[39m\u001b[38;5;132;01m{\u001b[39;00mclasses\u001b[38;5;132;01m}\u001b[39;00m\u001b[33m\"\u001b[39m\n\u001b[32m   1643\u001b[39m     )\n\u001b[32m   1645\u001b[39m params = \u001b[38;5;28mself\u001b[39m.get_xgb_params()\n\u001b[32m   1647\u001b[39m \u001b[38;5;28;01mif\u001b[39;00m \u001b[38;5;28mcallable\u001b[39m(\u001b[38;5;28mself\u001b[39m.objective):\n",
      "\u001b[31mValueError\u001b[39m: Invalid classes inferred from unique values of `y`.  Expected: [0 1], got [1 2]"
     ]
    }
   ],
   "source": [
    "# with SHAP and loop through all combinations of hyper-parameters\n",
    "\n",
    "# Build master results DataFrame\n",
    "results = pd.DataFrame()\n",
    "# window filter\n",
    "def window_filter(df):\n",
    "    # filter windows from one single subject and one mode\n",
    "    return df['Mode'].nunique() == 1# and df['subject'].nunique() == 1\n",
    "\n",
    "SUBJECTS = [2, 3, 4, 5, 6, 7, 1]\n",
    "TONIC_CUTOFFS = [0.05, 0.1, 0.25] \n",
    "WINDOW_DURATIONS = [0.5, 1.0, 5.0]  # seconds\n",
    "WINDOW_STEPS = [0.5, 1.0, 5.0]  # seconds\n",
    "SPLIT_METHODS = ['split', 'stratify']   # \n",
    "\n",
    "# loop through all combinations of hyper-parameters\n",
    "for p, tonic_cutoff, window_duration, step_size, split_method in itertools.product(\n",
    "        SUBJECTS,\n",
    "        TONIC_CUTOFFS,\n",
    "        WINDOW_DURATIONS,\n",
    "        WINDOW_STEPS,\n",
    "        SPLIT_METHODS,\n",
    "):\n",
    "    params = {\n",
    "        'subject': p,\n",
    "        'tonic_cutoff': tonic_cutoff,\n",
    "        'window_duration': window_duration,\n",
    "        'step_size': step_size,\n",
    "        'split_method': split_method\n",
    "    }\n",
    "    print(f\"\\nRunning for params: {params}\")\n",
    "    # Load data\n",
    "    subject=p\n",
    "    signals_df = pd.read_csv(f'processed_signals/00{p}.csv')\n",
    "    #signals_df.drop(columns=['accelerometer_x',\t'accelerometer_y', 'accelerometer_z', 'gyroscope_x', 'gyroscope_y',\t'gyroscope_z'], inplace=True)\n",
    "    pain_df = pd.read_csv(f'self_report/00{p}.csv')\n",
    "\n",
    "\n",
    "    # 1) Instantiate and split your sliding-window pain dataset by 'Mode' groups\n",
    "    ds = BiomedicalPainDataset(\n",
    "        signals_df=signals_df,\n",
    "        pain_df=pain_df,\n",
    "        timestamp_col='timestamp',\n",
    "        window_duration=window_duration,\n",
    "        step_size=step_size,\n",
    "        signal_columns=['eda','bvp','temperature'],\n",
    "        window_filter=window_filter,  # filter windows by subject and mode\n",
    "        bandpass_freqs=(0.5, 45),  # 45 < 50 (Nyquist for 100Hz)\n",
    "        freq_bands=[(0.5,4),(4,8),(8,12),(12,30),(30,45)],  # also update freq_bands to not exceed 45Hz\n",
    "        resample_freq=100,\n",
    "        include_tonic_phasic=True,\n",
    "        tonic_cutoff=tonic_cutoff,\n",
    "    )\n",
    "\n",
    "    if split_method == 'split':\n",
    "        train_ds, test_ds = ds.split(test_size=0.2, split_by=['Mode']) # type: ignore\n",
    "    elif split_method == 'stratify':\n",
    "        train_ds, test_ds = ds.split(test_size=0.2, stratify_by=['Mode']) # type: ignore\n",
    "    train_ds.apply_scaling('standard', fit=True)\n",
    "    test_ds.apply_scaling('standard', fit=False, scaler=train_ds.scaler)  # uses train_ds.scaler\n",
    "\n",
    "    train_ds.process_nan('interpolate', 'linear')\n",
    "\n",
    "    # 2) Helper to convert any BaseSlidingWindowDataset into X, Y NumPy arrays\n",
    "    def dataset_to_numpy(dataset: torch.utils.data.Dataset):\n",
    "        loader = DataLoader(dataset, batch_size=64, shuffle=False)\n",
    "        X_parts, Y_parts = [], []\n",
    "        for Xb, Yb in loader:\n",
    "            X_parts.append(Xb)\n",
    "            Y_parts.append(Yb)\n",
    "        X = torch.cat(X_parts, dim=0).numpy()\n",
    "        Y = torch.cat(Y_parts, dim=0).flatten().numpy()\n",
    "        return X, Y\n",
    "\n",
    "    X_train, y_train = dataset_to_numpy(train_ds)\n",
    "    X_test,  y_test  = dataset_to_numpy(test_ds)\n",
    "\n",
    "    # 3) (Optional) Balance your training set with a WeightedRandomSampler\n",
    "    class_counts = np.bincount(y_train.astype(int))\n",
    "    class_weights = 1.0 / class_counts\n",
    "    sample_weights = class_weights[y_train.astype(int)]\n",
    "    sampler = WeightedRandomSampler(sample_weights, num_samples=len(y_train), replacement=False) # type: ignore\n",
    "\n",
    "    # Wrap balanced train set into a single batch\n",
    "    train_loader = DataLoader(\n",
    "        TensorDataset(torch.tensor(X_train), torch.tensor(y_train)),\n",
    "        sampler=sampler,\n",
    "        batch_size=len(y_train)\n",
    "    )\n",
    "    X_train_bal, y_train_bal = next(iter(train_loader))\n",
    "    X_train_bal = X_train_bal.numpy();  y_train_bal = y_train_bal.numpy()\n",
    "\n",
    "    # 4) Define your modeling pipelines\n",
    "    def make_pipeline(estimator):\n",
    "        return Pipeline([\n",
    "            ('impute', SimpleImputer(strategy='mean')),\n",
    "            ('scale',  StandardScaler()),\n",
    "            ('clf',    estimator)\n",
    "        ])\n",
    "\n",
    "    models = {\n",
    "        #'SVM':               make_pipeline(SVC(kernel='rbf', probability=True, random_state=42)),\n",
    "        'RandomForest':      make_pipeline(RandomForestClassifier(n_estimators=100, random_state=42)),\n",
    "        #'GradientBoosting':  make_pipeline(GradientBoostingClassifier(random_state=42)),\n",
    "        'KNeighbors':        make_pipeline(KNeighborsClassifier(n_neighbors=5)),\n",
    "        'LogisticRegression':make_pipeline(LogisticRegression(max_iter=1000, random_state=42)),\n",
    "        'XGBoost':           make_pipeline(XGBClassifier(use_label_encoder=False, eval_metric='mlogloss', random_state=42)),\n",
    "        #'MLP':         make_pipeline(MLPClassifier(hidden_layer_sizes=(256,256,256,256), learning_rate='adaptive', max_iter=500, random_state=42)),\n",
    "            # requires tensorflow\n",
    "        'NaiveBayes':        make_pipeline(GaussianNB()),\n",
    "    }\n",
    "\n",
    "    # --- 0) Optionally subsample for SHAP speed ---\n",
    "    # we'll take 1000 train and 500 test samples at random\n",
    "    rng = np.random.RandomState(42)\n",
    "    idx_train = rng.choice(len(X_train_bal), size=min(200, len(X_train_bal)), replace=False)\n",
    "    idx_test  = rng.choice(len(X_test),      size=min(100,  len(X_test)),      replace=False)\n",
    "    X_train_sub, y_train_sub = X_train_bal[idx_train], y_train_bal[idx_train]\n",
    "    X_test_sub,  y_test_sub  = X_test[idx_test],    y_test[idx_test]\n",
    "\n",
    "    #feature_names = [f\"f{i}\" for i in range(X_train.shape[1])]  # replace with real names if available\n",
    "    feature_names = ds._generate_feature_names()  # use dataset's feature names\n",
    "\n",
    "    # 5) Train & evaluate\n",
    "    for name, pipe in models.items():\n",
    "        pipe.fit(X_train_bal, y_train_bal)\n",
    "        y_pred = pipe.predict(X_test)\n",
    "        print(f\"\\n=== {name} ===\")\n",
    "        f1 = f1_score( y_test, y_pred, average='macro' )\n",
    "        bal_acc = balanced_accuracy_score(y_test, y_pred)\n",
    "\n",
    "        print(\"F1 (macro):\",            f1)\n",
    "        print(\"Balanced Accuracy:\",     bal_acc)\n",
    "        #print(\"Classification Report:\\n\", classification_report(y_test, y_pred, digits=3))\n",
    "        \n",
    "        # Choose appropriate explainer\n",
    "        clf = pipe.named_steps['clf']\n",
    "        transformer = Pipeline(pipe.steps[:-1])  # imputer+scaler\n",
    "        X_train_trans = transformer.transform(X_train_sub)\n",
    "        X_test_trans  = transformer.transform(X_test_sub)\n",
    "        \n",
    "        if name in ('RandomForest','GradientBoosting','XGBoost'):\n",
    "            explainer = shap.TreeExplainer(clf, data=X_train_trans)\n",
    "            # Compute SHAP values for class 1 (or mean over classes)\n",
    "            shap_values = explainer.shap_values(X_test_trans, check_additivity=False)\n",
    "        elif name in ('MLP'):\n",
    "            explainer = shap.DeepExplainer(clf, X_train_trans[:100])  # MLP needs a small background set\n",
    "            shap_values = explainer.shap_values(X_test_trans)\n",
    "        else:\n",
    "            # Kernel explainer on small background\n",
    "            explainer = shap.KernelExplainer(clf.predict_proba, X_train_trans[:100])\n",
    "            shap_values = explainer.shap_values(X_test_trans)\n",
    "        # shap_values is list of arrays if multiclass\n",
    "        if isinstance(shap_values, list):\n",
    "            # take class 1 explanations\n",
    "            sv = shap_values[1]\n",
    "        else:\n",
    "            sv = shap_values\n",
    "            \n",
    "        # Mean absolute importance per feature\n",
    "        # If sv is 2D, mean over samples only\n",
    "        if sv.ndim == 2:\n",
    "            mean_abs = np.abs(sv).mean(axis=0)\n",
    "        elif sv.ndim == 3:\n",
    "            mean_abs = np.abs(sv).mean(axis=(0, 2))\n",
    "        ranked_ix = np.argsort(-mean_abs) # type: ignore\n",
    "        print(\"Top features by mean(|SHAP|):\")\n",
    "        top_k = 3\n",
    "        for i in ranked_ix[:top_k]:\n",
    "            print(f\"  {feature_names[i]:<25} : {mean_abs[i]:.4f}\") # type: ignore\n",
    "\n",
    "        top_k = 15\n",
    "        top_idx   = ranked_ix[:]                      # indices of top K\n",
    "        top_feats = [feature_names[i] for i in top_idx]    # their names\n",
    "        top_vals  = [mean_abs[i] for i in top_idx]         # their SHAP importances\n",
    "        \n",
    "        # Record a row\n",
    "        row = {**params,\n",
    "            'model': name,\n",
    "            'f1_macro': f1,\n",
    "            'balanced_acc': bal_acc,\n",
    "            'top_shap_feats':  top_feats,\n",
    "            'top_shap_vals':   top_vals,\n",
    "            }\n",
    "        results = pd.concat([results, pd.DataFrame([row])], ignore_index=True)\n",
    "\n",
    "        # Persist after each run\n",
    "        results.to_csv('experiments.csv', index=False)\n",
    "        results.to_feather('experiments.feather')\n",
    "\n",
    "        print(f\"Finished {name} {params} → F1={f1:.3f}, BalAcc={bal_acc:.3f}\")\n"
   ]
  },
  {
   "cell_type": "code",
   "execution_count": 51,
   "id": "183a5c16",
   "metadata": {},
   "outputs": [
    {
     "data": {
      "image/png": "[encoded data removed]",
      "text/plain": [
       "<Figure size 1200x800 with 2 Axes>"
      ]
     },
     "metadata": {},
     "output_type": "display_data"
    }
   ],
   "source": [
    "# Collect all features seen\n",
    "all_feats = sorted({feat for feats in results['top_shap_feats'] for feat in feats})\n",
    "\n",
    "# Build average rank DataFrame\n",
    "def make_rank_map(feats):\n",
    "    return {feat: feats.index(feat) + 1 if feat in feats else np.nan for feat in all_feats}\n",
    "\n",
    "pos_df = pd.DataFrame(results['top_shap_feats'].apply(make_rank_map).tolist())\n",
    "# Penalize absent features\n",
    "K = results['top_shap_feats'].str.len().max()\n",
    "pos_df = pos_df.fillna(K + 1)\n",
    "avg_rank = pos_df.mean()\n",
    "\n",
    "# Build average value DataFrame\n",
    "def make_val_map(feats, vals):\n",
    "    return {feat: vals[feats.index(feat)] if feat in feats else 0.0 for feat in all_feats}\n",
    "\n",
    "val_df = pd.DataFrame([\n",
    "    make_val_map(feats, vals)\n",
    "    for feats, vals in zip(results['top_shap_feats'], results['top_shap_vals'])\n",
    "])\n",
    "avg_val = val_df.mean()\n",
    "\n",
    "# Select top 15 by avg_rank\n",
    "top15 = avg_rank.nsmallest(15).index\n",
    "\n",
    "# Prepare data for plotting\n",
    "ranks = avg_rank[top15]\n",
    "values = avg_val[top15]\n",
    "\n",
    "# Plot\n",
    "fig, ax1 = plt.subplots(figsize=(12, 8))\n",
    "\n",
    "y_pos = np.arange(len(top15))\n",
    "\n",
    "# Bar for average rank\n",
    "ax1.barh(y_pos, ranks, align='center')\n",
    "ax1.set_yticks(y_pos)\n",
    "ax1.set_yticklabels(top15)\n",
    "ax1.invert_yaxis()\n",
    "ax1.set_xlabel('Average SHAP Rank (lower = more important)')\n",
    "ax1.set_title('Top 15 Features: SHAP Rank and Mean Value')\n",
    "\n",
    "# Secondary axis for SHAP value\n",
    "ax2 = ax1.twiny()\n",
    "ax2.plot(values, y_pos, 'o', color='orange', markersize=8, label='Average SHAP Value')\n",
    "ax2.set_xlabel('Average SHAP Value')\n",
    "\n",
    "# Grid and layout\n",
    "ax1.grid(axis='x', linestyle='--', alpha=0.7)\n",
    "fig.tight_layout()\n",
    "plt.show()"
   ]
  },
  {
   "cell_type": "code",
   "execution_count": 46,
   "id": "22ad363c",
   "metadata": {},
   "outputs": [
    {
     "name": "stdout",
     "output_type": "stream",
     "text": [
      "Feature: temperature_tonic_var, Average Rank: 17.457875457875456\n",
      "Feature: bvp_tonic_var, Average Rank: 26.043956043956044\n",
      "Feature: temperature_tonic_mean, Average Rank: 18.135531135531135\n",
      "Feature: bvp_phasic_mean, Average Rank: 22.44322344322344\n",
      "Feature: eda_phasic_var, Average Rank: 27.38095238095238\n",
      "Feature: eda_phasic_mean, Average Rank: 12.677655677655677\n",
      "Feature: eda_tonic_var, Average Rank: 21.35164835164835\n",
      "Feature: bvp_phasic_var, Average Rank: 23.7985347985348\n",
      "Feature: eda_max, Average Rank: 35.24908424908425\n",
      "Feature: bvp_tonic_mean, Average Rank: 20.553113553113555\n",
      "Feature: eda_kurt, Average Rank: 35.02930402930403\n",
      "Feature: eda_tonic_mean, Average Rank: 14.267399267399268\n",
      "Feature: bvp_skew, Average Rank: 25.516483516483518\n",
      "Feature: eda_range, Average Rank: 35.959706959706956\n",
      "Feature: temperature_rms, Average Rank: 32.73992673992674\n",
      "Feature: temperature_phasic_mean, Average Rank: 22.17948717948718\n",
      "Feature: bvp_rms, Average Rank: 28.457875457875456\n",
      "Feature: eda_var, Average Rank: 24.10989010989011\n",
      "Feature: temperature_phasic_var, Average Rank: 16.7985347985348\n",
      "Feature: eda_skew, Average Rank: 37.75457875457875\n",
      "Feature: bvp_mean, Average Rank: 24.388278388278387\n",
      "Feature: bvp_peak_freq, Average Rank: 34.032967032967036\n",
      "Feature: temperature_range, Average Rank: 28.978021978021978\n",
      "Feature: temperature_max, Average Rank: 33.10622710622711\n",
      "Feature: bvp_min, Average Rank: 26.04029304029304\n",
      "Feature: bvp_range, Average Rank: 24.014652014652015\n",
      "Feature: bvp_max, Average Rank: 30.047619047619047\n",
      "Feature: bvp_var, Average Rank: 33.61538461538461\n",
      "Feature: eda_peak_freq, Average Rank: 35.776556776556774\n",
      "Feature: temperature_min, Average Rank: 37.08424908424909\n",
      "Feature: eda_zero_cross, Average Rank: 35.64102564102564\n",
      "Feature: eda_slope, Average Rank: 31.336996336996336\n",
      "Feature: bvp_zero_cross, Average Rank: 14.728937728937728\n",
      "Feature: bvp_kurt, Average Rank: 15.355311355311356\n",
      "Feature: eda_mean, Average Rank: 31.06959706959707\n",
      "Feature: temperature_30-45Hz, Average Rank: 19.84981684981685\n",
      "Feature: eda_30-45Hz, Average Rank: 29.90842490842491\n",
      "Feature: temperature_zero_cross, Average Rank: 35.879120879120876\n",
      "Feature: temperature_kurt, Average Rank: 29.83882783882784\n",
      "Feature: bvp_4-8Hz, Average Rank: 32.43589743589744\n",
      "Feature: temperature_12-30Hz, Average Rank: 36.527472527472526\n",
      "Feature: bvp_0.5-4Hz, Average Rank: 34.81684981684982\n",
      "Feature: temperature_skew, Average Rank: 29.465201465201464\n",
      "Feature: bvp_12-30Hz, Average Rank: 34.23809523809524\n",
      "Feature: eda_0.5-4Hz, Average Rank: 28.32967032967033\n",
      "Feature: bvp_slope, Average Rank: 19.3003663003663\n",
      "Feature: eda_4-8Hz, Average Rank: 31.333333333333332\n",
      "Feature: temperature_8-12Hz, Average Rank: 38.73626373626374\n",
      "Feature: eda_8-12Hz, Average Rank: 32.391941391941394\n",
      "Feature: temperature_peak_freq, Average Rank: 34.3992673992674\n",
      "Feature: temperature_4-8Hz, Average Rank: 37.13186813186813\n",
      "Feature: temperature_slope, Average Rank: 28.992673992673993\n",
      "Feature: eda_12-30Hz, Average Rank: 32.53479853479853\n",
      "Feature: bvp_8-12Hz, Average Rank: 36.65567765567766\n",
      "Feature: bvp_30-45Hz, Average Rank: 39.1941391941392\n",
      "Feature: temperature_var, Average Rank: 38.62271062271062\n",
      "Feature: eda_rms, Average Rank: 42.014652014652015\n",
      "Feature: temperature_0.5-4Hz, Average Rank: 41.27472527472528\n",
      "Feature: eda_min, Average Rank: 41.18315018315018\n",
      "Feature: temperature_mean, Average Rank: 31.824175824175825\n"
     ]
    }
   ],
   "source": [
    "for feat in results['top_shap_feats'][0]:\n",
    "    avg_rank = results['top_shap_feats'].apply(list.index, args=(feat,)).mean()\n",
    "    print(f\"Feature: {feat}, Average Rank: {avg_rank}\")\n"
   ]
  },
  {
   "cell_type": "code",
   "execution_count": 77,
   "id": "31d6bb77",
   "metadata": {},
   "outputs": [
    {
     "data": {
      "text/plain": [
       "Index(['subject', 'tonic_cutoff', 'window_duration', 'step_size',\n",
       "       'split_method', 'model', 'f1_macro', 'balanced_acc', 'top_shap_feats',\n",
       "       'top_shap_vals'],\n",
       "      dtype='object')"
      ]
     },
     "execution_count": 77,
     "metadata": {},
     "output_type": "execute_result"
    }
   ],
   "source": [
    "results.columns"
   ]
  },
  {
   "cell_type": "code",
   "execution_count": 84,
   "id": "4ecda960",
   "metadata": {},
   "outputs": [
    {
     "data": {
      "text/plain": [
       "<Axes: xlabel='model', ylabel='balanced_acc'>"
      ]
     },
     "execution_count": 84,
     "metadata": {},
     "output_type": "execute_result"
    },
    {
     "data": {
      "image/png": "[encoded data removed]",
      "text/plain": [
       "<Figure size 800x600 with 1 Axes>"
      ]
     },
     "metadata": {},
     "output_type": "display_data"
    }
   ],
   "source": [
    "import seaborn as sns\n",
    "\n",
    "plt.figure(figsize=(8, 6))\n",
    "sns.barplot(results, x='model', y='balanced_acc', hue='tonic_cutoff', errorbar=None, )"
   ]
  },
  {
   "cell_type": "code",
   "execution_count": null,
   "id": "7a0406fb",
   "metadata": {},
   "outputs": [
    {
     "data": {
      "text/plain": [
       "<Axes: xlabel='model', ylabel='balanced_acc'>"
      ]
     },
     "metadata": {},
     "output_type": "display_data"
    },
    {
     "data": {
      "image/png": "[encoded data removed]",
      "text/plain": [
       "<Figure size 800x600 with 1 Axes>"
      ]
     },
     "metadata": {},
     "output_type": "display_data"
    }
   ],
   "source": [
    "import seaborn as sns\n",
    "\n",
    "plt.figure(figsize=(8, 6))\n",
    "sns.barplot(results, x='model', y='balanced_acc', hue='tonic_cutoff', errorbar=None, )"
   ]
  },
  {
   "cell_type": "code",
   "execution_count": null,
   "id": "9d9a56f3",
   "metadata": {},
   "outputs": [],
   "source": [
    "\n",
    "from sklearn.metrics import (\n",
    "    f1_score,\n",
    "    balanced_accuracy_score,\n",
    "    classification_report\n",
    ")\n",
    "\n",
    "# 1) Instantiate and split your sliding-window pain dataset by 'Mode' groups\n",
    "ds = BiomedicalPainDataset(\n",
    "    signals_df=signals_df,\n",
    "    pain_df=pain_df,\n",
    "    timestamp_col='timestamp',\n",
    "    window_duration=window_duration,\n",
    "    step_size=step_size,\n",
    "    signal_columns=['eda','bvp','temperature'],\n",
    "    bandpass_freqs=(0.5,40),\n",
    "    freq_bands=[(0.5,4),(4,8),(8,12),(12,30),(30,60)],\n",
    "    resample_freq=100,\n",
    "    include_tonic_phasic=True,\n",
    "    tonic_cutoff= 0.05, # 20 Hz\n",
    ")\n",
    "\n",
    "#train_ds, test_ds = ds.split(test_size=0.2, split_by=['Mode']) # type: ignore\n",
    "train_ds, test_ds = ds.split(test_size=0.2, stratify_by=['Mode']) # type: ignore\n",
    "train_ds.apply_scaling('standard', fit=True)\n",
    "test_ds.apply_scaling('standard', fit=False, scaler=train_ds.scaler)  # uses train_ds.scaler\n",
    "\n",
    "train_ds.process_nan('interpolate', 'linear')\n",
    "\n",
    "# 2) Helper to convert any BaseSlidingWindowDataset into X, Y NumPy arrays\n",
    "def dataset_to_numpy(dataset: torch.utils.data.Dataset):\n",
    "    loader = DataLoader(dataset, batch_size=64, shuffle=False)\n",
    "    X_parts, Y_parts = [], []\n",
    "    for Xb, Yb in loader:\n",
    "        X_parts.append(Xb)\n",
    "        Y_parts.append(Yb)\n",
    "    X = torch.cat(X_parts, dim=0).numpy()\n",
    "    Y = torch.cat(Y_parts, dim=0).flatten().numpy()\n",
    "    return X, Y\n",
    "\n",
    "X_train, y_train = dataset_to_numpy(train_ds)\n",
    "X_test,  y_test  = dataset_to_numpy(test_ds)\n",
    "\n",
    "# 3) (Optional) Balance your training set with a WeightedRandomSampler\n",
    "class_counts = np.bincount(y_train.astype(int))\n",
    "class_weights = 1.0 / class_counts\n",
    "sample_weights = class_weights[y_train.astype(int)]\n",
    "sampler = WeightedRandomSampler(sample_weights, num_samples=len(y_train), replacement=False) # type: ignore\n",
    "\n",
    "# Wrap balanced train set into a single batch\n",
    "train_loader = DataLoader(\n",
    "    TensorDataset(torch.tensor(X_train), torch.tensor(y_train)),\n",
    "    sampler=sampler,\n",
    "    batch_size=len(y_train)\n",
    ")\n",
    "X_train_bal, y_train_bal = next(iter(train_loader))\n",
    "X_train_bal = X_train_bal.numpy();  y_train_bal = y_train_bal.numpy()\n",
    "\n",
    "# 4) Define your modeling pipelines\n",
    "def make_pipeline(estimator):\n",
    "    return Pipeline([\n",
    "        ('impute', SimpleImputer(strategy='mean')),\n",
    "        ('scale',  StandardScaler()),\n",
    "        ('clf',    estimator)\n",
    "    ])\n",
    "\n",
    "models = {\n",
    "    'SVM':               make_pipeline(SVC(kernel='rbf', probability=True, random_state=42)),\n",
    "    'RandomForest':      make_pipeline(RandomForestClassifier(n_estimators=100, random_state=42)),\n",
    "    'GradientBoosting':  make_pipeline(GradientBoostingClassifier(random_state=42)),\n",
    "    'KNeighbors':        make_pipeline(KNeighborsClassifier(n_neighbors=5)),\n",
    "    'LogisticRegression':make_pipeline(LogisticRegression(max_iter=1000, random_state=42)),\n",
    "    'XGBoost':           make_pipeline(XGBClassifier(use_label_encoder=False, eval_metric='mlogloss', random_state=42)),\n",
    "}\n",
    "\n",
    "# 5) Train & evaluate\n",
    "for name, pipe in models.items():\n",
    "    pipe.fit(X_train_bal, y_train_bal)\n",
    "    y_pred = pipe.predict(X_test)\n",
    "    print(f\"\\n=== {name} ===\")\n",
    "    print(\"F1 (macro):\",            f1_score( y_test, y_pred, average='macro' ))\n",
    "    print(\"Balanced Accuracy:\",     balanced_accuracy_score(y_test, y_pred))\n",
    "    print(\"Classification Report:\\n\", classification_report(y_test, y_pred, digits=3))\n"
   ]
  },
  {
   "cell_type": "code",
   "execution_count": 66,
   "id": "8cebb2df",
   "metadata": {},
   "outputs": [
    {
     "data": {
      "text/plain": [
       "(np.float32(nan), np.int64(2), np.float32(nan), np.int64(2))"
      ]
     },
     "execution_count": 66,
     "metadata": {},
     "output_type": "execute_result"
    }
   ],
   "source": [
    "X_train.max(), y_train.max(), X_test.max(), y_test.max()"
   ]
  },
  {
   "cell_type": "code",
   "execution_count": 56,
   "id": "a4c2e879",
   "metadata": {},
   "outputs": [
    {
     "data": {
      "text/plain": [
       "(array([0, 1, 2]), array([0, 1, 2]))"
      ]
     },
     "execution_count": 56,
     "metadata": {},
     "output_type": "execute_result"
    }
   ],
   "source": [
    "np.unique(y_train), np.unique(y_test)"
   ]
  },
  {
   "cell_type": "code",
   "execution_count": null,
   "id": "2cc4ed6d",
   "metadata": {},
   "outputs": [],
   "source": [
    "import numpy as np\n",
    "import torch\n",
    "from torch.utils.data import DataLoader, TensorDataset, WeightedRandomSampler\n",
    "from sklearn.impute import SimpleImputer\n",
    "from sklearn.preprocessing import StandardScaler\n",
    "from sklearn.model_selection import train_test_split\n",
    "from sklearn.pipeline import Pipeline\n",
    "from sklearn.svm import SVC\n",
    "from sklearn.ensemble import RandomForestClassifier, IsolationForest, GradientBoostingClassifier\n",
    "from sklearn.neighbors import KNeighborsClassifier\n",
    "from sklearn.linear_model import LogisticRegression\n",
    "from xgboost import XGBClassifier\n",
    "from sklearn.metrics import (\n",
    "    f1_score,\n",
    "    balanced_accuracy_score,\n",
    "    classification_report\n",
    ")\n",
    "\n",
    "# --- 1) Collect all windows into numpy arrays once ---\n",
    "dataset = BiomedicalPainDataset(\n",
    "    signals_df=signals_df,\n",
    "    pain_df=pain_df,\n",
    "    timestamp_col='timestamp',\n",
    "    window_duration=window_duration,\n",
    "    step_size=step_size,\n",
    "    signal_columns=['eda','bvp','temperature'],\n",
    "    bandpass_freqs=(0.5,40),\n",
    "    freq_bands=[(0.5,4),(4,8),(8,12),(12,30),(30,60)],\n",
    "    resample_freq=100,\n",
    "    include_tonic_phasic=True,\n",
    "    tonic_cutoff= 1/20,  # 0.05 Hz\n",
    ")\n",
    "\n",
    "loader = DataLoader(dataset, batch_size=64, shuffle=False)\n",
    "X_list, Y_list = [], []\n",
    "for Xb, Yb in loader:\n",
    "    X_list.append(Xb)\n",
    "    Y_list.append(Yb)\n",
    "X = torch.cat(X_list, dim=0).numpy()\n",
    "Y = torch.cat(Y_list, dim=0).flatten().numpy()\n",
    "\n",
    "# --- 2) Balance via weighted sampler (optional) ---\n",
    "class_counts = np.bincount(Y)\n",
    "class_weights = 1.0 / class_counts\n",
    "sample_weights = class_weights[Y]\n",
    "sampler = WeightedRandomSampler(sample_weights, num_samples=len(Y), replacement=False) # type: ignore\n",
    "\n",
    "# Wrap back to DataLoader if you really need batches, otherwise skip\n",
    "balanced_loader = DataLoader(\n",
    "    TensorDataset(torch.tensor(X), torch.tensor(Y)),\n",
    "    batch_size=len(Y),\n",
    "    sampler=sampler\n",
    ")\n",
    "for Xb, Yb in balanced_loader:\n",
    "    X_bal, Y_bal = Xb.numpy(), Yb.numpy()\n",
    "    break  # single epoch collects all\n",
    "\n",
    "# --- 3) Train/test split ---\n",
    "X_train, X_test, y_train, y_test = train_test_split(\n",
    "    X_bal, Y_bal,  # type: ignore\n",
    "    test_size=0.2,\n",
    "    random_state=42,\n",
    "    stratify=Y_bal # type: ignore\n",
    ")\n",
    "\n",
    "# --- 4) Define pipelines for each model ---\n",
    "def make_pipeline(estimator):\n",
    "    return Pipeline([\n",
    "        ('impute', SimpleImputer(strategy='mean')),\n",
    "        ('scale',  StandardScaler()),\n",
    "        ('clf',    estimator)\n",
    "    ])\n",
    "\n",
    "models = {\n",
    "    'SVM':             make_pipeline(SVC(kernel='rbf', probability=True, random_state=42)),\n",
    "    'RandomForest':    make_pipeline(RandomForestClassifier(n_estimators=100, random_state=42)),\n",
    "    'XGBoost':         make_pipeline(XGBClassifier(use_label_encoder=False, eval_metric='mlogloss', random_state=42)),\n",
    "    'GradientBoosting':make_pipeline(GradientBoostingClassifier(random_state=42)),\n",
    "    'KNeighbors':      make_pipeline(KNeighborsClassifier(n_neighbors=5)),\n",
    "    'LogisticRegression': make_pipeline(LogisticRegression(max_iter=1000, random_state=42)),\n",
    "}\n",
    "\n",
    "# IsolationForest is for novelty detection; treat separately\n",
    "iso_forest = IsolationForest(contamination='auto', random_state=42)\n",
    "\n",
    "# --- 5) Train & Evaluate ---\n",
    "for name, pipe in models.items():\n",
    "    pipe.fit(X_train, y_train)\n",
    "    y_pred = pipe.predict(X_test)\n",
    "    print(f\"\\n-- {name} --\")\n",
    "    print(\"F1 (macro):\", f1_score( y_test, y_pred, average='macro' ))\n",
    "    print(\"Balanced Accuracy:\", balanced_accuracy_score(y_test, y_pred))\n",
    "    print(\"Classification Report:\\n\", classification_report(y_test, y_pred, digits=3))\n",
    "\n",
    "# Outlier-based baseline\n",
    "iso_forest.fit(X_train)\n",
    "y_pred_if = (iso_forest.predict(X_test) == 1).astype(int)\n",
    "# compare to majority class in y_test\n",
    "maj_class = np.argmax(np.bincount(y_train))\n",
    "y_test_binary = (y_test == maj_class).astype(int)\n",
    "print(\"\\n-- IsolationForest (novelty) --\")\n",
    "print(\"F1 (binary):\", f1_score(y_test_binary, y_pred_if, average='binary'))\n",
    "print(\"Balanced Accuracy:\", balanced_accuracy_score(y_test_binary, y_pred_if))\n"
   ]
  },
  {
   "cell_type": "code",
   "execution_count": 38,
   "id": "8a7decf0",
   "metadata": {},
   "outputs": [
    {
     "data": {
      "text/plain": [
       "(np.float32(nan), np.int64(0), np.float32(nan), np.int64(0))"
      ]
     },
     "execution_count": 38,
     "metadata": {},
     "output_type": "execute_result"
    }
   ],
   "source": [
    "X_train.min(), y_train.min(), X_test.min(), y_test.min()"
   ]
  },
  {
   "cell_type": "code",
   "execution_count": null,
   "id": "d375b07d",
   "metadata": {},
   "outputs": [],
   "source": [
    "\"\"\" for p in range(1, 2):\n",
    "    p=1\n",
    "    signals_df = pd.read_csv(f'processed_signals/00{p}.csv')#[-16200:]\n",
    "    pain_df = pd.read_csv(f'self_report/00{p}.csv')\n",
    "\n",
    "    log_df = pd.read_csv(f'self_report/00{p}.csv')\n",
    "    log_df['Timestamp'] = pd.to_datetime(log_df['Timestamp'])\n",
    "    log_df = log_df.dropna(subset=['PainLevel'])\n",
    "    log_df.sort_values('Timestamp', inplace=True)\n",
    "    log_df['timestamp'] = log_df['Timestamp'].copy()\n",
    "    first_mode_times = log_df.sort_values('timestamp').drop_duplicates('Mode')\n",
    "\n",
    "    #first_mode_times['Mode'] = first_mode_times['PainLevel'].copy().astype(int) + 1\n",
    "\n",
    "    #signals_df.drop('Unnamed: 0', axis=1, inplace=True)\n",
    "    signals_df['Mode'] = np.nan\n",
    "    signals_df['timestamp'] = pd.to_datetime(signals_df['timestamp']) \n",
    "    #signals_df['timestamp'] = pd.to_datetime(signals_df['timestamp'], unit='us') \n",
    "    #signals_df['timestamp'] = signals_df['timestamp'] - np.timedelta64(4, 'h')\n",
    "    signals_df.sort_values('timestamp', inplace=True)\n",
    "\n",
    "    for _, row in first_mode_times.iterrows():\n",
    "        mode_time = row['timestamp']\n",
    "        mode_value = row['Mode']\n",
    "        \n",
    "        # Find index in df2 with the closest timestamp\n",
    "        closest_idx = (signals_df['timestamp'] - mode_time).abs().idxmin()\n",
    "        signals_df.at[closest_idx, 'Mode'] = mode_value\n",
    "        \n",
    "    signals_df.at[0, 'Mode'] = 0\n",
    "    signals_df['Mode'] = signals_df['Mode'].ffill()\n",
    "    signals_df.to_csv(f'processed_signals/00{p}.csv', index=False) \"\"\""
   ]
  },
  {
   "cell_type": "code",
   "execution_count": 265,
   "id": "559167d9",
   "metadata": {},
   "outputs": [
    {
     "data": {
      "text/plain": [
       "' for features, pain_labels in dataloader:\\n    # features shape: (batch_size, n_features)\\n    # pain_labels shape: (batch_size,)\\n    # Your training code here '"
      ]
     },
     "execution_count": 265,
     "metadata": {},
     "output_type": "execute_result"
    }
   ],
   "source": [
    "# Create dataset\n",
    "dataset = BiomedicalPainDataset(\n",
    "    signals_df=signals_df,\n",
    "    pain_df=pain_df,\n",
    "    window_duration=window_duration,       # t-second windows\n",
    "    step_size=step_size,             # 1-second step\n",
    "    signal_columns=[\n",
    "                    #'accelerometer_x', 'accelerometer_y', 'accelerometer_z', \n",
    "                    #'gyroscope_x', 'gyroscope_y', 'gyroscope_z', \n",
    "                    'eda', 'bvp', 'temperature'],\n",
    "    bandpass_freqs=(0.5, 40),  # 0.5-40 Hz bandpass\n",
    "    freq_bands=[(0.5, 4), (4, 8), (8, 12), (12, 30), (30, 60)],  # Standard bands\n",
    "    resample_freq=100,         # 100 Hz resampling\n",
    ")\n",
    "# Create DataLoader\n",
    "dataloader = torch.utils.data.DataLoader(\n",
    "    dataset,\n",
    "    batch_size=32,\n",
    "    shuffle=True,\n",
    "    #num_workers=4\n",
    ")\n",
    "# collect all data\n",
    "x, y = [], []\n",
    "for d in dataloader:\n",
    "    x.append(d[0])\n",
    "    y.append(d[1].to(torch.int64))\n",
    "    \n",
    "x = torch.concat(x, dim=0)\n",
    "y = torch.concat(y, dim=0)\n",
    "# create weighted sampler for balanced sampling\n",
    "# Compute class counts and weights\n",
    "from torch.utils.data import DataLoader, TensorDataset, WeightedRandomSampler\n",
    "\n",
    "class_sample_count = torch.bincount(y.flatten())\n",
    "weights = 1. / class_sample_count.float()\n",
    "sample_weights = weights[y]\n",
    "\n",
    "# Create sampler\n",
    "sampler = WeightedRandomSampler(weights=sample_weights.view(-1), # type: ignore\n",
    "                                 num_samples=len(y),\n",
    "                                 replacement=False)\n",
    "\n",
    "# Wrap into dataset and dataloader\n",
    "dataset = TensorDataset(x, y)\n",
    "dataloader = DataLoader(dataset, sampler=sampler, batch_size=32)\n",
    "# recollect balanced data\n",
    "x, y = [], []\n",
    "for _ in range(1):\n",
    "    for d in dataloader:\n",
    "        x.append(d[0])\n",
    "        y.append(d[1].to(torch.int64))\n",
    "        \n",
    "x = torch.concat(x, dim=0).numpy()\n",
    "y = torch.concat(y, dim=0).numpy()\n",
    "\n",
    "# Training loop\n",
    "\"\"\" for features, pain_labels in dataloader:\n",
    "    # features shape: (batch_size, n_features)\n",
    "    # pain_labels shape: (batch_size,)\n",
    "    # Your training code here \"\"\"\n"
   ]
  },
  {
   "cell_type": "code",
   "execution_count": 94,
   "id": "85563ed4",
   "metadata": {},
   "outputs": [],
   "source": [
    "x_all, y_all = [], []\n",
    "\n",
    "for subject in range (2,8):\n",
    "    signals_df = pd.read_csv(f'processed_signals/00{p}.csv')#[-16200:]\n",
    "    pain_df = pd.read_csv(f'self_report/00{p}.csv')\n",
    "    # Hyper-parameters\n",
    "\n",
    "    window_duration=1.0\n",
    "    step_size=1.0\n",
    "\n",
    "\n",
    "    # Create dataset\n",
    "    dataset = BiomedicalPainDataset(\n",
    "        signals_df=signals_df,\n",
    "        pain_df=pain_df,\n",
    "        window_duration=window_duration,       # t-second windows\n",
    "        step_size=step_size,             # 1-second step\n",
    "        signal_columns=[\n",
    "                        #'accelerometer_x', 'accelerometer_y', 'accelerometer_z', \n",
    "                        #'gyroscope_x', 'gyroscope_y', 'gyroscope_z', \n",
    "                        'eda', 'bvp', 'temperature'],\n",
    "        bandpass_freqs=(0.5, 40),  # 0.5-40 Hz bandpass\n",
    "        freq_bands=[(0.5, 4), (4, 8), (8, 12), (12, 30), (30, 60)],  # Standard bands\n",
    "        resample_freq=100,         # 100 Hz resampling\n",
    "        apply_ica=False,            # Enable ICA\n",
    "        ica_components=4           # Extract 4 ICA components\n",
    "    )\n",
    "    # Create DataLoader\n",
    "    dataloader = torch.utils.data.DataLoader(\n",
    "        dataset,\n",
    "        batch_size=32,\n",
    "        shuffle=True,\n",
    "        #num_workers=4\n",
    "    )\n",
    "    # collect all data\n",
    "    x, y = [], []\n",
    "    for d in dataloader:\n",
    "        x.append(d[0])\n",
    "        y.append(d[1].to(torch.int64))\n",
    "        \n",
    "    x = torch.concat(x, dim=0)\n",
    "    y = torch.concat(y, dim=0)\n",
    "    # create weighted sampler for balanced sampling\n",
    "    # Compute class counts and weights\n",
    "    from torch.utils.data import DataLoader, TensorDataset, WeightedRandomSampler\n",
    "\n",
    "    class_sample_count = torch.bincount(y)\n",
    "    weights = 1. / class_sample_count.float()\n",
    "    sample_weights = weights[y]\n",
    "\n",
    "    # Create sampler\n",
    "    sampler = WeightedRandomSampler(weights=sample_weights,\n",
    "                                    num_samples=len(y),\n",
    "                                    replacement=False)\n",
    "\n",
    "    # Wrap into dataset and dataloader\n",
    "    dataset = TensorDataset(x, y)\n",
    "    dataloader = DataLoader(dataset, sampler=sampler, batch_size=32)\n",
    "    # recollect balanced data\n",
    "    \n",
    "    for _ in range(1):\n",
    "        for d in dataloader:\n",
    "            x_all.append(d[0])\n",
    "            y_all.append(d[1].to(torch.int64))\n",
    "            \n",
    "x_all = torch.concat(x_all, dim=0).numpy()\n",
    "y_all = torch.concat(y_all, dim=0).numpy()"
   ]
  },
  {
   "cell_type": "code",
   "execution_count": 266,
   "id": "b65897c0",
   "metadata": {},
   "outputs": [
    {
     "ename": "ValueError",
     "evalue": "Input X contains NaN.\nSVC does not accept missing values encoded as NaN natively. For supervised learning, you might want to consider sklearn.ensemble.HistGradientBoostingClassifier and Regressor which accept missing values encoded as NaNs natively. Alternatively, it is possible to preprocess the data, for instance by using an imputer transformer in a pipeline or drop samples with missing values. See https://scikit-learn.org/stable/modules/impute.html You can find a list of all estimators that handle NaN values at the following page: https://scikit-learn.org/stable/modules/impute.html#estimators-that-handle-nan-values",
     "output_type": "error",
     "traceback": [
      "\u001b[31m---------------------------------------------------------------------------\u001b[39m",
      "\u001b[31mValueError\u001b[39m                                Traceback (most recent call last)",
      "\u001b[36mCell\u001b[39m\u001b[36m \u001b[39m\u001b[32mIn[266]\u001b[39m\u001b[32m, line 37\u001b[39m\n\u001b[32m     35\u001b[39m     \u001b[38;5;28mprint\u001b[39m(\u001b[33m\"\u001b[39m\u001b[33m  Accuracy:\u001b[39m\u001b[33m\"\u001b[39m, balanced_accuracy_score(y_test_binary, y_pred))\n\u001b[32m     36\u001b[39m \u001b[38;5;28;01melse\u001b[39;00m:\n\u001b[32m---> \u001b[39m\u001b[32m37\u001b[39m     \u001b[43mmodel\u001b[49m\u001b[43m.\u001b[49m\u001b[43mfit\u001b[49m\u001b[43m(\u001b[49m\u001b[43mx_train\u001b[49m\u001b[43m,\u001b[49m\u001b[43m \u001b[49m\u001b[43my_train\u001b[49m\u001b[43m)\u001b[49m\n\u001b[32m     38\u001b[39m     y_pred = model.predict(x_test)\n\u001b[32m     39\u001b[39m     \u001b[38;5;28mprint\u001b[39m(\u001b[33mf\u001b[39m\u001b[33m\"\u001b[39m\u001b[33mSubject \u001b[39m\u001b[38;5;132;01m{\u001b[39;00msubject\u001b[38;5;132;01m}\u001b[39;00m\u001b[33m: window size=\u001b[39m\u001b[38;5;132;01m{\u001b[39;00mwindow_duration\u001b[38;5;132;01m}\u001b[39;00m\u001b[33m seconds; step size=\u001b[39m\u001b[38;5;132;01m{\u001b[39;00mstep_size\u001b[38;5;132;01m}\u001b[39;00m\u001b[33m seconds\u001b[39m\u001b[33m\"\u001b[39m)\n",
      "\u001b[36mFile \u001b[39m\u001b[32m~/Documents/PhD/PainAssessment/EmbracePlus/data/.venv/lib/python3.13/site-packages/sklearn/base.py:1389\u001b[39m, in \u001b[36m_fit_context.<locals>.decorator.<locals>.wrapper\u001b[39m\u001b[34m(estimator, *args, **kwargs)\u001b[39m\n\u001b[32m   1382\u001b[39m     estimator._validate_params()\n\u001b[32m   1384\u001b[39m \u001b[38;5;28;01mwith\u001b[39;00m config_context(\n\u001b[32m   1385\u001b[39m     skip_parameter_validation=(\n\u001b[32m   1386\u001b[39m         prefer_skip_nested_validation \u001b[38;5;129;01mor\u001b[39;00m global_skip_validation\n\u001b[32m   1387\u001b[39m     )\n\u001b[32m   1388\u001b[39m ):\n\u001b[32m-> \u001b[39m\u001b[32m1389\u001b[39m     \u001b[38;5;28;01mreturn\u001b[39;00m \u001b[43mfit_method\u001b[49m\u001b[43m(\u001b[49m\u001b[43mestimator\u001b[49m\u001b[43m,\u001b[49m\u001b[43m \u001b[49m\u001b[43m*\u001b[49m\u001b[43margs\u001b[49m\u001b[43m,\u001b[49m\u001b[43m \u001b[49m\u001b[43m*\u001b[49m\u001b[43m*\u001b[49m\u001b[43mkwargs\u001b[49m\u001b[43m)\u001b[49m\n",
      "\u001b[36mFile \u001b[39m\u001b[32m~/Documents/PhD/PainAssessment/EmbracePlus/data/.venv/lib/python3.13/site-packages/sklearn/svm/_base.py:197\u001b[39m, in \u001b[36mBaseLibSVM.fit\u001b[39m\u001b[34m(self, X, y, sample_weight)\u001b[39m\n\u001b[32m    195\u001b[39m     check_consistent_length(X, y)\n\u001b[32m    196\u001b[39m \u001b[38;5;28;01melse\u001b[39;00m:\n\u001b[32m--> \u001b[39m\u001b[32m197\u001b[39m     X, y = \u001b[43mvalidate_data\u001b[49m\u001b[43m(\u001b[49m\n\u001b[32m    198\u001b[39m \u001b[43m        \u001b[49m\u001b[38;5;28;43mself\u001b[39;49m\u001b[43m,\u001b[49m\n\u001b[32m    199\u001b[39m \u001b[43m        \u001b[49m\u001b[43mX\u001b[49m\u001b[43m,\u001b[49m\n\u001b[32m    200\u001b[39m \u001b[43m        \u001b[49m\u001b[43my\u001b[49m\u001b[43m,\u001b[49m\n\u001b[32m    201\u001b[39m \u001b[43m        \u001b[49m\u001b[43mdtype\u001b[49m\u001b[43m=\u001b[49m\u001b[43mnp\u001b[49m\u001b[43m.\u001b[49m\u001b[43mfloat64\u001b[49m\u001b[43m,\u001b[49m\n\u001b[32m    202\u001b[39m \u001b[43m        \u001b[49m\u001b[43morder\u001b[49m\u001b[43m=\u001b[49m\u001b[33;43m\"\u001b[39;49m\u001b[33;43mC\u001b[39;49m\u001b[33;43m\"\u001b[39;49m\u001b[43m,\u001b[49m\n\u001b[32m    203\u001b[39m \u001b[43m        \u001b[49m\u001b[43maccept_sparse\u001b[49m\u001b[43m=\u001b[49m\u001b[33;43m\"\u001b[39;49m\u001b[33;43mcsr\u001b[39;49m\u001b[33;43m\"\u001b[39;49m\u001b[43m,\u001b[49m\n\u001b[32m    204\u001b[39m \u001b[43m        \u001b[49m\u001b[43maccept_large_sparse\u001b[49m\u001b[43m=\u001b[49m\u001b[38;5;28;43;01mFalse\u001b[39;49;00m\u001b[43m,\u001b[49m\n\u001b[32m    205\u001b[39m \u001b[43m    \u001b[49m\u001b[43m)\u001b[49m\n\u001b[32m    207\u001b[39m y = \u001b[38;5;28mself\u001b[39m._validate_targets(y)\n\u001b[32m    209\u001b[39m sample_weight = np.asarray(\n\u001b[32m    210\u001b[39m     [] \u001b[38;5;28;01mif\u001b[39;00m sample_weight \u001b[38;5;129;01mis\u001b[39;00m \u001b[38;5;28;01mNone\u001b[39;00m \u001b[38;5;28;01melse\u001b[39;00m sample_weight, dtype=np.float64\n\u001b[32m    211\u001b[39m )\n",
      "\u001b[36mFile \u001b[39m\u001b[32m~/Documents/PhD/PainAssessment/EmbracePlus/data/.venv/lib/python3.13/site-packages/sklearn/utils/validation.py:2961\u001b[39m, in \u001b[36mvalidate_data\u001b[39m\u001b[34m(_estimator, X, y, reset, validate_separately, skip_check_array, **check_params)\u001b[39m\n\u001b[32m   2959\u001b[39m         y = check_array(y, input_name=\u001b[33m\"\u001b[39m\u001b[33my\u001b[39m\u001b[33m\"\u001b[39m, **check_y_params)\n\u001b[32m   2960\u001b[39m     \u001b[38;5;28;01melse\u001b[39;00m:\n\u001b[32m-> \u001b[39m\u001b[32m2961\u001b[39m         X, y = \u001b[43mcheck_X_y\u001b[49m\u001b[43m(\u001b[49m\u001b[43mX\u001b[49m\u001b[43m,\u001b[49m\u001b[43m \u001b[49m\u001b[43my\u001b[49m\u001b[43m,\u001b[49m\u001b[43m \u001b[49m\u001b[43m*\u001b[49m\u001b[43m*\u001b[49m\u001b[43mcheck_params\u001b[49m\u001b[43m)\u001b[49m\n\u001b[32m   2962\u001b[39m     out = X, y\n\u001b[32m   2964\u001b[39m \u001b[38;5;28;01mif\u001b[39;00m \u001b[38;5;129;01mnot\u001b[39;00m no_val_X \u001b[38;5;129;01mand\u001b[39;00m check_params.get(\u001b[33m\"\u001b[39m\u001b[33mensure_2d\u001b[39m\u001b[33m\"\u001b[39m, \u001b[38;5;28;01mTrue\u001b[39;00m):\n",
      "\u001b[36mFile \u001b[39m\u001b[32m~/Documents/PhD/PainAssessment/EmbracePlus/data/.venv/lib/python3.13/site-packages/sklearn/utils/validation.py:1370\u001b[39m, in \u001b[36mcheck_X_y\u001b[39m\u001b[34m(X, y, accept_sparse, accept_large_sparse, dtype, order, copy, force_writeable, force_all_finite, ensure_all_finite, ensure_2d, allow_nd, multi_output, ensure_min_samples, ensure_min_features, y_numeric, estimator)\u001b[39m\n\u001b[32m   1364\u001b[39m     \u001b[38;5;28;01mraise\u001b[39;00m \u001b[38;5;167;01mValueError\u001b[39;00m(\n\u001b[32m   1365\u001b[39m         \u001b[33mf\u001b[39m\u001b[33m\"\u001b[39m\u001b[38;5;132;01m{\u001b[39;00mestimator_name\u001b[38;5;132;01m}\u001b[39;00m\u001b[33m requires y to be passed, but the target y is None\u001b[39m\u001b[33m\"\u001b[39m\n\u001b[32m   1366\u001b[39m     )\n\u001b[32m   1368\u001b[39m ensure_all_finite = _deprecate_force_all_finite(force_all_finite, ensure_all_finite)\n\u001b[32m-> \u001b[39m\u001b[32m1370\u001b[39m X = \u001b[43mcheck_array\u001b[49m\u001b[43m(\u001b[49m\n\u001b[32m   1371\u001b[39m \u001b[43m    \u001b[49m\u001b[43mX\u001b[49m\u001b[43m,\u001b[49m\n\u001b[32m   1372\u001b[39m \u001b[43m    \u001b[49m\u001b[43maccept_sparse\u001b[49m\u001b[43m=\u001b[49m\u001b[43maccept_sparse\u001b[49m\u001b[43m,\u001b[49m\n\u001b[32m   1373\u001b[39m \u001b[43m    \u001b[49m\u001b[43maccept_large_sparse\u001b[49m\u001b[43m=\u001b[49m\u001b[43maccept_large_sparse\u001b[49m\u001b[43m,\u001b[49m\n\u001b[32m   1374\u001b[39m \u001b[43m    \u001b[49m\u001b[43mdtype\u001b[49m\u001b[43m=\u001b[49m\u001b[43mdtype\u001b[49m\u001b[43m,\u001b[49m\n\u001b[32m   1375\u001b[39m \u001b[43m    \u001b[49m\u001b[43morder\u001b[49m\u001b[43m=\u001b[49m\u001b[43morder\u001b[49m\u001b[43m,\u001b[49m\n\u001b[32m   1376\u001b[39m \u001b[43m    \u001b[49m\u001b[43mcopy\u001b[49m\u001b[43m=\u001b[49m\u001b[43mcopy\u001b[49m\u001b[43m,\u001b[49m\n\u001b[32m   1377\u001b[39m \u001b[43m    \u001b[49m\u001b[43mforce_writeable\u001b[49m\u001b[43m=\u001b[49m\u001b[43mforce_writeable\u001b[49m\u001b[43m,\u001b[49m\n\u001b[32m   1378\u001b[39m \u001b[43m    \u001b[49m\u001b[43mensure_all_finite\u001b[49m\u001b[43m=\u001b[49m\u001b[43mensure_all_finite\u001b[49m\u001b[43m,\u001b[49m\n\u001b[32m   1379\u001b[39m \u001b[43m    \u001b[49m\u001b[43mensure_2d\u001b[49m\u001b[43m=\u001b[49m\u001b[43mensure_2d\u001b[49m\u001b[43m,\u001b[49m\n\u001b[32m   1380\u001b[39m \u001b[43m    \u001b[49m\u001b[43mallow_nd\u001b[49m\u001b[43m=\u001b[49m\u001b[43mallow_nd\u001b[49m\u001b[43m,\u001b[49m\n\u001b[32m   1381\u001b[39m \u001b[43m    \u001b[49m\u001b[43mensure_min_samples\u001b[49m\u001b[43m=\u001b[49m\u001b[43mensure_min_samples\u001b[49m\u001b[43m,\u001b[49m\n\u001b[32m   1382\u001b[39m \u001b[43m    \u001b[49m\u001b[43mensure_min_features\u001b[49m\u001b[43m=\u001b[49m\u001b[43mensure_min_features\u001b[49m\u001b[43m,\u001b[49m\n\u001b[32m   1383\u001b[39m \u001b[43m    \u001b[49m\u001b[43mestimator\u001b[49m\u001b[43m=\u001b[49m\u001b[43mestimator\u001b[49m\u001b[43m,\u001b[49m\n\u001b[32m   1384\u001b[39m \u001b[43m    \u001b[49m\u001b[43minput_name\u001b[49m\u001b[43m=\u001b[49m\u001b[33;43m\"\u001b[39;49m\u001b[33;43mX\u001b[39;49m\u001b[33;43m\"\u001b[39;49m\u001b[43m,\u001b[49m\n\u001b[32m   1385\u001b[39m \u001b[43m\u001b[49m\u001b[43m)\u001b[49m\n\u001b[32m   1387\u001b[39m y = _check_y(y, multi_output=multi_output, y_numeric=y_numeric, estimator=estimator)\n\u001b[32m   1389\u001b[39m check_consistent_length(X, y)\n",
      "\u001b[36mFile \u001b[39m\u001b[32m~/Documents/PhD/PainAssessment/EmbracePlus/data/.venv/lib/python3.13/site-packages/sklearn/utils/validation.py:1107\u001b[39m, in \u001b[36mcheck_array\u001b[39m\u001b[34m(array, accept_sparse, accept_large_sparse, dtype, order, copy, force_writeable, force_all_finite, ensure_all_finite, ensure_non_negative, ensure_2d, allow_nd, ensure_min_samples, ensure_min_features, estimator, input_name)\u001b[39m\n\u001b[32m   1101\u001b[39m     \u001b[38;5;28;01mraise\u001b[39;00m \u001b[38;5;167;01mValueError\u001b[39;00m(\n\u001b[32m   1102\u001b[39m         \u001b[33m\"\u001b[39m\u001b[33mFound array with dim \u001b[39m\u001b[38;5;132;01m%d\u001b[39;00m\u001b[33m. \u001b[39m\u001b[38;5;132;01m%s\u001b[39;00m\u001b[33m expected <= 2.\u001b[39m\u001b[33m\"\u001b[39m\n\u001b[32m   1103\u001b[39m         % (array.ndim, estimator_name)\n\u001b[32m   1104\u001b[39m     )\n\u001b[32m   1106\u001b[39m \u001b[38;5;28;01mif\u001b[39;00m ensure_all_finite:\n\u001b[32m-> \u001b[39m\u001b[32m1107\u001b[39m     \u001b[43m_assert_all_finite\u001b[49m\u001b[43m(\u001b[49m\n\u001b[32m   1108\u001b[39m \u001b[43m        \u001b[49m\u001b[43marray\u001b[49m\u001b[43m,\u001b[49m\n\u001b[32m   1109\u001b[39m \u001b[43m        \u001b[49m\u001b[43minput_name\u001b[49m\u001b[43m=\u001b[49m\u001b[43minput_name\u001b[49m\u001b[43m,\u001b[49m\n\u001b[32m   1110\u001b[39m \u001b[43m        \u001b[49m\u001b[43mestimator_name\u001b[49m\u001b[43m=\u001b[49m\u001b[43mestimator_name\u001b[49m\u001b[43m,\u001b[49m\n\u001b[32m   1111\u001b[39m \u001b[43m        \u001b[49m\u001b[43mallow_nan\u001b[49m\u001b[43m=\u001b[49m\u001b[43mensure_all_finite\u001b[49m\u001b[43m \u001b[49m\u001b[43m==\u001b[49m\u001b[43m \u001b[49m\u001b[33;43m\"\u001b[39;49m\u001b[33;43mallow-nan\u001b[39;49m\u001b[33;43m\"\u001b[39;49m\u001b[43m,\u001b[49m\n\u001b[32m   1112\u001b[39m \u001b[43m    \u001b[49m\u001b[43m)\u001b[49m\n\u001b[32m   1114\u001b[39m \u001b[38;5;28;01mif\u001b[39;00m copy:\n\u001b[32m   1115\u001b[39m     \u001b[38;5;28;01mif\u001b[39;00m _is_numpy_namespace(xp):\n\u001b[32m   1116\u001b[39m         \u001b[38;5;66;03m# only make a copy if `array` and `array_orig` may share memory`\u001b[39;00m\n",
      "\u001b[36mFile \u001b[39m\u001b[32m~/Documents/PhD/PainAssessment/EmbracePlus/data/.venv/lib/python3.13/site-packages/sklearn/utils/validation.py:120\u001b[39m, in \u001b[36m_assert_all_finite\u001b[39m\u001b[34m(X, allow_nan, msg_dtype, estimator_name, input_name)\u001b[39m\n\u001b[32m    117\u001b[39m \u001b[38;5;28;01mif\u001b[39;00m first_pass_isfinite:\n\u001b[32m    118\u001b[39m     \u001b[38;5;28;01mreturn\u001b[39;00m\n\u001b[32m--> \u001b[39m\u001b[32m120\u001b[39m \u001b[43m_assert_all_finite_element_wise\u001b[49m\u001b[43m(\u001b[49m\n\u001b[32m    121\u001b[39m \u001b[43m    \u001b[49m\u001b[43mX\u001b[49m\u001b[43m,\u001b[49m\n\u001b[32m    122\u001b[39m \u001b[43m    \u001b[49m\u001b[43mxp\u001b[49m\u001b[43m=\u001b[49m\u001b[43mxp\u001b[49m\u001b[43m,\u001b[49m\n\u001b[32m    123\u001b[39m \u001b[43m    \u001b[49m\u001b[43mallow_nan\u001b[49m\u001b[43m=\u001b[49m\u001b[43mallow_nan\u001b[49m\u001b[43m,\u001b[49m\n\u001b[32m    124\u001b[39m \u001b[43m    \u001b[49m\u001b[43mmsg_dtype\u001b[49m\u001b[43m=\u001b[49m\u001b[43mmsg_dtype\u001b[49m\u001b[43m,\u001b[49m\n\u001b[32m    125\u001b[39m \u001b[43m    \u001b[49m\u001b[43mestimator_name\u001b[49m\u001b[43m=\u001b[49m\u001b[43mestimator_name\u001b[49m\u001b[43m,\u001b[49m\n\u001b[32m    126\u001b[39m \u001b[43m    \u001b[49m\u001b[43minput_name\u001b[49m\u001b[43m=\u001b[49m\u001b[43minput_name\u001b[49m\u001b[43m,\u001b[49m\n\u001b[32m    127\u001b[39m \u001b[43m\u001b[49m\u001b[43m)\u001b[49m\n",
      "\u001b[36mFile \u001b[39m\u001b[32m~/Documents/PhD/PainAssessment/EmbracePlus/data/.venv/lib/python3.13/site-packages/sklearn/utils/validation.py:169\u001b[39m, in \u001b[36m_assert_all_finite_element_wise\u001b[39m\u001b[34m(X, xp, allow_nan, msg_dtype, estimator_name, input_name)\u001b[39m\n\u001b[32m    152\u001b[39m \u001b[38;5;28;01mif\u001b[39;00m estimator_name \u001b[38;5;129;01mand\u001b[39;00m input_name == \u001b[33m\"\u001b[39m\u001b[33mX\u001b[39m\u001b[33m\"\u001b[39m \u001b[38;5;129;01mand\u001b[39;00m has_nan_error:\n\u001b[32m    153\u001b[39m     \u001b[38;5;66;03m# Improve the error message on how to handle missing values in\u001b[39;00m\n\u001b[32m    154\u001b[39m     \u001b[38;5;66;03m# scikit-learn.\u001b[39;00m\n\u001b[32m    155\u001b[39m     msg_err += (\n\u001b[32m    156\u001b[39m         \u001b[33mf\u001b[39m\u001b[33m\"\u001b[39m\u001b[38;5;130;01m\\n\u001b[39;00m\u001b[38;5;132;01m{\u001b[39;00mestimator_name\u001b[38;5;132;01m}\u001b[39;00m\u001b[33m does not accept missing values\u001b[39m\u001b[33m\"\u001b[39m\n\u001b[32m    157\u001b[39m         \u001b[33m\"\u001b[39m\u001b[33m encoded as NaN natively. For supervised learning, you might want\u001b[39m\u001b[33m\"\u001b[39m\n\u001b[32m   (...)\u001b[39m\u001b[32m    167\u001b[39m         \u001b[33m\"\u001b[39m\u001b[33m#estimators-that-handle-nan-values\u001b[39m\u001b[33m\"\u001b[39m\n\u001b[32m    168\u001b[39m     )\n\u001b[32m--> \u001b[39m\u001b[32m169\u001b[39m \u001b[38;5;28;01mraise\u001b[39;00m \u001b[38;5;167;01mValueError\u001b[39;00m(msg_err)\n",
      "\u001b[31mValueError\u001b[39m: Input X contains NaN.\nSVC does not accept missing values encoded as NaN natively. For supervised learning, you might want to consider sklearn.ensemble.HistGradientBoostingClassifier and Regressor which accept missing values encoded as NaNs natively. Alternatively, it is possible to preprocess the data, for instance by using an imputer transformer in a pipeline or drop samples with missing values. See https://scikit-learn.org/stable/modules/impute.html You can find a list of all estimators that handle NaN values at the following page: https://scikit-learn.org/stable/modules/impute.html#estimators-that-handle-nan-values"
     ]
    }
   ],
   "source": [
    "# train models\n",
    "from sklearn.model_selection import train_test_split\n",
    "from sklearn.svm import SVC\n",
    "from sklearn.ensemble import RandomForestClassifier, IsolationForest\n",
    "from xgboost import XGBClassifier\n",
    "from sklearn.metrics import f1_score, accuracy_score, balanced_accuracy_score, classification_report\n",
    "from sklearn.preprocessing import StandardScaler, MinMaxScaler, RobustScaler\n",
    "\n",
    "# Train-test split\n",
    "#x,y=x_all,y_all\n",
    "x_train, x_test, y_train, y_test = train_test_split(x, y, test_size=0.2, random_state=42, stratify=y)\n",
    "\n",
    "# Standardize features\n",
    "scaler = StandardScaler()\n",
    "x_train = scaler.fit_transform(x_train)\n",
    "x_test = scaler.transform(x_test)\n",
    "\n",
    "models = {\n",
    "    'SVM': SVC(kernel='rbf', probability=True, random_state=42),\n",
    "    'RandomForest': RandomForestClassifier(n_estimators=100, random_state=42),\n",
    "    'XGBoost': XGBClassifier(use_label_encoder=False, eval_metric='mlogloss', random_state=42),\n",
    "    'IsolationForest': IsolationForest(contamination='auto', random_state=42)  # Only for novelty detection\n",
    "}\n",
    "\n",
    "# Train and evaluate models\n",
    "for name, model in models.items():\n",
    "    if name == 'IsolationForest':\n",
    "        model.fit(x_train)\n",
    "        # Predict: normal = 1, outlier = -1\n",
    "        y_pred = model.predict(x_test)\n",
    "        y_pred = (y_pred == 1).astype(int)  # Binary classification (normal = 1)\n",
    "        y_test_binary = (y_test == y_test[0]).astype(int)  # Compare to one class\n",
    "        print(f\"{name} (vs class {y_test[0]})\")\n",
    "        print(\"  F1 Score:\", f1_score(y_test_binary, y_pred, average='binary'))\n",
    "        print(\"  Accuracy:\", balanced_accuracy_score(y_test_binary, y_pred))\n",
    "    else:\n",
    "        model.fit(x_train, y_train)\n",
    "        y_pred = model.predict(x_test)\n",
    "        print(f\"Subject {subject}: window size={window_duration} seconds; step size={step_size} seconds\")\n",
    "        print(f\"{name}\")\n",
    "        print(\"  F1 Score (macro):\", f1_score(y_test, y_pred, average='macro'))\n",
    "        print(\"  Accuracy:\", balanced_accuracy_score(y_test, y_pred))\n",
    "        print(\"  Class-wise report:\\n\", classification_report(y_test, y_pred, digits=3))\n",
    "        print()"
   ]
  },
  {
   "cell_type": "code",
   "execution_count": 74,
   "id": "197f46f3",
   "metadata": {},
   "outputs": [
    {
     "data": {
      "text/plain": [
       "np.int64(1512)"
      ]
     },
     "execution_count": 74,
     "metadata": {},
     "output_type": "execute_result"
    }
   ],
   "source": [
    "(y_test==1).sum()"
   ]
  },
  {
   "cell_type": "code",
   "execution_count": null,
   "id": "eacf27c7",
   "metadata": {},
   "outputs": [],
   "source": [
    "# Perform ANOVA\n",
    "f_values, p_values, significant = dataset.perform_anova(max_samples_per_class=500)"
   ]
  },
  {
   "cell_type": "code",
   "execution_count": 40,
   "id": "bc2de258",
   "metadata": {},
   "outputs": [],
   "source": [
    "my_func = np.vectorize(lambda x: x if x ==0 else 1 if 1<=x<=5 else 2)"
   ]
  },
  {
   "cell_type": "markdown",
   "id": "8e9ee2f3",
   "metadata": {},
   "source": [
    "# Data processing\n",
    "\n",
    "## 1. Sliding window\n",
    "\n",
    "- window size\n",
    "- window overlap\n",
    "\n",
    "## 2. Raw data\n",
    "\n",
    "### 1. synchronization/interpolation\n",
    "- Forward fill\n",
    "- Linear interpolation\n",
    "- B-spline\n",
    "\n",
    "## 3. Train-test split\n",
    "\n",
    "- random splitting (might have information leak)\n",
    "- split by pain stimulation mode\n",
    "- spit by subject (leave one subject out)\n",
    "\n",
    "\n",
    "# Data analysis\n",
    "\n",
    "## 1. Statistical analysis\n",
    "\n",
    "## 2. Machine Learning Models"
   ]
  },
  {
   "cell_type": "markdown",
   "id": "6ca34bef",
   "metadata": {},
   "source": []
  }
 ],
 "metadata": {
  "kernelspec": {
   "display_name": ".venv",
   "language": "python",
   "name": "python3"
  },
  "language_info": {
   "codemirror_mode": {
    "name": "ipython",
    "version": 3
   },
   "file_extension": ".py",
   "mimetype": "text/x-python",
   "name": "python",
   "nbconvert_exporter": "python",
   "pygments_lexer": "ipython3",
   "version": "3.13.2"
  }
 },
 "nbformat": 4,
 "nbformat_minor": 5
}
